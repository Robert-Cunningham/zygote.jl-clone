{
 "cells": [
  {
   "cell_type": "markdown",
   "id": "97c9834f",
   "metadata": {},
   "source": [
    "# Imports"
   ]
  },
  {
   "cell_type": "code",
   "execution_count": 1,
   "id": "ca42d456",
   "metadata": {},
   "outputs": [],
   "source": [
    "using Pkg"
   ]
  },
  {
   "cell_type": "code",
   "execution_count": 2,
   "id": "909ead8e",
   "metadata": {},
   "outputs": [
    {
     "name": "stderr",
     "output_type": "stream",
     "text": [
      "\u001b[32m\u001b[1m    Updating\u001b[22m\u001b[39m registry at `~/.julia/registries/General.toml`\n",
      "\u001b[32m\u001b[1m   Resolving\u001b[22m\u001b[39m package versions...\n",
      "\u001b[32m\u001b[1m  No Changes\u001b[22m\u001b[39m to `~/.julia/environments/v1.8/Project.toml`\n",
      "\u001b[32m\u001b[1m  No Changes\u001b[22m\u001b[39m to `~/.julia/environments/v1.8/Manifest.toml`\n",
      "\u001b[32m\u001b[1mPrecompiling\u001b[22m\u001b[39m project...\n",
      "\u001b[32m  ✓ \u001b[39mZygote\n",
      "\u001b[32m  ✓ \u001b[39mFlux\n",
      "  2 dependencies successfully precompiled in 15 seconds. 84 already precompiled.\n",
      "\u001b[32m\u001b[1m   Resolving\u001b[22m\u001b[39m package versions...\n",
      "\u001b[32m\u001b[1m  No Changes\u001b[22m\u001b[39m to `~/.julia/environments/v1.8/Project.toml`\n",
      "\u001b[32m\u001b[1m  No Changes\u001b[22m\u001b[39m to `~/.julia/environments/v1.8/Manifest.toml`\n",
      "\u001b[32m\u001b[1m   Resolving\u001b[22m\u001b[39m package versions...\n",
      "\u001b[32m\u001b[1m   Installed\u001b[22m\u001b[39m Zygote ─ v0.6.49\n",
      "\u001b[32m\u001b[1m    Updating\u001b[22m\u001b[39m `~/.julia/environments/v1.8/Project.toml`\n",
      " \u001b[90m [e88e6eb3] \u001b[39m\u001b[93m~ Zygote v0.6.47 `~/.julia/dev/Zygote` ⇒ v0.6.49\u001b[39m\n",
      "\u001b[32m\u001b[1m    Updating\u001b[22m\u001b[39m `~/.julia/environments/v1.8/Manifest.toml`\n",
      " \u001b[90m [e88e6eb3] \u001b[39m\u001b[93m~ Zygote v0.6.47 `~/.julia/dev/Zygote` ⇒ v0.6.49\u001b[39m\n",
      "\u001b[32m\u001b[1mPrecompiling\u001b[22m\u001b[39m project...\n",
      "\u001b[32m  ✓ \u001b[39mZygote\n",
      "\u001b[32m  ✓ \u001b[39mFlux\n",
      "  2 dependencies successfully precompiled in 15 seconds. 84 already precompiled.\n",
      "\u001b[32m\u001b[1m   Resolving\u001b[22m\u001b[39m package versions...\n",
      "\u001b[32m\u001b[1m  No Changes\u001b[22m\u001b[39m to `~/.julia/environments/v1.8/Project.toml`\n",
      "\u001b[32m\u001b[1m  No Changes\u001b[22m\u001b[39m to `~/.julia/environments/v1.8/Manifest.toml`\n",
      "\u001b[32m\u001b[1m   Resolving\u001b[22m\u001b[39m package versions...\n",
      "\u001b[32m\u001b[1m  No Changes\u001b[22m\u001b[39m to `~/.julia/environments/v1.8/Project.toml`\n",
      "\u001b[32m\u001b[1m  No Changes\u001b[22m\u001b[39m to `~/.julia/environments/v1.8/Manifest.toml`\n"
     ]
    }
   ],
   "source": [
    "Pkg.add(\"MacroTools\");\n",
    "Pkg.add(\"ChainRulesCore\");\n",
    "Pkg.add(\"Zygote\");\n",
    "Pkg.add(\"Revise\")\n",
    "Pkg.add(\"IRTools\")"
   ]
  },
  {
   "cell_type": "code",
   "execution_count": 15,
   "id": "e472328d",
   "metadata": {},
   "outputs": [],
   "source": [
    "using MacroTools: prewalk, postwalk\n",
    "using ChainRulesCore\n",
    "#using Zygote\n",
    "using IRTools\n",
    "using IRTools: func, var\n",
    "using Revise"
   ]
  },
  {
   "cell_type": "code",
   "execution_count": 4,
   "id": "209c7f0f",
   "metadata": {},
   "outputs": [
    {
     "name": "stderr",
     "output_type": "stream",
     "text": [
      "\u001b[32m\u001b[1m   Resolving\u001b[22m\u001b[39m package versions...\n",
      "\u001b[32m\u001b[1m    Updating\u001b[22m\u001b[39m `~/.julia/environments/v1.8/Project.toml`\n",
      " \u001b[90m [e88e6eb3] \u001b[39m\u001b[93m~ Zygote v0.6.49 ⇒ v0.6.47 `~/.julia/dev/Zygote`\u001b[39m\n",
      "\u001b[32m\u001b[1m    Updating\u001b[22m\u001b[39m `~/.julia/environments/v1.8/Manifest.toml`\n",
      " \u001b[90m [e88e6eb3] \u001b[39m\u001b[93m~ Zygote v0.6.49 ⇒ v0.6.47 `~/.julia/dev/Zygote`\u001b[39m\n"
     ]
    }
   ],
   "source": [
    "Pkg.develop(\"Zygote\")"
   ]
  },
  {
   "cell_type": "code",
   "execution_count": 2,
   "id": "638a5764",
   "metadata": {},
   "outputs": [],
   "source": [
    "using Zygote"
   ]
  },
  {
   "cell_type": "code",
   "execution_count": 5,
   "id": "1ad9fa2f",
   "metadata": {},
   "outputs": [],
   "source": [
    "#Zygote.gradient(a -> sin(a), 3)"
   ]
  },
  {
   "cell_type": "code",
   "execution_count": 6,
   "id": "9e539ef2",
   "metadata": {},
   "outputs": [],
   "source": [
    "#using Zygote"
   ]
  },
  {
   "cell_type": "code",
   "execution_count": 3,
   "id": "9f1f83ca",
   "metadata": {},
   "outputs": [
    {
     "data": {
      "text/plain": [
       "pow (generic function with 1 method)"
      ]
     },
     "execution_count": 3,
     "metadata": {},
     "output_type": "execute_result"
    }
   ],
   "source": [
    "function pow(b, p)\n",
    "    if p == 0\n",
    "        return 1\n",
    "    end\n",
    "    if p % 2 == 0\n",
    "        return pow(b ^ 2, p // 2)\n",
    "    end\n",
    "    p = p - 1\n",
    "    return b * pow(b, p) \n",
    "end"
   ]
  },
  {
   "cell_type": "code",
   "execution_count": 4,
   "id": "7997d9a0",
   "metadata": {},
   "outputs": [
    {
     "data": {
      "text/plain": [
       "1: (%1, %2, %3)\n",
       "  %4 = %3 == 0\n",
       "  br 2 unless %4\n",
       "  return 1\n",
       "2:\n",
       "  %5 = %3 % 2\n",
       "  %6 = %5 == 0\n",
       "  br 4 unless %6\n",
       "  br 3\n",
       "3:\n",
       "  %7 = Core.apply_type(Base.Val, 2)\n",
       "  %8 = (%7)()\n",
       "  %9 = Base.literal_pow(Main.:^, %2, %8)\n",
       "  %10 = %3 // 2\n",
       "  %11 = Main.pow(%9, %10)\n",
       "  return %11\n",
       "4:\n",
       "  %12 = %3 - 1\n",
       "  %13 = Main.pow(%2, %12)\n",
       "  %14 = %2 * %13\n",
       "  return %14"
      ]
     },
     "execution_count": 4,
     "metadata": {},
     "output_type": "execute_result"
    }
   ],
   "source": [
    "pow_ir = Zygote.@code_ir pow(3, 5)"
   ]
  },
  {
   "cell_type": "code",
   "execution_count": 6,
   "id": "fb13f003",
   "metadata": {},
   "outputs": [
    {
     "data": {
      "text/plain": [
       "IRTools.Inner.Statement(:(%3 % 2), Any, 3)"
      ]
     },
     "execution_count": 6,
     "metadata": {},
     "output_type": "execute_result"
    }
   ],
   "source": [
    "pow_ir[var(5)]"
   ]
  },
  {
   "cell_type": "code",
   "execution_count": 7,
   "id": "10e82a54",
   "metadata": {},
   "outputs": [
    {
     "data": {
      "text/plain": [
       "crc_test (generic function with 1 method)"
      ]
     },
     "execution_count": 7,
     "metadata": {},
     "output_type": "execute_result"
    }
   ],
   "source": [
    "function crc_test(x)\n",
    "    a = sin(x)\n",
    "    b = 3 + a\n",
    "    c = b^2 + a\n",
    "    return c\n",
    "end"
   ]
  },
  {
   "cell_type": "code",
   "execution_count": 8,
   "id": "bed52280",
   "metadata": {},
   "outputs": [
    {
     "data": {
      "text/plain": [
       "easy_test (generic function with 1 method)"
      ]
     },
     "execution_count": 8,
     "metadata": {},
     "output_type": "execute_result"
    }
   ],
   "source": []
  },
  {
   "cell_type": "code",
   "execution_count": 9,
   "id": "d104d18e",
   "metadata": {},
   "outputs": [
    {
     "data": {
      "text/plain": [
       "1: (%1, %2)\n",
       "  %3 = Main.sin(%2)\n",
       "  %4 = 3 + %3\n",
       "  %5 = Core.apply_type(Base.Val, 2)\n",
       "  %6 = (%5)()\n",
       "  %7 = Base.literal_pow(Main.:^, %4, %6)\n",
       "  %8 = %7 + %3\n",
       "  return %8"
      ]
     },
     "execution_count": 9,
     "metadata": {},
     "output_type": "execute_result"
    }
   ],
   "source": [
    "crc_ir = Zygote.@code_ir crc_test(3)"
   ]
  },
  {
   "cell_type": "code",
   "execution_count": 10,
   "id": "505a981d",
   "metadata": {},
   "outputs": [
    {
     "data": {
      "text/plain": [
       "Expr"
      ]
     },
     "execution_count": 10,
     "metadata": {},
     "output_type": "execute_result"
    }
   ],
   "source": [
    "typeof(crc_ir[var(5)].expr)"
   ]
  },
  {
   "cell_type": "code",
   "execution_count": 11,
   "id": "db866e2e",
   "metadata": {},
   "outputs": [
    {
     "data": {
      "text/plain": [
       "1: (%1, %2)\n",
       "  %3 = Main.sin(%2)\n",
       "  %4 = 3 + %3\n",
       "  %5 = Core.apply_type(Base.Val, 2)\n",
       "  %6 = (%5)()\n",
       "  %7 = Base.literal_pow(Main.:^, %4, %6)\n",
       "  %8 = %7 + %3\n",
       "  return %8"
      ]
     },
     "execution_count": 11,
     "metadata": {},
     "output_type": "execute_result"
    }
   ],
   "source": [
    "crc_ir"
   ]
  },
  {
   "cell_type": "code",
   "execution_count": 12,
   "id": "fe1fce2f",
   "metadata": {},
   "outputs": [],
   "source": [
    "#IRTools.insertafter!(crc_ir, var(8), :(println(\"Last\")))"
   ]
  },
  {
   "cell_type": "code",
   "execution_count": 13,
   "id": "457496df",
   "metadata": {},
   "outputs": [],
   "source": [
    "#typeof(crc_ir[var(3)].expr.args[2])"
   ]
  },
  {
   "cell_type": "code",
   "execution_count": 16,
   "id": "4b23a42f",
   "metadata": {},
   "outputs": [
    {
     "data": {
      "text/plain": [
       "%9"
      ]
     },
     "execution_count": 16,
     "metadata": {},
     "output_type": "execute_result"
    }
   ],
   "source": [
    "out = IRTools.insertafter!(crc_ir, var(8), IRTools.Statement(:($(var(4)) * $(var(8))), Any, 0))"
   ]
  },
  {
   "cell_type": "code",
   "execution_count": 17,
   "id": "be9450b4",
   "metadata": {},
   "outputs": [
    {
     "data": {
      "text/plain": [
       "%10"
      ]
     },
     "execution_count": 17,
     "metadata": {},
     "output_type": "execute_result"
    }
   ],
   "source": [
    "IRTools.insertafter!(crc_ir, out, :(println(\"intermediate\", $(out))))"
   ]
  },
  {
   "cell_type": "code",
   "execution_count": 18,
   "id": "fee7a75a",
   "metadata": {},
   "outputs": [],
   "source": [
    "#insert!(crc_ir, var(4), :(println(\"Hello World!\")))"
   ]
  },
  {
   "cell_type": "code",
   "execution_count": 19,
   "id": "93cb2fae",
   "metadata": {},
   "outputs": [
    {
     "data": {
      "text/plain": [
       "1: (%1, %2)\n",
       "  %3 = Main.sin(%2)\n",
       "  %4 = 3 + %3\n",
       "  %5 = Core.apply_type(Base.Val, 2)\n",
       "  %6 = (%5)()\n",
       "  %7 = Base.literal_pow(Main.:^, %4, %6)\n",
       "  %8 = %7 + %3\n",
       "  %9 = %4 * %8\n",
       "  %10 = println(\"intermediate\", %9)\n",
       "  return %8"
      ]
     },
     "execution_count": 19,
     "metadata": {},
     "output_type": "execute_result"
    }
   ],
   "source": [
    "crc_ir"
   ]
  },
  {
   "cell_type": "code",
   "execution_count": 20,
   "id": "ca3ac84a",
   "metadata": {},
   "outputs": [
    {
     "data": {
      "text/plain": [
       "##312 (generic function with 1 method)"
      ]
     },
     "execution_count": 20,
     "metadata": {},
     "output_type": "execute_result"
    }
   ],
   "source": [
    "crc_f = func(crc_ir)"
   ]
  },
  {
   "cell_type": "code",
   "execution_count": 21,
   "id": "13a0ee1c",
   "metadata": {},
   "outputs": [
    {
     "name": "stdout",
     "output_type": "stream",
     "text": [
      "intermediate31.435559193278646\n"
     ]
    },
    {
     "data": {
      "text/plain": [
       "10.007754913093887"
      ]
     },
     "execution_count": 21,
     "metadata": {},
     "output_type": "execute_result"
    }
   ],
   "source": [
    "crc_f(nothing, 3)"
   ]
  },
  {
   "cell_type": "code",
   "execution_count": 22,
   "id": "60f98a5f",
   "metadata": {},
   "outputs": [],
   "source": [
    "# z = x * y + sin(x)\n",
    "\n",
    "# a = sin(x)\n",
    "# b = x * y\n",
    "# z = a + b\n",
    "# return z\n",
    "\n",
    "# gz = 1\n",
    "# ga = 1\n",
    "# gb = 1\n",
    "# gx = y\n",
    "# gy = x\n",
    "\n",
    "# Starting from the end:\n",
    "# return z => gz = 1\n",
    "# z = a + b => ga += gz, gb += gz\n",
    "# b = x * y => gx += y * gb; gy += x * ga\n",
    "# a = sin(x) => gx += cos(x) * ga\n",
    "\n",
    "# so gx = y + cos(x); gy = x"
   ]
  },
  {
   "cell_type": "code",
   "execution_count": 256,
   "id": "265c1877",
   "metadata": {
    "scrolled": true
   },
   "outputs": [
    {
     "data": {
      "text/plain": [
       "differentiate (generic function with 1 method)"
      ]
     },
     "execution_count": 256,
     "metadata": {},
     "output_type": "execute_result"
    }
   ],
   "source": []
  },
  {
   "cell_type": "code",
   "execution_count": 257,
   "id": "0ad3477b",
   "metadata": {},
   "outputs": [
    {
     "name": "stdout",
     "output_type": "stream",
     "text": [
      "6 IRTools.Inner.Statement(:(%4 + %5), Any, 1) 4\n",
      "add\n",
      "5 IRTools.Inner.Statement(:(Main.sin(%2)), Any, 1) 8\n",
      "4 IRTools.Inner.Statement(:(%2 * %3), Any, 1) 12\n",
      "Dict{Any, Any}(%6 => %7, %3 => %21, %4 => %10, %5 => %11, %2 => %19)\n",
      "1: (%1, %2, %3)\n",
      "  %4 = %2 * %3\n",
      "  %5 = Main.sin(%2)\n",
      "  %6 = %4 + %5\n",
      "  %7 = 1\n",
      "  %8 = 0\n",
      "  %9 = 0\n",
      "  %10 = %8 + %7\n",
      "  %11 = %9 + %7\n",
      "  %12 = 0\n",
      "  %13 = cos(%2)\n",
      "  %14 = %11 * %13\n",
      "  %15 = %12 + %14\n",
      "  %16 = 0\n",
      "  %17 = 0\n",
      "  %18 = %10 * %3\n",
      "  %19 = %15 + %18\n",
      "  %20 = %10 * %2\n",
      "  %21 = %17 + %20\n",
      "  %22 = Core.tuple(%6, %19, %21)\n",
      "  return %22"
     ]
    },
    {
     "data": {
      "text/plain": [
       "##402 (generic function with 1 method)"
      ]
     },
     "execution_count": 257,
     "metadata": {},
     "output_type": "execute_result"
    }
   ],
   "source": [
    "c = differentiate(easy_test, 3, 5)"
   ]
  },
  {
   "cell_type": "code",
   "execution_count": 258,
   "id": "e711935f",
   "metadata": {},
   "outputs": [
    {
     "data": {
      "text/plain": [
       "(15.141120008059866, 4.010007503399555, 3)"
      ]
     },
     "execution_count": 258,
     "metadata": {},
     "output_type": "execute_result"
    }
   ],
   "source": [
    "c(nothing, 3, 5)"
   ]
  },
  {
   "cell_type": "code",
   "execution_count": 259,
   "id": "d97ca94e",
   "metadata": {},
   "outputs": [
    {
     "data": {
      "text/plain": [
       "15.141120008059866"
      ]
     },
     "execution_count": 259,
     "metadata": {},
     "output_type": "execute_result"
    }
   ],
   "source": [
    "easy_test(3, 5)"
   ]
  },
  {
   "cell_type": "code",
   "execution_count": 269,
   "id": "86011250",
   "metadata": {},
   "outputs": [
    {
     "data": {
      "text/plain": [
       "basic_condition (generic function with 1 method)"
      ]
     },
     "execution_count": 269,
     "metadata": {},
     "output_type": "execute_result"
    }
   ],
   "source": [
    "function basic_condition(a, b)\n",
    "    if a > b\n",
    "        return a + b\n",
    "    else\n",
    "        return a * b\n",
    "    end\n",
    "end"
   ]
  },
  {
   "cell_type": "code",
   "execution_count": 272,
   "id": "ab47d2b4",
   "metadata": {},
   "outputs": [
    {
     "data": {
      "text/plain": [
       "8"
      ]
     },
     "execution_count": 272,
     "metadata": {},
     "output_type": "execute_result"
    }
   ],
   "source": [
    "basic_condition(5, 3)"
   ]
  },
  {
   "cell_type": "code",
   "execution_count": 275,
   "id": "34bbebde",
   "metadata": {},
   "outputs": [
    {
     "data": {
      "text/plain": [
       "1: (%1, %2, %3)\n",
       "  %4 = %2 > %3\n",
       "  br 3 unless %4\n",
       "2:\n",
       "  %5 = %2 + %3\n",
       "  return %5\n",
       "3:\n",
       "  %6 = %2 * %3\n",
       "  return %6"
      ]
     },
     "execution_count": 275,
     "metadata": {},
     "output_type": "execute_result"
    }
   ],
   "source": [
    "cond_ir = (IRTools.@code_ir basic_condition(5, 3))"
   ]
  },
  {
   "cell_type": "code",
   "execution_count": 278,
   "id": "b2654b72",
   "metadata": {},
   "outputs": [
    {
     "data": {
      "text/plain": [
       "1: (%1, %2, %3)\n",
       "  %4 = %2 > %3\n",
       "  br 3 unless %4\n",
       "2:\n",
       "  %5 = %2 + %3\n",
       "  return %5\n",
       "3:\n",
       "  %6 = %2 * %3\n",
       "  return %6"
      ]
     },
     "execution_count": 278,
     "metadata": {},
     "output_type": "execute_result"
    }
   ],
   "source": [
    "cond_ir"
   ]
  },
  {
   "cell_type": "code",
   "execution_count": 184,
   "id": "e20f1dfd",
   "metadata": {},
   "outputs": [
    {
     "data": {
      "text/plain": [
       "1:"
      ]
     },
     "execution_count": 184,
     "metadata": {},
     "output_type": "execute_result"
    }
   ],
   "source": [
    "stripped_ir = IRTools.IR()"
   ]
  },
  {
   "cell_type": "code",
   "execution_count": 150,
   "id": "78040c68",
   "metadata": {},
   "outputs": [
    {
     "data": {
      "text/plain": [
       "1:\n",
       "  %1 = (1, 2, 3)\n",
       "  return %1"
      ]
     },
     "execution_count": 150,
     "metadata": {},
     "output_type": "execute_result"
    }
   ],
   "source": [
    "ov = IRTools.push!(stripped_ir, :(1, 2, 3))\n",
    "IRTools.return!(stripped_ir, ov)"
   ]
  },
  {
   "cell_type": "code",
   "execution_count": 152,
   "id": "3847fbff",
   "metadata": {
    "scrolled": true
   },
   "outputs": [
    {
     "name": "stderr",
     "output_type": "stream",
     "text": [
      "Internal error: encountered unexpected error during compilation of ##368:\n",
      "ErrorException(\"unsupported or misplaced expression \"tuple\" in function ##368\")\n",
      "ijl_errorf at /cache/build/default-amdci5-0/julialang/julia-release-1-dot-8/src/rtutils.c:77\n",
      "emit_expr at /cache/build/default-amdci5-0/julialang/julia-release-1-dot-8/src/codegen.cpp:5044\n",
      "emit_ssaval_assign at /cache/build/default-amdci5-0/julialang/julia-release-1-dot-8/src/codegen.cpp:4315\n",
      "emit_stmtpos at /cache/build/default-amdci5-0/julialang/julia-release-1-dot-8/src/codegen.cpp:4562 [inlined]\n",
      "emit_function at /cache/build/default-amdci5-0/julialang/julia-release-1-dot-8/src/codegen.cpp:7416\n",
      "jl_emit_code at /cache/build/default-amdci5-0/julialang/julia-release-1-dot-8/src/codegen.cpp:7778\n",
      "jl_emit_codeinst at /cache/build/default-amdci5-0/julialang/julia-release-1-dot-8/src/codegen.cpp:7823\n",
      "_jl_compile_codeinst at /cache/build/default-amdci5-0/julialang/julia-release-1-dot-8/src/jitlayers.cpp:119\n",
      "jl_generate_fptr_impl at /cache/build/default-amdci5-0/julialang/julia-release-1-dot-8/src/jitlayers.cpp:332\n",
      "jl_compile_method_internal at /cache/build/default-amdci5-0/julialang/julia-release-1-dot-8/src/gf.c:2081 [inlined]\n",
      "jl_compile_method_internal at /cache/build/default-amdci5-0/julialang/julia-release-1-dot-8/src/gf.c:2025\n",
      "_jl_invoke at /cache/build/default-amdci5-0/julialang/julia-release-1-dot-8/src/gf.c:2359 [inlined]\n",
      "ijl_apply_generic at /cache/build/default-amdci5-0/julialang/julia-release-1-dot-8/src/gf.c:2549\n",
      "jl_apply at /cache/build/default-amdci5-0/julialang/julia-release-1-dot-8/src/julia.h:1838 [inlined]\n",
      "do_call at /cache/build/default-amdci5-0/julialang/julia-release-1-dot-8/src/interpreter.c:126\n",
      "eval_value at /cache/build/default-amdci5-0/julialang/julia-release-1-dot-8/src/interpreter.c:215\n",
      "eval_stmt_value at /cache/build/default-amdci5-0/julialang/julia-release-1-dot-8/src/interpreter.c:166 [inlined]\n",
      "eval_body at /cache/build/default-amdci5-0/julialang/julia-release-1-dot-8/src/interpreter.c:612\n",
      "jl_interpret_toplevel_thunk at /cache/build/default-amdci5-0/julialang/julia-release-1-dot-8/src/interpreter.c:750\n",
      "top-level scope at In[152]:1\n",
      "jl_toplevel_eval_flex at /cache/build/default-amdci5-0/julialang/julia-release-1-dot-8/src/toplevel.c:906\n",
      "jl_toplevel_eval_flex at /cache/build/default-amdci5-0/julialang/julia-release-1-dot-8/src/toplevel.c:850\n",
      "ijl_toplevel_eval_in at /cache/build/default-amdci5-0/julialang/julia-release-1-dot-8/src/toplevel.c:965\n",
      "eval at ./boot.jl:368 [inlined]\n",
      "include_string at ./loading.jl:1428\n",
      "softscope_include_string at /home/robert/.julia/packages/SoftGlobalScope/u4UzH/src/SoftGlobalScope.jl:65\n",
      "_jl_invoke at /cache/build/default-amdci5-0/julialang/julia-release-1-dot-8/src/gf.c:2367 [inlined]\n",
      "ijl_apply_generic at /cache/build/default-amdci5-0/julialang/julia-release-1-dot-8/src/gf.c:2549\n",
      "execute_request at /home/robert/.julia/packages/IJulia/AQu2H/src/execute_request.jl:67\n",
      "unknown function (ip: 0x7f4dfd019ff6)\n",
      "_jl_invoke at /cache/build/default-amdci5-0/julialang/julia-release-1-dot-8/src/gf.c:2367 [inlined]\n",
      "ijl_apply_generic at /cache/build/default-amdci5-0/julialang/julia-release-1-dot-8/src/gf.c:2549\n",
      "jl_apply at /cache/build/default-amdci5-0/julialang/julia-release-1-dot-8/src/julia.h:1838 [inlined]\n",
      "jl_f__call_latest at /cache/build/default-amdci5-0/julialang/julia-release-1-dot-8/src/builtins.c:774\n",
      "#invokelatest#2 at ./essentials.jl:729 [inlined]\n",
      "invokelatest at ./essentials.jl:726 [inlined]\n",
      "eventloop at /home/robert/.julia/packages/IJulia/AQu2H/src/eventloop.jl:8\n",
      "#15 at ./task.jl:484\n",
      "unknown function (ip: 0x7f4dfcf9b30f)\n",
      "_jl_invoke at /cache/build/default-amdci5-0/julialang/julia-release-1-dot-8/src/gf.c:2367 [inlined]\n",
      "ijl_apply_generic at /cache/build/default-amdci5-0/julialang/julia-release-1-dot-8/src/gf.c:2549\n",
      "jl_apply at /cache/build/default-amdci5-0/julialang/julia-release-1-dot-8/src/julia.h:1838 [inlined]\n",
      "start_task at /cache/build/default-amdci5-0/julialang/julia-release-1-dot-8/src/task.c:931\n",
      "Internal error: encountered unexpected error during compilation of ##368:\n",
      "ErrorException(\"unsupported or misplaced expression \"tuple\" in function ##368\")\n",
      "ijl_errorf at /cache/build/default-amdci5-0/julialang/julia-release-1-dot-8/src/rtutils.c:77\n",
      "emit_expr at /cache/build/default-amdci5-0/julialang/julia-release-1-dot-8/src/codegen.cpp:5044\n",
      "emit_ssaval_assign at /cache/build/default-amdci5-0/julialang/julia-release-1-dot-8/src/codegen.cpp:4315\n",
      "emit_stmtpos at /cache/build/default-amdci5-0/julialang/julia-release-1-dot-8/src/codegen.cpp:4562 [inlined]\n",
      "emit_function at /cache/build/default-amdci5-0/julialang/julia-release-1-dot-8/src/codegen.cpp:7416\n",
      "jl_emit_code at /cache/build/default-amdci5-0/julialang/julia-release-1-dot-8/src/codegen.cpp:7778\n",
      "jl_emit_codeinst at /cache/build/default-amdci5-0/julialang/julia-release-1-dot-8/src/codegen.cpp:7823\n",
      "_jl_compile_codeinst at /cache/build/default-amdci5-0/julialang/julia-release-1-dot-8/src/jitlayers.cpp:119\n",
      "jl_generate_fptr_for_unspecialized_impl at /cache/build/default-amdci5-0/julialang/julia-release-1-dot-8/src/jitlayers.cpp:380\n",
      "jl_compile_method_internal at /cache/build/default-amdci5-0/julialang/julia-release-1-dot-8/src/gf.c:2094 [inlined]\n",
      "jl_compile_method_internal at /cache/build/default-amdci5-0/julialang/julia-release-1-dot-8/src/gf.c:2025\n",
      "_jl_invoke at /cache/build/default-amdci5-0/julialang/julia-release-1-dot-8/src/gf.c:2359 [inlined]\n",
      "ijl_apply_generic at /cache/build/default-amdci5-0/julialang/julia-release-1-dot-8/src/gf.c:2549\n",
      "jl_apply at /cache/build/default-amdci5-0/julialang/julia-release-1-dot-8/src/julia.h:1838 [inlined]\n",
      "do_call at /cache/build/default-amdci5-0/julialang/julia-release-1-dot-8/src/interpreter.c:126\n",
      "eval_value at /cache/build/default-amdci5-0/julialang/julia-release-1-dot-8/src/interpreter.c:215\n",
      "eval_stmt_value at /cache/build/default-amdci5-0/julialang/julia-release-1-dot-8/src/interpreter.c:166 [inlined]\n",
      "eval_body at /cache/build/default-amdci5-0/julialang/julia-release-1-dot-8/src/interpreter.c:612\n",
      "jl_interpret_toplevel_thunk at /cache/build/default-amdci5-0/julialang/julia-release-1-dot-8/src/interpreter.c:750\n",
      "top-level scope at In[152]:1\n",
      "jl_toplevel_eval_flex at /cache/build/default-amdci5-0/julialang/julia-release-1-dot-8/src/toplevel.c:906\n",
      "jl_toplevel_eval_flex at /cache/build/default-amdci5-0/julialang/julia-release-1-dot-8/src/toplevel.c:850\n",
      "ijl_toplevel_eval_in at /cache/build/default-amdci5-0/julialang/julia-release-1-dot-8/src/toplevel.c:965\n",
      "eval at ./boot.jl:368 [inlined]\n",
      "include_string at ./loading.jl:1428\n",
      "softscope_include_string at /home/robert/.julia/packages/SoftGlobalScope/u4UzH/src/SoftGlobalScope.jl:65\n",
      "_jl_invoke at /cache/build/default-amdci5-0/julialang/julia-release-1-dot-8/src/gf.c:2367 [inlined]\n",
      "ijl_apply_generic at /cache/build/default-amdci5-0/julialang/julia-release-1-dot-8/src/gf.c:2549\n",
      "execute_request at /home/robert/.julia/packages/IJulia/AQu2H/src/execute_request.jl:67\n",
      "unknown function (ip: 0x7f4dfd019ff6)\n",
      "_jl_invoke at /cache/build/default-amdci5-0/julialang/julia-release-1-dot-8/src/gf.c:2367 [inlined]\n",
      "ijl_apply_generic at /cache/build/default-amdci5-0/julialang/julia-release-1-dot-8/src/gf.c:2549\n",
      "jl_apply at /cache/build/default-amdci5-0/julialang/julia-release-1-dot-8/src/julia.h:1838 [inlined]\n",
      "jl_f__call_latest at /cache/build/default-amdci5-0/julialang/julia-release-1-dot-8/src/builtins.c:774\n",
      "#invokelatest#2 at ./essentials.jl:729 [inlined]\n",
      "invokelatest at ./essentials.jl:726 [inlined]\n",
      "eventloop at /home/robert/.julia/packages/IJulia/AQu2H/src/eventloop.jl:8\n",
      "#15 at ./task.jl:484\n",
      "unknown function (ip: 0x7f4dfcf9b30f)\n",
      "_jl_invoke at /cache/build/default-amdci5-0/julialang/julia-release-1-dot-8/src/gf.c:2367 [inlined]\n",
      "ijl_apply_generic at /cache/build/default-amdci5-0/julialang/julia-release-1-dot-8/src/gf.c:2549\n",
      "jl_apply at /cache/build/default-amdci5-0/julialang/julia-release-1-dot-8/src/julia.h:1838 [inlined]\n",
      "start_task at /cache/build/default-amdci5-0/julialang/julia-release-1-dot-8/src/task.c:931\n"
     ]
    },
    {
     "ename": "LoadError",
     "evalue": "unsupported or misplaced expression tuple",
     "output_type": "error",
     "traceback": [
      "unsupported or misplaced expression tuple",
      "",
      "Stacktrace:",
      " [1] var\"##368\"()",
      "   @ IRTools.Inner ~/.julia/packages/IRTools/017wp/src/eval.jl:18",
      " [2] top-level scope",
      "   @ In[152]:1",
      " [3] eval",
      "   @ ./boot.jl:368 [inlined]",
      " [4] include_string(mapexpr::typeof(REPL.softscope), mod::Module, code::String, filename::String)",
      "   @ Base ./loading.jl:1428"
     ]
    }
   ],
   "source": [
    "func(stripped_ir)()"
   ]
  },
  {
   "cell_type": "code",
   "execution_count": 157,
   "id": "286950bd",
   "metadata": {},
   "outputs": [
    {
     "data": {
      "text/plain": [
       "list (generic function with 1 method)"
      ]
     },
     "execution_count": 157,
     "metadata": {},
     "output_type": "execute_result"
    }
   ],
   "source": [
    "function list(a, b)\n",
    "    out = (a, b)\n",
    "    return out\n",
    "end"
   ]
  },
  {
   "cell_type": "code",
   "execution_count": 202,
   "id": "7c76b256",
   "metadata": {},
   "outputs": [
    {
     "data": {
      "text/plain": [
       "list (generic function with 1 method)"
      ]
     },
     "execution_count": 202,
     "metadata": {},
     "output_type": "execute_result"
    }
   ],
   "source": [
    "function list(a, b)\n",
    "    return (a, b)\n",
    "end"
   ]
  },
  {
   "cell_type": "code",
   "execution_count": 226,
   "id": "546284e4",
   "metadata": {},
   "outputs": [
    {
     "data": {
      "text/plain": [
       "1: (%1, %2, %3)\n",
       "  %4 = Core.tuple(%2, %3)\n",
       "  return %4"
      ]
     },
     "execution_count": 226,
     "metadata": {},
     "output_type": "execute_result"
    }
   ],
   "source": [
    "list_ir = (IRTools.@code_ir list(3, 5))"
   ]
  },
  {
   "cell_type": "code",
   "execution_count": 246,
   "id": "0f72d508",
   "metadata": {},
   "outputs": [
    {
     "data": {
      "text/plain": [
       "IRTools.Inner.Statement(:(Core.tuple(%1, %3)), Any, 0)"
      ]
     },
     "execution_count": 246,
     "metadata": {},
     "output_type": "execute_result"
    }
   ],
   "source": [
    "list_ir[var(4)] = IRTools.Inner.Statement(:($(GlobalRef(Core, :tuple))($(var(1)), $(var(3)))))"
   ]
  },
  {
   "cell_type": "code",
   "execution_count": 247,
   "id": "f929a0a2",
   "metadata": {},
   "outputs": [
    {
     "data": {
      "text/plain": [
       "1: (%1, %2, %3)\n",
       "  %4 = Core.tuple(%1, %3)\n",
       "  return %4"
      ]
     },
     "execution_count": 247,
     "metadata": {},
     "output_type": "execute_result"
    }
   ],
   "source": [
    "list_ir"
   ]
  },
  {
   "cell_type": "code",
   "execution_count": 245,
   "id": "2e56b84d",
   "metadata": {},
   "outputs": [
    {
     "data": {
      "text/plain": [
       ":(Core.tuple)"
      ]
     },
     "execution_count": 245,
     "metadata": {},
     "output_type": "execute_result"
    }
   ],
   "source": [
    "GlobalRef(Core, :tuple)"
   ]
  },
  {
   "cell_type": "code",
   "execution_count": 248,
   "id": "f2c786fa",
   "metadata": {
    "scrolled": true
   },
   "outputs": [
    {
     "name": "stdout",
     "output_type": "stream",
     "text": [
      "IRTools.Inner.IR\n",
      "  defs: Array{Tuple{Int64, Int64}}((4,))\n",
      "    1: Tuple{Int64, Int64}\n",
      "      1: Int64 1\n",
      "      2: Int64 -1\n",
      "    2: Tuple{Int64, Int64}\n",
      "      1: Int64 1\n",
      "      2: Int64 -2\n",
      "    3: Tuple{Int64, Int64}\n",
      "      1: Int64 1\n",
      "      2: Int64 -3\n",
      "    4: Tuple{Int64, Int64}\n",
      "      1: Int64 1\n",
      "      2: Int64 1\n",
      "  blocks: Array{IRTools.Inner.BasicBlock}((1,))\n",
      "    1: IRTools.Inner.BasicBlock\n",
      "      stmts: Array{IRTools.Inner.Statement}((1,))\n",
      "        1: IRTools.Inner.Statement\n",
      "          expr: Expr\n",
      "            head: Symbol call\n",
      "            args: Array{Any}((3,))\n",
      "              1: GlobalRef\n",
      "                mod: Module Core\n",
      "                name: Symbol tuple\n",
      "              2: IRTools.Inner.Variable\n",
      "                id: Int64 1\n",
      "              3: IRTools.Inner.Variable\n",
      "                id: Int64 3\n",
      "          type: Any\n",
      "          line: Int64 0\n",
      "      args: Array{Any}((3,))\n",
      "        1: IRTools.Inner.Variable\n",
      "          id: Int64 1\n",
      "        2: IRTools.Inner.Variable\n",
      "          id: Int64 2\n",
      "        3: IRTools.Inner.Variable\n",
      "          id: Int64 3\n",
      "      argtypes: Array{Any}((3,))\n",
      "        1: Any\n",
      "        2: Any\n",
      "        3: Any\n",
      "      branches: Array{IRTools.Inner.Branch}((1,))\n",
      "        1: IRTools.Inner.Branch\n",
      "          condition: Nothing nothing\n",
      "          block: Int64 0\n",
      "          args: Array{Any}((1,))\n",
      "            1: IRTools.Inner.Variable\n",
      "              id: Int64 4\n",
      "  lines: Array{Core.LineInfoNode}((1,))\n",
      "    1: Core.LineInfoNode\n",
      "      module: Module Main\n",
      "      method: Symbol list\n",
      "      file: Symbol In[202]\n",
      "      line: Int64 2\n",
      "      inlined_at: Int64 0\n",
      "  meta: IRTools.Inner.Meta\n",
      "    method: Method\n",
      "      name: Symbol list\n",
      "      module: Module Main\n",
      "      file: Symbol In[202]\n",
      "      line: Int32 1\n",
      "      primary_world: UInt64 0x0000000000007f40\n",
      "      deleted_world: UInt64 0xffffffffffffffff\n",
      "      sig: Tuple{typeof(list), Any, Any} <: Any\n",
      "      specializations: SimpleVector\n",
      "        1: Core.MethodInstance\n",
      "          def: Method#= circular reference @-2 =#\n",
      "          specTypes: Tuple{typeof(list), Int64, Int64} <: Any\n",
      "          sparam_vals: empty SimpleVector\n",
      "          uninferred: #undef\n",
      "          backedges: Array{Any}((2,))\n",
      "            1: Core.MethodInstance\n",
      "              def: Method\n",
      "                name: Symbol ##384\n",
      "                module: Module IRTools.Inner\n",
      "                file: Symbol /home/robert/.julia/packages/IRTools/017wp/src/eval.jl\n",
      "                line: Int32 18\n",
      "                primary_world: UInt64 0x0000000000007f44\n",
      "                deleted_world: UInt64 0xffffffffffffffff\n",
      "                sig: Tuple{IRTools.Inner.var\"###384\", Any, Any, Any} <: Any\n",
      "                specializations: SimpleVector\n",
      "                speckeyset: Array{UInt8}((32,)) UInt8[0x00, 0x00, 0x00, 0x00, 0x00, 0x00, 0x00, 0x00, 0x00, 0x00  …  0x00, 0x00, 0x00, 0x00, 0x00, 0x00, 0x00, 0x00, 0x00, 0x00]\n",
      "                slot_syms: String \"#self#\\0arg1\\0arg2\\0arg3\\0\"\n",
      "                external_mt: #undef\n",
      "                source: #undef\n",
      "                unspecialized: #undef\n",
      "                generator: Core.GeneratedFunctionStub\n",
      "                roots: Array{Any}((5,))\n",
      "                root_blocks: #undef\n",
      "                nroots_sysimg: Int32 0\n",
      "                ccallable: #undef\n",
      "                invokes: #undef\n",
      "                recursion_relation: #undef\n",
      "                nargs: Int32 4\n",
      "                called: Int32 0\n",
      "                nospecialize: Int32 -1\n",
      "                nkw: Int32 0\n",
      "                isva: Bool false\n",
      "                pure: Bool false\n",
      "                is_for_opaque_closure: Bool false\n",
      "                constprop: UInt8 0x00\n",
      "                purity: UInt8 0x00\n",
      "              specTypes: Tuple{IRTools.Inner.var\"###384\", Nothing, Int64, Int64} <: Any\n",
      "              sparam_vals: empty SimpleVector\n",
      "              uninferred: #undef\n",
      "              backedges: #undef\n",
      "              callbacks: #undef\n",
      "              cache: Core.CodeInstance\n",
      "                def: Core.MethodInstance\n",
      "                next: #undef\n",
      "                min_world: UInt64 0x0000000000000001\n",
      "                max_world: UInt64 0xffffffffffffffff\n",
      "                rettype: Tuple{Int64, Int64} <: Any\n",
      "                rettype_const: #undef\n",
      "                inferred: Array{UInt8}((73,)) UInt8[0x0c, 0x00, 0x04, 0x00, 0x00, 0x00, 0x00, 0x00, 0x00, 0x00  …  0x6c, 0x66, 0x23, 0x00, 0x00, 0x00, 0x00, 0x01, 0x00, 0x00]\n",
      "                ipo_purity_bits: UInt32 0x00000155\n",
      "                purity_bits: UInt32 0x00000155\n",
      "                argescapes: Nothing nothing\n",
      "                isspecsig: Bool true\n",
      "                precompile: Bool true\n",
      "                invoke: Ptr{Nothing} @0x00007f4dec3acc50\n",
      "                specptr: Ptr{Nothing} @0x00007f4dec3acc40\n",
      "                relocatability: UInt8 0x00\n",
      "              inInference: Bool false\n",
      "              precompiled: Bool false\n",
      "            2: Core.MethodInstance\n",
      "              def: Method\n",
      "                name: Symbol ##386\n",
      "                module: Module IRTools.Inner\n",
      "                file: Symbol /home/robert/.julia/packages/IRTools/017wp/src/eval.jl\n",
      "                line: Int32 18\n",
      "                primary_world: UInt64 0x0000000000007f46\n",
      "                deleted_world: UInt64 0xffffffffffffffff\n",
      "                sig: Tuple{IRTools.Inner.var\"###386\", Any, Any, Any} <: Any\n",
      "                specializations: SimpleVector\n",
      "                speckeyset: Array{UInt8}((32,)) UInt8[0x00, 0x00, 0x00, 0x00, 0x00, 0x00, 0x00, 0x00, 0x00, 0x00  …  0x00, 0x00, 0x00, 0x00, 0x00, 0x00, 0x00, 0x00, 0x00, 0x00]\n",
      "                slot_syms: String \"#self#\\0arg1\\0arg2\\0arg3\\0\"\n",
      "                external_mt: #undef\n",
      "                source: #undef\n",
      "                unspecialized: #undef\n",
      "                generator: Core.GeneratedFunctionStub\n",
      "                roots: Array{Any}((5,))\n",
      "                root_blocks: #undef\n",
      "                nroots_sysimg: Int32 0\n",
      "                ccallable: #undef\n",
      "                invokes: #undef\n",
      "                recursion_relation: #undef\n",
      "                nargs: Int32 4\n",
      "                called: Int32 0\n",
      "                nospecialize: Int32 -1\n",
      "                nkw: Int32 0\n",
      "                isva: Bool false\n",
      "                pure: Bool false\n",
      "                is_for_opaque_closure: Bool false\n",
      "                constprop: UInt8 0x00\n",
      "                purity: UInt8 0x00\n",
      "              specTypes: Tuple{IRTools.Inner.var\"###386\", Nothing, Int64, Int64} <: Any\n",
      "              sparam_vals: empty SimpleVector\n",
      "              uninferred: #undef\n",
      "              backedges: #undef\n",
      "              callbacks: #undef\n",
      "              cache: Core.CodeInstance\n",
      "                def: Core.MethodInstance\n",
      "                next: #undef\n",
      "                min_world: UInt64 0x0000000000000001\n",
      "                max_world: UInt64 0xffffffffffffffff\n",
      "                rettype: Tuple{Int64, Int64} <: Any\n",
      "                rettype_const: #undef\n",
      "                inferred: Array{UInt8}((73,)) UInt8[0x0c, 0x00, 0x04, 0x00, 0x00, 0x00, 0x00, 0x00, 0x00, 0x00  …  0x6c, 0x66, 0x23, 0x00, 0x00, 0x00, 0x00, 0x01, 0x00, 0x00]\n",
      "                ipo_purity_bits: UInt32 0x00000155\n",
      "                purity_bits: UInt32 0x00000155\n",
      "                argescapes: Nothing nothing\n",
      "                isspecsig: Bool true\n",
      "                precompile: Bool true\n",
      "                invoke: Ptr{Nothing} @0x00007f4dec3accf0\n",
      "                specptr: Ptr{Nothing} @0x00007f4dec3acce0\n",
      "                relocatability: UInt8 0x00\n",
      "              inInference: Bool false\n",
      "              precompiled: Bool false\n",
      "          callbacks: #undef\n",
      "          cache: #undef\n",
      "          inInference: Bool false\n",
      "          precompiled: Bool false\n",
      "        2: Nothing nothing\n",
      "        3: Nothing nothing\n",
      "        4: Nothing nothing\n",
      "        5: Nothing nothing\n",
      "        6: Nothing nothing\n",
      "        7: Nothing nothing\n",
      "        8: Nothing nothing\n",
      "      speckeyset: Array{UInt8}((32,)) UInt8[0x00, 0x00, 0x00, 0x00, 0x00, 0x00, 0x00, 0x00, 0x00, 0x00  …  0x00, 0x00, 0x00, 0x00, 0x00, 0x00, 0x00, 0x00, 0x00, 0x00]\n",
      "      slot_syms: String \"#self#\\0a\\0b\\0\"\n",
      "      external_mt: #undef\n",
      "      source: Array{UInt8}((50,)) UInt8[0x00, 0x00, 0x03, 0x00, 0x00, 0x00, 0x00, 0x08, 0x08, 0x16  …  0x11, 0x00, 0x11, 0x01, 0xc2, 0xc0, 0x3e, 0x01, 0x01, 0x00]\n",
      "      unspecialized: #undef\n",
      "      generator: #undef\n",
      "      roots: Array{Any}((2,))\n",
      "        1: Symbol list\n",
      "        2: Symbol In[202]\n",
      "      root_blocks: #undef\n",
      "      nroots_sysimg: Int32 0\n",
      "      ccallable: #undef\n",
      "      invokes: #undef\n",
      "      recursion_relation: #undef\n",
      "      nargs: Int32 3\n",
      "      called: Int32 0\n",
      "      nospecialize: Int32 0\n",
      "      nkw: Int32 0\n",
      "      isva: Bool false\n",
      "      pure: Bool false\n",
      "      is_for_opaque_closure: Bool false\n",
      "      constprop: UInt8 0x00\n",
      "      purity: UInt8 0x00\n",
      "    instance: Core.MethodInstance\n",
      "      def: Method\n",
      "        name: Symbol list\n",
      "        module: Module Main\n",
      "        file: Symbol In[202]\n",
      "        line: Int32 1\n",
      "        primary_world: UInt64 0x0000000000007f40\n",
      "        deleted_world: UInt64 0xffffffffffffffff\n",
      "        sig: Tuple{typeof(list), Any, Any} <: Any\n",
      "        specializations: SimpleVector\n",
      "          1: Core.MethodInstance#= circular reference @-2 =#\n",
      "          2: Nothing nothing\n",
      "          3: Nothing nothing\n",
      "          4: Nothing nothing\n",
      "          5: Nothing nothing\n",
      "          6: Nothing nothing\n",
      "          7: Nothing nothing\n",
      "          8: Nothing nothing\n",
      "        speckeyset: Array{UInt8}((32,)) UInt8[0x00, 0x00, 0x00, 0x00, 0x00, 0x00, 0x00, 0x00, 0x00, 0x00  …  0x00, 0x00, 0x00, 0x00, 0x00, 0x00, 0x00, 0x00, 0x00, 0x00]\n",
      "        slot_syms: String \"#self#\\0a\\0b\\0\"\n",
      "        external_mt: #undef\n",
      "        source: Array{UInt8}((50,)) UInt8[0x00, 0x00, 0x03, 0x00, 0x00, 0x00, 0x00, 0x08, 0x08, 0x16  …  0x11, 0x00, 0x11, 0x01, 0xc2, 0xc0, 0x3e, 0x01, 0x01, 0x00]\n",
      "        unspecialized: #undef\n",
      "        generator: #undef\n",
      "        roots: Array{Any}((2,))\n",
      "          1: Symbol list\n",
      "          2: Symbol In[202]\n",
      "        root_blocks: #undef\n",
      "        nroots_sysimg: Int32 0\n",
      "        ccallable: #undef\n",
      "        invokes: #undef\n",
      "        recursion_relation: #undef\n",
      "        nargs: Int32 3\n",
      "        called: Int32 0\n",
      "        nospecialize: Int32 0\n",
      "        nkw: Int32 0\n",
      "        isva: Bool false\n",
      "        pure: Bool false\n",
      "        is_for_opaque_closure: Bool false\n",
      "        constprop: UInt8 0x00\n",
      "        purity: UInt8 0x00\n",
      "      specTypes: Tuple{typeof(list), Int64, Int64} <: Any\n",
      "      sparam_vals: empty SimpleVector\n",
      "      uninferred: #undef\n",
      "      backedges: Array{Any}((2,))\n",
      "        1: Core.MethodInstance\n"
     ]
    },
    {
     "name": "stdout",
     "output_type": "stream",
     "text": [
      "          def: Method\n",
      "            name: Symbol ##384\n",
      "            module: Module IRTools.Inner\n",
      "            file: Symbol /home/robert/.julia/packages/IRTools/017wp/src/eval.jl\n",
      "            line: Int32 18\n",
      "            primary_world: UInt64 0x0000000000007f44\n",
      "            deleted_world: UInt64 0xffffffffffffffff\n",
      "            sig: Tuple{IRTools.Inner.var\"###384\", Any, Any, Any} <: Any\n",
      "            specializations: SimpleVector\n",
      "              1: Core.MethodInstance#= circular reference @-2 =#\n",
      "              2: Nothing nothing\n",
      "              3: Nothing nothing\n",
      "              4: Nothing nothing\n",
      "              5: Nothing nothing\n",
      "              6: Nothing nothing\n",
      "              7: Nothing nothing\n",
      "              8: Nothing nothing\n",
      "            speckeyset: Array{UInt8}((32,)) UInt8[0x00, 0x00, 0x00, 0x00, 0x00, 0x00, 0x00, 0x00, 0x00, 0x00  …  0x00, 0x00, 0x00, 0x00, 0x00, 0x00, 0x00, 0x00, 0x00, 0x00]\n",
      "            slot_syms: String \"#self#\\0arg1\\0arg2\\0arg3\\0\"\n",
      "            external_mt: #undef\n",
      "            source: #undef\n",
      "            unspecialized: #undef\n",
      "            generator: Core.GeneratedFunctionStub\n",
      "              gen: #s82#320 (function of type IRTools.Inner.var\"##s82#320\")\n",
      "              argnames: Array{Any}((4,))\n",
      "                1: Symbol #self#\n",
      "                2: Symbol arg1\n",
      "                3: Symbol arg2\n",
      "                4: Symbol arg3\n",
      "              spnames: Nothing nothing\n",
      "              line: Int64 18\n",
      "              file: Symbol /home/robert/.julia/packages/IRTools/017wp/src/eval.jl\n",
      "              expand_early: Bool false\n",
      "            roots: Array{Any}((5,))\n",
      "              1: Tuple{Int64, Int64} <: Any\n",
      "              2: Method\n",
      "                name: Symbol list\n",
      "                module: Module Main\n",
      "                file: Symbol In[202]\n",
      "                line: Int32 1\n",
      "                primary_world: UInt64 0x0000000000007f40\n",
      "                deleted_world: UInt64 0xffffffffffffffff\n",
      "                sig: Tuple{typeof(list), Any, Any} <: Any\n",
      "                specializations: SimpleVector\n",
      "                speckeyset: Array{UInt8}((32,)) UInt8[0x00, 0x00, 0x00, 0x00, 0x00, 0x00, 0x00, 0x00, 0x00, 0x00  …  0x00, 0x00, 0x00, 0x00, 0x00, 0x00, 0x00, 0x00, 0x00, 0x00]\n",
      "                slot_syms: String \"#self#\\0a\\0b\\0\"\n",
      "                external_mt: #undef\n",
      "                source: Array{UInt8}((50,)) UInt8[0x00, 0x00, 0x03, 0x00, 0x00, 0x00, 0x00, 0x08, 0x08, 0x16  …  0x11, 0x00, 0x11, 0x01, 0xc2, 0xc0, 0x3e, 0x01, 0x01, 0x00]\n",
      "                unspecialized: #undef\n",
      "                generator: #undef\n",
      "                roots: Array{Any}((2,))\n",
      "                root_blocks: #undef\n",
      "                nroots_sysimg: Int32 0\n",
      "                ccallable: #undef\n",
      "                invokes: #undef\n",
      "                recursion_relation: #undef\n",
      "                nargs: Int32 3\n",
      "                called: Int32 0\n",
      "                nospecialize: Int32 0\n",
      "                nkw: Int32 0\n",
      "                isva: Bool false\n",
      "                pure: Bool false\n",
      "                is_for_opaque_closure: Bool false\n",
      "                constprop: UInt8 0x00\n",
      "                purity: UInt8 0x00\n",
      "              3: Module Main\n",
      "              4: Symbol ##384\n",
      "              5: Symbol In[202]\n",
      "            root_blocks: #undef\n",
      "            nroots_sysimg: Int32 0\n",
      "            ccallable: #undef\n",
      "            invokes: #undef\n",
      "            recursion_relation: #undef\n",
      "            nargs: Int32 4\n",
      "            called: Int32 0\n",
      "            nospecialize: Int32 -1\n",
      "            nkw: Int32 0\n",
      "            isva: Bool false\n",
      "            pure: Bool false\n",
      "            is_for_opaque_closure: Bool false\n",
      "            constprop: UInt8 0x00\n",
      "            purity: UInt8 0x00\n",
      "          specTypes: Tuple{IRTools.Inner.var\"###384\", Nothing, Int64, Int64} <: Any\n",
      "          sparam_vals: empty SimpleVector\n",
      "          uninferred: #undef\n",
      "          backedges: #undef\n",
      "          callbacks: #undef\n",
      "          cache: Core.CodeInstance\n",
      "            def: Core.MethodInstance#= circular reference @-2 =#\n",
      "            next: #undef\n",
      "            min_world: UInt64 0x0000000000000001\n",
      "            max_world: UInt64 0xffffffffffffffff\n",
      "            rettype: Tuple{Int64, Int64} <: Any\n",
      "            rettype_const: #undef\n",
      "            inferred: Array{UInt8}((73,)) UInt8[0x0c, 0x00, 0x04, 0x00, 0x00, 0x00, 0x00, 0x00, 0x00, 0x00  …  0x6c, 0x66, 0x23, 0x00, 0x00, 0x00, 0x00, 0x01, 0x00, 0x00]\n",
      "            ipo_purity_bits: UInt32 0x00000155\n",
      "            purity_bits: UInt32 0x00000155\n",
      "            argescapes: Nothing nothing\n",
      "            isspecsig: Bool true\n",
      "            precompile: Bool true\n",
      "            invoke: Ptr{Nothing} @0x00007f4dec3acc50\n",
      "            specptr: Ptr{Nothing} @0x00007f4dec3acc40\n",
      "            relocatability: UInt8 0x00\n",
      "          inInference: Bool false\n",
      "          precompiled: Bool false\n",
      "        2: Core.MethodInstance\n",
      "          def: Method\n",
      "            name: Symbol ##386\n",
      "            module: Module IRTools.Inner\n",
      "            file: Symbol /home/robert/.julia/packages/IRTools/017wp/src/eval.jl\n",
      "            line: Int32 18\n",
      "            primary_world: UInt64 0x0000000000007f46\n",
      "            deleted_world: UInt64 0xffffffffffffffff\n",
      "            sig: Tuple{IRTools.Inner.var\"###386\", Any, Any, Any} <: Any\n",
      "            specializations: SimpleVector\n",
      "              1: Core.MethodInstance#= circular reference @-2 =#\n",
      "              2: Nothing nothing\n",
      "              3: Nothing nothing\n",
      "              4: Nothing nothing\n",
      "              5: Nothing nothing\n",
      "              6: Nothing nothing\n",
      "              7: Nothing nothing\n",
      "              8: Nothing nothing\n",
      "            speckeyset: Array{UInt8}((32,)) UInt8[0x00, 0x00, 0x00, 0x00, 0x00, 0x00, 0x00, 0x00, 0x00, 0x00  …  0x00, 0x00, 0x00, 0x00, 0x00, 0x00, 0x00, 0x00, 0x00, 0x00]\n",
      "            slot_syms: String \"#self#\\0arg1\\0arg2\\0arg3\\0\"\n",
      "            external_mt: #undef\n",
      "            source: #undef\n",
      "            unspecialized: #undef\n",
      "            generator: Core.GeneratedFunctionStub\n",
      "              gen: #s85#321 (function of type IRTools.Inner.var\"##s85#321\")\n",
      "              argnames: Array{Any}((4,))\n",
      "                1: Symbol #self#\n",
      "                2: Symbol arg1\n",
      "                3: Symbol arg2\n",
      "                4: Symbol arg3\n",
      "              spnames: Nothing nothing\n",
      "              line: Int64 18\n",
      "              file: Symbol /home/robert/.julia/packages/IRTools/017wp/src/eval.jl\n",
      "              expand_early: Bool false\n",
      "            roots: Array{Any}((5,))\n",
      "              1: Tuple{Int64, Int64} <: Any\n",
      "              2: Method\n",
      "                name: Symbol list\n",
      "                module: Module Main\n",
      "                file: Symbol In[202]\n",
      "                line: Int32 1\n",
      "                primary_world: UInt64 0x0000000000007f40\n",
      "                deleted_world: UInt64 0xffffffffffffffff\n",
      "                sig: Tuple{typeof(list), Any, Any} <: Any\n",
      "                specializations: SimpleVector\n",
      "                speckeyset: Array{UInt8}((32,)) UInt8[0x00, 0x00, 0x00, 0x00, 0x00, 0x00, 0x00, 0x00, 0x00, 0x00  …  0x00, 0x00, 0x00, 0x00, 0x00, 0x00, 0x00, 0x00, 0x00, 0x00]\n",
      "                slot_syms: String \"#self#\\0a\\0b\\0\"\n",
      "                external_mt: #undef\n",
      "                source: Array{UInt8}((50,)) UInt8[0x00, 0x00, 0x03, 0x00, 0x00, 0x00, 0x00, 0x08, 0x08, 0x16  …  0x11, 0x00, 0x11, 0x01, 0xc2, 0xc0, 0x3e, 0x01, 0x01, 0x00]\n",
      "                unspecialized: #undef\n",
      "                generator: #undef\n",
      "                roots: Array{Any}((2,))\n",
      "                root_blocks: #undef\n",
      "                nroots_sysimg: Int32 0\n",
      "                ccallable: #undef\n",
      "                invokes: #undef\n",
      "                recursion_relation: #undef\n",
      "                nargs: Int32 3\n",
      "                called: Int32 0\n",
      "                nospecialize: Int32 0\n",
      "                nkw: Int32 0\n",
      "                isva: Bool false\n",
      "                pure: Bool false\n",
      "                is_for_opaque_closure: Bool false\n",
      "                constprop: UInt8 0x00\n",
      "                purity: UInt8 0x00\n",
      "              3: Module Main\n",
      "              4: Symbol ##386\n",
      "              5: Symbol In[202]\n",
      "            root_blocks: #undef\n",
      "            nroots_sysimg: Int32 0\n",
      "            ccallable: #undef\n",
      "            invokes: #undef\n",
      "            recursion_relation: #undef\n",
      "            nargs: Int32 4\n",
      "            called: Int32 0\n",
      "            nospecialize: Int32 -1\n",
      "            nkw: Int32 0\n",
      "            isva: Bool false\n",
      "            pure: Bool false\n",
      "            is_for_opaque_closure: Bool false\n",
      "            constprop: UInt8 0x00\n",
      "            purity: UInt8 0x00\n",
      "          specTypes: Tuple{IRTools.Inner.var\"###386\", Nothing, Int64, Int64} <: Any\n",
      "          sparam_vals: empty SimpleVector\n",
      "          uninferred: #undef\n",
      "          backedges: #undef\n",
      "          callbacks: #undef\n",
      "          cache: Core.CodeInstance\n",
      "            def: Core.MethodInstance#= circular reference @-2 =#\n",
      "            next: #undef\n",
      "            min_world: UInt64 0x0000000000000001\n",
      "            max_world: UInt64 0xffffffffffffffff\n",
      "            rettype: Tuple{Int64, Int64} <: Any\n",
      "            rettype_const: #undef\n",
      "            inferred: Array{UInt8}((73,)) UInt8[0x0c, 0x00, 0x04, 0x00, 0x00, 0x00, 0x00, 0x00, 0x00, 0x00  …  0x6c, 0x66, 0x23, 0x00, 0x00, 0x00, 0x00, 0x01, 0x00, 0x00]\n",
      "            ipo_purity_bits: UInt32 0x00000155\n",
      "            purity_bits: UInt32 0x00000155\n",
      "            argescapes: Nothing nothing\n",
      "            isspecsig: Bool true\n",
      "            precompile: Bool true\n",
      "            invoke: Ptr{Nothing} @0x00007f4dec3accf0\n",
      "            specptr: Ptr{Nothing} @0x00007f4dec3acce0\n",
      "            relocatability: UInt8 0x00\n",
      "          inInference: Bool false\n",
      "          precompiled: Bool false\n",
      "      callbacks: #undef\n",
      "      cache: #undef\n",
      "      inInference: Bool false\n",
      "      precompiled: Bool false\n",
      "    code: Core.CodeInfo\n",
      "      code: Array{Any}((2,))\n",
      "        1: Expr\n",
      "          head: Symbol call\n",
      "          args: Array{Any}((3,))\n",
      "            1: GlobalRef\n",
      "              mod: Module Core\n",
      "              name: Symbol tuple\n",
      "            2: Core.SlotNumber\n",
      "              id: Int64 2\n",
      "            3: Core.SlotNumber\n",
      "              id: Int64 3\n",
      "        2: Core.ReturnNode\n",
      "          val: Core.SSAValue\n",
      "            id: Int64 1\n",
      "      codelocs: Array{Int32}((2,)) Int32[1, 1]\n",
      "      ssavaluetypes: Int64 2\n",
      "      ssaflags: Array{UInt8}((2,)) UInt8[0x00, 0x00]\n",
      "      method_for_inference_limit_heuristics: Nothing nothing\n",
      "      linetable: Array{Any}((1,))\n",
      "        1: Core.LineInfoNode\n",
      "          module: Module Main\n",
      "          method: Symbol list\n"
     ]
    },
    {
     "name": "stdout",
     "output_type": "stream",
     "text": [
      "          file: Symbol In[202]\n",
      "          line: Int64 2\n",
      "          inlined_at: Int64 0\n",
      "      slotnames: Array{Symbol}((3,))\n",
      "        1: Symbol #self#\n",
      "        2: Symbol a\n",
      "        3: Symbol b\n",
      "      slotflags: Array{UInt8}((3,)) UInt8[0x00, 0x08, 0x08]\n",
      "      slottypes: Nothing nothing\n",
      "      rettype: Any\n",
      "      parent: Nothing nothing\n",
      "      edges: Nothing nothing\n",
      "      min_world: UInt64 0x0000000000000001\n",
      "      max_world: UInt64 0xffffffffffffffff\n",
      "      inferred: Bool false\n",
      "      inlineable: Bool false\n",
      "      propagate_inbounds: Bool false\n",
      "      pure: Bool false\n",
      "      constprop: UInt8 0x00\n",
      "      purity: UInt8 0x00\n",
      "    nargs: Int64 3\n",
      "    sparams: empty SimpleVector\n"
     ]
    }
   ],
   "source": [
    "original = dump(list_ir)"
   ]
  },
  {
   "cell_type": "code",
   "execution_count": 249,
   "id": "ec487e19",
   "metadata": {},
   "outputs": [
    {
     "data": {
      "text/plain": [
       "(nothing, 5)"
      ]
     },
     "execution_count": 249,
     "metadata": {},
     "output_type": "execute_result"
    }
   ],
   "source": [
    "func(list_ir)(nothing, 3, 5)"
   ]
  },
  {
   "cell_type": "code",
   "execution_count": 169,
   "id": "8931203c",
   "metadata": {},
   "outputs": [
    {
     "data": {
      "text/plain": [
       "IRTools.Inner.Statement(:(Core.tuple(%2, %3)), Any, 0)"
      ]
     },
     "execution_count": 169,
     "metadata": {},
     "output_type": "execute_result"
    }
   ],
   "source": [
    "IRTools.Inner.Statement(:(Core.tuple($(var(2)), $(var(3)))))"
   ]
  },
  {
   "cell_type": "code",
   "execution_count": 201,
   "id": "01a50f7a",
   "metadata": {},
   "outputs": [
    {
     "name": "stderr",
     "output_type": "stream",
     "text": [
      "Internal error: encountered unexpected error in runtime:\n",
      "AssertionError(msg=\"argextype only works on argument-position values\")\n",
      "argextype at ./compiler/optimize.jl:353\n",
      "argextype at ./compiler/optimize.jl:335 [inlined]\n",
      "argextype at ./compiler/optimize.jl:335 [inlined]\n",
      "call_sig at ./compiler/ssair/inlining.jl:950\n",
      "process_simple! at ./compiler/ssair/inlining.jl:1120\n",
      "assemble_inline_todo! at ./compiler/ssair/inlining.jl:1359\n",
      "ssa_inlining_pass! at ./compiler/ssair/inlining.jl:82\n",
      "jfptr_ssa_inlining_passNOT._19267.clone_1 at /home/robert/.julia/juliaup/julia-1.8.1+0.x64/lib/julia/sys.so (unknown line)\n",
      "_jl_invoke at /cache/build/default-amdci5-0/julialang/julia-release-1-dot-8/src/gf.c:2367 [inlined]\n",
      "ijl_apply_generic at /cache/build/default-amdci5-0/julialang/julia-release-1-dot-8/src/gf.c:2549\n",
      "run_passes at ./compiler/optimize.jl:539\n",
      "optimize at ./compiler/optimize.jl:504 [inlined]\n",
      "_typeinf at ./compiler/typeinfer.jl:257\n",
      "typeinf at ./compiler/typeinfer.jl:213\n",
      "typeinf_ext at ./compiler/typeinfer.jl:967\n",
      "typeinf_ext_toplevel at ./compiler/typeinfer.jl:1000\n",
      "typeinf_ext_toplevel at ./compiler/typeinfer.jl:996\n",
      "jfptr_typeinf_ext_toplevel_18807.clone_1 at /home/robert/.julia/juliaup/julia-1.8.1+0.x64/lib/julia/sys.so (unknown line)\n",
      "_jl_invoke at /cache/build/default-amdci5-0/julialang/julia-release-1-dot-8/src/gf.c:2367 [inlined]\n",
      "ijl_apply_generic at /cache/build/default-amdci5-0/julialang/julia-release-1-dot-8/src/gf.c:2549\n",
      "jl_apply at /cache/build/default-amdci5-0/julialang/julia-release-1-dot-8/src/julia.h:1838 [inlined]\n",
      "jl_type_infer at /cache/build/default-amdci5-0/julialang/julia-release-1-dot-8/src/gf.c:319\n",
      "jl_generate_fptr_impl at /cache/build/default-amdci5-0/julialang/julia-release-1-dot-8/src/jitlayers.cpp:319\n",
      "jl_compile_method_internal at /cache/build/default-amdci5-0/julialang/julia-release-1-dot-8/src/gf.c:2081 [inlined]\n",
      "jl_compile_method_internal at /cache/build/default-amdci5-0/julialang/julia-release-1-dot-8/src/gf.c:2025\n",
      "_jl_invoke at /cache/build/default-amdci5-0/julialang/julia-release-1-dot-8/src/gf.c:2359 [inlined]\n",
      "ijl_apply_generic at /cache/build/default-amdci5-0/julialang/julia-release-1-dot-8/src/gf.c:2549\n",
      "jl_apply at /cache/build/default-amdci5-0/julialang/julia-release-1-dot-8/src/julia.h:1838 [inlined]\n",
      "do_call at /cache/build/default-amdci5-0/julialang/julia-release-1-dot-8/src/interpreter.c:126\n",
      "eval_value at /cache/build/default-amdci5-0/julialang/julia-release-1-dot-8/src/interpreter.c:215\n",
      "eval_stmt_value at /cache/build/default-amdci5-0/julialang/julia-release-1-dot-8/src/interpreter.c:166 [inlined]\n",
      "eval_body at /cache/build/default-amdci5-0/julialang/julia-release-1-dot-8/src/interpreter.c:612\n",
      "jl_interpret_toplevel_thunk at /cache/build/default-amdci5-0/julialang/julia-release-1-dot-8/src/interpreter.c:750\n",
      "top-level scope at In[201]:3\n",
      "jl_toplevel_eval_flex at /cache/build/default-amdci5-0/julialang/julia-release-1-dot-8/src/toplevel.c:906\n",
      "jl_toplevel_eval_flex at /cache/build/default-amdci5-0/julialang/julia-release-1-dot-8/src/toplevel.c:850\n",
      "ijl_toplevel_eval_in at /cache/build/default-amdci5-0/julialang/julia-release-1-dot-8/src/toplevel.c:965\n",
      "eval at ./boot.jl:368 [inlined]\n",
      "include_string at ./loading.jl:1428\n",
      "softscope_include_string at /home/robert/.julia/packages/SoftGlobalScope/u4UzH/src/SoftGlobalScope.jl:65\n",
      "_jl_invoke at /cache/build/default-amdci5-0/julialang/julia-release-1-dot-8/src/gf.c:2367 [inlined]\n",
      "ijl_apply_generic at /cache/build/default-amdci5-0/julialang/julia-release-1-dot-8/src/gf.c:2549\n",
      "execute_request at /home/robert/.julia/packages/IJulia/AQu2H/src/execute_request.jl:67\n",
      "unknown function (ip: 0x7f4dfd019ff6)\n",
      "_jl_invoke at /cache/build/default-amdci5-0/julialang/julia-release-1-dot-8/src/gf.c:2367 [inlined]\n",
      "ijl_apply_generic at /cache/build/default-amdci5-0/julialang/julia-release-1-dot-8/src/gf.c:2549\n",
      "jl_apply at /cache/build/default-amdci5-0/julialang/julia-release-1-dot-8/src/julia.h:1838 [inlined]\n",
      "jl_f__call_latest at /cache/build/default-amdci5-0/julialang/julia-release-1-dot-8/src/builtins.c:774\n",
      "#invokelatest#2 at ./essentials.jl:729 [inlined]\n",
      "invokelatest at ./essentials.jl:726 [inlined]\n",
      "eventloop at /home/robert/.julia/packages/IJulia/AQu2H/src/eventloop.jl:8\n",
      "#15 at ./task.jl:484\n",
      "unknown function (ip: 0x7f4dfcf9b30f)\n",
      "_jl_invoke at /cache/build/default-amdci5-0/julialang/julia-release-1-dot-8/src/gf.c:2367 [inlined]\n",
      "ijl_apply_generic at /cache/build/default-amdci5-0/julialang/julia-release-1-dot-8/src/gf.c:2549\n",
      "jl_apply at /cache/build/default-amdci5-0/julialang/julia-release-1-dot-8/src/julia.h:1838 [inlined]\n",
      "start_task at /cache/build/default-amdci5-0/julialang/julia-release-1-dot-8/src/task.c:931\n",
      "Internal error: encountered unexpected error during compilation of ##380:\n",
      "ErrorException(\"unsupported or misplaced expression \".\" in function ##380\")\n",
      "ijl_errorf at /cache/build/default-amdci5-0/julialang/julia-release-1-dot-8/src/rtutils.c:77\n",
      "emit_expr at /cache/build/default-amdci5-0/julialang/julia-release-1-dot-8/src/codegen.cpp:5044\n",
      "emit_call at /cache/build/default-amdci5-0/julialang/julia-release-1-dot-8/src/codegen.cpp:3813\n",
      "emit_expr at /cache/build/default-amdci5-0/julialang/julia-release-1-dot-8/src/codegen.cpp:4741\n",
      "emit_ssaval_assign at /cache/build/default-amdci5-0/julialang/julia-release-1-dot-8/src/codegen.cpp:4315\n",
      "emit_stmtpos at /cache/build/default-amdci5-0/julialang/julia-release-1-dot-8/src/codegen.cpp:4562 [inlined]\n",
      "emit_function at /cache/build/default-amdci5-0/julialang/julia-release-1-dot-8/src/codegen.cpp:7416\n",
      "jl_emit_code at /cache/build/default-amdci5-0/julialang/julia-release-1-dot-8/src/codegen.cpp:7778\n",
      "jl_emit_codeinst at /cache/build/default-amdci5-0/julialang/julia-release-1-dot-8/src/codegen.cpp:7823\n",
      "_jl_compile_codeinst at /cache/build/default-amdci5-0/julialang/julia-release-1-dot-8/src/jitlayers.cpp:119\n",
      "jl_generate_fptr_for_unspecialized_impl at /cache/build/default-amdci5-0/julialang/julia-release-1-dot-8/src/jitlayers.cpp:380\n",
      "jl_compile_method_internal at /cache/build/default-amdci5-0/julialang/julia-release-1-dot-8/src/gf.c:2094 [inlined]\n",
      "jl_compile_method_internal at /cache/build/default-amdci5-0/julialang/julia-release-1-dot-8/src/gf.c:2025\n",
      "_jl_invoke at /cache/build/default-amdci5-0/julialang/julia-release-1-dot-8/src/gf.c:2359 [inlined]\n",
      "ijl_apply_generic at /cache/build/default-amdci5-0/julialang/julia-release-1-dot-8/src/gf.c:2549\n",
      "jl_apply at /cache/build/default-amdci5-0/julialang/julia-release-1-dot-8/src/julia.h:1838 [inlined]\n",
      "do_call at /cache/build/default-amdci5-0/julialang/julia-release-1-dot-8/src/interpreter.c:126\n",
      "eval_value at /cache/build/default-amdci5-0/julialang/julia-release-1-dot-8/src/interpreter.c:215\n",
      "eval_stmt_value at /cache/build/default-amdci5-0/julialang/julia-release-1-dot-8/src/interpreter.c:166 [inlined]\n",
      "eval_body at /cache/build/default-amdci5-0/julialang/julia-release-1-dot-8/src/interpreter.c:612\n",
      "jl_interpret_toplevel_thunk at /cache/build/default-amdci5-0/julialang/julia-release-1-dot-8/src/interpreter.c:750\n",
      "top-level scope at In[201]:3\n",
      "jl_toplevel_eval_flex at /cache/build/default-amdci5-0/julialang/julia-release-1-dot-8/src/toplevel.c:906\n",
      "jl_toplevel_eval_flex at /cache/build/default-amdci5-0/julialang/julia-release-1-dot-8/src/toplevel.c:850\n",
      "ijl_toplevel_eval_in at /cache/build/default-amdci5-0/julialang/julia-release-1-dot-8/src/toplevel.c:965\n",
      "eval at ./boot.jl:368 [inlined]\n",
      "include_string at ./loading.jl:1428\n",
      "softscope_include_string at /home/robert/.julia/packages/SoftGlobalScope/u4UzH/src/SoftGlobalScope.jl:65\n",
      "_jl_invoke at /cache/build/default-amdci5-0/julialang/julia-release-1-dot-8/src/gf.c:2367 [inlined]\n",
      "ijl_apply_generic at /cache/build/default-amdci5-0/julialang/julia-release-1-dot-8/src/gf.c:2549\n",
      "execute_request at /home/robert/.julia/packages/IJulia/AQu2H/src/execute_request.jl:67\n",
      "unknown function (ip: 0x7f4dfd019ff6)\n",
      "_jl_invoke at /cache/build/default-amdci5-0/julialang/julia-release-1-dot-8/src/gf.c:2367 [inlined]\n",
      "ijl_apply_generic at /cache/build/default-amdci5-0/julialang/julia-release-1-dot-8/src/gf.c:2549\n",
      "jl_apply at /cache/build/default-amdci5-0/julialang/julia-release-1-dot-8/src/julia.h:1838 [inlined]\n",
      "jl_f__call_latest at /cache/build/default-amdci5-0/julialang/julia-release-1-dot-8/src/builtins.c:774\n",
      "#invokelatest#2 at ./essentials.jl:729 [inlined]\n",
      "invokelatest at ./essentials.jl:726 [inlined]\n",
      "eventloop at /home/robert/.julia/packages/IJulia/AQu2H/src/eventloop.jl:8\n",
      "#15 at ./task.jl:484\n",
      "unknown function (ip: 0x7f4dfcf9b30f)\n",
      "_jl_invoke at /cache/build/default-amdci5-0/julialang/julia-release-1-dot-8/src/gf.c:2367 [inlined]\n",
      "ijl_apply_generic at /cache/build/default-amdci5-0/julialang/julia-release-1-dot-8/src/gf.c:2549\n",
      "jl_apply at /cache/build/default-amdci5-0/julialang/julia-release-1-dot-8/src/julia.h:1838 [inlined]\n",
      "start_task at /cache/build/default-amdci5-0/julialang/julia-release-1-dot-8/src/task.c:931\n"
     ]
    },
    {
     "ename": "LoadError",
     "evalue": "unsupported or misplaced expression .",
     "output_type": "error",
     "traceback": [
      "unsupported or misplaced expression .",
      "",
      "Stacktrace:",
      " [1] var\"##380\"(arg1::Nothing, arg2::Int64, arg3::Int64)",
      "   @ IRTools.Inner ~/.julia/packages/IRTools/017wp/src/eval.jl:18",
      " [2] top-level scope",
      "   @ In[201]:3",
      " [3] eval",
      "   @ ./boot.jl:368 [inlined]",
      " [4] include_string(mapexpr::typeof(REPL.softscope), mod::Module, code::String, filename::String)",
      "   @ Base ./loading.jl:1428"
     ]
    }
   ],
   "source": [
    "list_ir[var(4)] = IRTools.Inner.Statement(:(Core.tuple($(var(2)), $(var(3)))))\n",
    "list_id = func(list_ir)\n",
    "list_id(nothing, 2, 4)"
   ]
  },
  {
   "cell_type": "code",
   "execution_count": 189,
   "id": "52ea61ec",
   "metadata": {},
   "outputs": [
    {
     "data": {
      "text/plain": [
       "notlist (generic function with 1 method)"
      ]
     },
     "execution_count": 189,
     "metadata": {},
     "output_type": "execute_result"
    }
   ],
   "source": [
    "function notlist(x)\n",
    "    return x * 3 + 1\n",
    "end"
   ]
  },
  {
   "cell_type": "code",
   "execution_count": 192,
   "id": "d02899ec",
   "metadata": {},
   "outputs": [
    {
     "data": {
      "text/plain": [
       "1: (%1, %2)\n",
       "  %3 = %2 * 3\n",
       "  %4 = %3 + 1\n",
       "  return %4"
      ]
     },
     "execution_count": 192,
     "metadata": {},
     "output_type": "execute_result"
    }
   ],
   "source": [
    "notlist_ir = (IRTools.@code_ir notlist(3))"
   ]
  },
  {
   "cell_type": "code",
   "execution_count": 194,
   "id": "ef1f4437",
   "metadata": {},
   "outputs": [
    {
     "data": {
      "text/plain": [
       "IRTools.Inner.Statement(:(Core.tuple(%2, %3)), Any, 0)"
      ]
     },
     "execution_count": 194,
     "metadata": {},
     "output_type": "execute_result"
    }
   ],
   "source": [
    "notlist_ir[var(4)] = IRTools.Inner.Statement(:(Core.tuple($(var(2)), $(var(3)))))"
   ]
  },
  {
   "cell_type": "code",
   "execution_count": 196,
   "id": "743f0c4e",
   "metadata": {},
   "outputs": [
    {
     "name": "stderr",
     "output_type": "stream",
     "text": [
      "Internal error: encountered unexpected error in runtime:\n",
      "AssertionError(msg=\"argextype only works on argument-position values\")\n",
      "argextype at ./compiler/optimize.jl:353\n",
      "argextype at ./compiler/optimize.jl:335 [inlined]\n",
      "argextype at ./compiler/optimize.jl:335 [inlined]\n",
      "call_sig at ./compiler/ssair/inlining.jl:950\n",
      "process_simple! at ./compiler/ssair/inlining.jl:1120\n",
      "assemble_inline_todo! at ./compiler/ssair/inlining.jl:1359\n",
      "ssa_inlining_pass! at ./compiler/ssair/inlining.jl:82\n",
      "jfptr_ssa_inlining_passNOT._19267.clone_1 at /home/robert/.julia/juliaup/julia-1.8.1+0.x64/lib/julia/sys.so (unknown line)\n",
      "_jl_invoke at /cache/build/default-amdci5-0/julialang/julia-release-1-dot-8/src/gf.c:2367 [inlined]\n",
      "ijl_apply_generic at /cache/build/default-amdci5-0/julialang/julia-release-1-dot-8/src/gf.c:2549\n",
      "run_passes at ./compiler/optimize.jl:539\n",
      "optimize at ./compiler/optimize.jl:504 [inlined]\n",
      "_typeinf at ./compiler/typeinfer.jl:257\n",
      "typeinf at ./compiler/typeinfer.jl:213\n",
      "typeinf_ext at ./compiler/typeinfer.jl:967\n",
      "typeinf_ext_toplevel at ./compiler/typeinfer.jl:1000\n",
      "typeinf_ext_toplevel at ./compiler/typeinfer.jl:996\n",
      "jfptr_typeinf_ext_toplevel_18807.clone_1 at /home/robert/.julia/juliaup/julia-1.8.1+0.x64/lib/julia/sys.so (unknown line)\n",
      "_jl_invoke at /cache/build/default-amdci5-0/julialang/julia-release-1-dot-8/src/gf.c:2367 [inlined]\n",
      "ijl_apply_generic at /cache/build/default-amdci5-0/julialang/julia-release-1-dot-8/src/gf.c:2549\n",
      "jl_apply at /cache/build/default-amdci5-0/julialang/julia-release-1-dot-8/src/julia.h:1838 [inlined]\n",
      "jl_type_infer at /cache/build/default-amdci5-0/julialang/julia-release-1-dot-8/src/gf.c:319\n",
      "jl_generate_fptr_impl at /cache/build/default-amdci5-0/julialang/julia-release-1-dot-8/src/jitlayers.cpp:319\n",
      "jl_compile_method_internal at /cache/build/default-amdci5-0/julialang/julia-release-1-dot-8/src/gf.c:2081 [inlined]\n",
      "jl_compile_method_internal at /cache/build/default-amdci5-0/julialang/julia-release-1-dot-8/src/gf.c:2025\n",
      "_jl_invoke at /cache/build/default-amdci5-0/julialang/julia-release-1-dot-8/src/gf.c:2359 [inlined]\n",
      "ijl_apply_generic at /cache/build/default-amdci5-0/julialang/julia-release-1-dot-8/src/gf.c:2549\n",
      "jl_apply at /cache/build/default-amdci5-0/julialang/julia-release-1-dot-8/src/julia.h:1838 [inlined]\n",
      "do_call at /cache/build/default-amdci5-0/julialang/julia-release-1-dot-8/src/interpreter.c:126\n",
      "eval_value at /cache/build/default-amdci5-0/julialang/julia-release-1-dot-8/src/interpreter.c:215\n",
      "eval_stmt_value at /cache/build/default-amdci5-0/julialang/julia-release-1-dot-8/src/interpreter.c:166 [inlined]\n",
      "eval_body at /cache/build/default-amdci5-0/julialang/julia-release-1-dot-8/src/interpreter.c:612\n",
      "jl_interpret_toplevel_thunk at /cache/build/default-amdci5-0/julialang/julia-release-1-dot-8/src/interpreter.c:750\n",
      "top-level scope at In[196]:1\n",
      "jl_toplevel_eval_flex at /cache/build/default-amdci5-0/julialang/julia-release-1-dot-8/src/toplevel.c:906\n",
      "jl_toplevel_eval_flex at /cache/build/default-amdci5-0/julialang/julia-release-1-dot-8/src/toplevel.c:850\n",
      "ijl_toplevel_eval_in at /cache/build/default-amdci5-0/julialang/julia-release-1-dot-8/src/toplevel.c:965\n",
      "eval at ./boot.jl:368 [inlined]\n",
      "include_string at ./loading.jl:1428\n",
      "softscope_include_string at /home/robert/.julia/packages/SoftGlobalScope/u4UzH/src/SoftGlobalScope.jl:65\n",
      "_jl_invoke at /cache/build/default-amdci5-0/julialang/julia-release-1-dot-8/src/gf.c:2367 [inlined]\n",
      "ijl_apply_generic at /cache/build/default-amdci5-0/julialang/julia-release-1-dot-8/src/gf.c:2549\n",
      "execute_request at /home/robert/.julia/packages/IJulia/AQu2H/src/execute_request.jl:67\n",
      "unknown function (ip: 0x7f4dfd019ff6)\n",
      "_jl_invoke at /cache/build/default-amdci5-0/julialang/julia-release-1-dot-8/src/gf.c:2367 [inlined]\n",
      "ijl_apply_generic at /cache/build/default-amdci5-0/julialang/julia-release-1-dot-8/src/gf.c:2549\n",
      "jl_apply at /cache/build/default-amdci5-0/julialang/julia-release-1-dot-8/src/julia.h:1838 [inlined]\n",
      "jl_f__call_latest at /cache/build/default-amdci5-0/julialang/julia-release-1-dot-8/src/builtins.c:774\n",
      "#invokelatest#2 at ./essentials.jl:729 [inlined]\n",
      "invokelatest at ./essentials.jl:726 [inlined]\n",
      "eventloop at /home/robert/.julia/packages/IJulia/AQu2H/src/eventloop.jl:8\n",
      "#15 at ./task.jl:484\n",
      "unknown function (ip: 0x7f4dfcf9b30f)\n",
      "_jl_invoke at /cache/build/default-amdci5-0/julialang/julia-release-1-dot-8/src/gf.c:2367 [inlined]\n",
      "ijl_apply_generic at /cache/build/default-amdci5-0/julialang/julia-release-1-dot-8/src/gf.c:2549\n",
      "jl_apply at /cache/build/default-amdci5-0/julialang/julia-release-1-dot-8/src/julia.h:1838 [inlined]\n",
      "start_task at /cache/build/default-amdci5-0/julialang/julia-release-1-dot-8/src/task.c:931\n",
      "Internal error: encountered unexpected error during compilation of ##376:\n",
      "ErrorException(\"unsupported or misplaced expression \".\" in function ##376\")\n",
      "ijl_errorf at /cache/build/default-amdci5-0/julialang/julia-release-1-dot-8/src/rtutils.c:77\n",
      "emit_expr at /cache/build/default-amdci5-0/julialang/julia-release-1-dot-8/src/codegen.cpp:5044\n",
      "emit_call at /cache/build/default-amdci5-0/julialang/julia-release-1-dot-8/src/codegen.cpp:3813\n",
      "emit_expr at /cache/build/default-amdci5-0/julialang/julia-release-1-dot-8/src/codegen.cpp:4741\n",
      "emit_ssaval_assign at /cache/build/default-amdci5-0/julialang/julia-release-1-dot-8/src/codegen.cpp:4315\n",
      "emit_stmtpos at /cache/build/default-amdci5-0/julialang/julia-release-1-dot-8/src/codegen.cpp:4562 [inlined]\n",
      "emit_function at /cache/build/default-amdci5-0/julialang/julia-release-1-dot-8/src/codegen.cpp:7416\n",
      "jl_emit_code at /cache/build/default-amdci5-0/julialang/julia-release-1-dot-8/src/codegen.cpp:7778\n",
      "jl_emit_codeinst at /cache/build/default-amdci5-0/julialang/julia-release-1-dot-8/src/codegen.cpp:7823\n",
      "_jl_compile_codeinst at /cache/build/default-amdci5-0/julialang/julia-release-1-dot-8/src/jitlayers.cpp:119\n",
      "jl_generate_fptr_for_unspecialized_impl at /cache/build/default-amdci5-0/julialang/julia-release-1-dot-8/src/jitlayers.cpp:380\n",
      "jl_compile_method_internal at /cache/build/default-amdci5-0/julialang/julia-release-1-dot-8/src/gf.c:2094 [inlined]\n",
      "jl_compile_method_internal at /cache/build/default-amdci5-0/julialang/julia-release-1-dot-8/src/gf.c:2025\n",
      "_jl_invoke at /cache/build/default-amdci5-0/julialang/julia-release-1-dot-8/src/gf.c:2359 [inlined]\n",
      "ijl_apply_generic at /cache/build/default-amdci5-0/julialang/julia-release-1-dot-8/src/gf.c:2549\n",
      "jl_apply at /cache/build/default-amdci5-0/julialang/julia-release-1-dot-8/src/julia.h:1838 [inlined]\n",
      "do_call at /cache/build/default-amdci5-0/julialang/julia-release-1-dot-8/src/interpreter.c:126\n",
      "eval_value at /cache/build/default-amdci5-0/julialang/julia-release-1-dot-8/src/interpreter.c:215\n",
      "eval_stmt_value at /cache/build/default-amdci5-0/julialang/julia-release-1-dot-8/src/interpreter.c:166 [inlined]\n",
      "eval_body at /cache/build/default-amdci5-0/julialang/julia-release-1-dot-8/src/interpreter.c:612\n",
      "jl_interpret_toplevel_thunk at /cache/build/default-amdci5-0/julialang/julia-release-1-dot-8/src/interpreter.c:750\n",
      "top-level scope at In[196]:1\n",
      "jl_toplevel_eval_flex at /cache/build/default-amdci5-0/julialang/julia-release-1-dot-8/src/toplevel.c:906\n",
      "jl_toplevel_eval_flex at /cache/build/default-amdci5-0/julialang/julia-release-1-dot-8/src/toplevel.c:850\n",
      "ijl_toplevel_eval_in at /cache/build/default-amdci5-0/julialang/julia-release-1-dot-8/src/toplevel.c:965\n",
      "eval at ./boot.jl:368 [inlined]\n",
      "include_string at ./loading.jl:1428\n",
      "softscope_include_string at /home/robert/.julia/packages/SoftGlobalScope/u4UzH/src/SoftGlobalScope.jl:65\n",
      "_jl_invoke at /cache/build/default-amdci5-0/julialang/julia-release-1-dot-8/src/gf.c:2367 [inlined]\n",
      "ijl_apply_generic at /cache/build/default-amdci5-0/julialang/julia-release-1-dot-8/src/gf.c:2549\n",
      "execute_request at /home/robert/.julia/packages/IJulia/AQu2H/src/execute_request.jl:67\n",
      "unknown function (ip: 0x7f4dfd019ff6)\n",
      "_jl_invoke at /cache/build/default-amdci5-0/julialang/julia-release-1-dot-8/src/gf.c:2367 [inlined]\n",
      "ijl_apply_generic at /cache/build/default-amdci5-0/julialang/julia-release-1-dot-8/src/gf.c:2549\n",
      "jl_apply at /cache/build/default-amdci5-0/julialang/julia-release-1-dot-8/src/julia.h:1838 [inlined]\n",
      "jl_f__call_latest at /cache/build/default-amdci5-0/julialang/julia-release-1-dot-8/src/builtins.c:774\n",
      "#invokelatest#2 at ./essentials.jl:729 [inlined]\n",
      "invokelatest at ./essentials.jl:726 [inlined]\n",
      "eventloop at /home/robert/.julia/packages/IJulia/AQu2H/src/eventloop.jl:8\n",
      "#15 at ./task.jl:484\n",
      "unknown function (ip: 0x7f4dfcf9b30f)\n",
      "_jl_invoke at /cache/build/default-amdci5-0/julialang/julia-release-1-dot-8/src/gf.c:2367 [inlined]\n",
      "ijl_apply_generic at /cache/build/default-amdci5-0/julialang/julia-release-1-dot-8/src/gf.c:2549\n",
      "jl_apply at /cache/build/default-amdci5-0/julialang/julia-release-1-dot-8/src/julia.h:1838 [inlined]\n",
      "start_task at /cache/build/default-amdci5-0/julialang/julia-release-1-dot-8/src/task.c:931\n"
     ]
    },
    {
     "ename": "LoadError",
     "evalue": "unsupported or misplaced expression .",
     "output_type": "error",
     "traceback": [
      "unsupported or misplaced expression .",
      "",
      "Stacktrace:",
      " [1] var\"##376\"(arg1::Nothing, arg2::Int64)",
      "   @ IRTools.Inner ~/.julia/packages/IRTools/017wp/src/eval.jl:18",
      " [2] top-level scope",
      "   @ In[196]:1",
      " [3] eval",
      "   @ ./boot.jl:368 [inlined]",
      " [4] include_string(mapexpr::typeof(REPL.softscope), mod::Module, code::String, filename::String)",
      "   @ Base ./loading.jl:1428"
     ]
    }
   ],
   "source": [
    "func(notlist_ir)(nothing, 1)"
   ]
  },
  {
   "cell_type": "code",
   "execution_count": 113,
   "id": "a61b14ae",
   "metadata": {},
   "outputs": [
    {
     "data": {
      "text/plain": [
       "IRTools.Inner.Statement(:(Base.vect()), Any, 1)"
      ]
     },
     "execution_count": 113,
     "metadata": {},
     "output_type": "execute_result"
    }
   ],
   "source": [
    "list_ir.blocks[1].stmts[1]"
   ]
  },
  {
   "cell_type": "code",
   "execution_count": 199,
   "id": "41ea9d95",
   "metadata": {},
   "outputs": [
    {
     "data": {
      "text/plain": [
       "##378 (generic function with 1 method)"
      ]
     },
     "execution_count": 199,
     "metadata": {},
     "output_type": "execute_result"
    }
   ],
   "source": []
  },
  {
   "cell_type": "code",
   "execution_count": 200,
   "id": "4014a2f5",
   "metadata": {},
   "outputs": [
    {
     "name": "stderr",
     "output_type": "stream",
     "text": [
      "Internal error: encountered unexpected error in runtime:\n",
      "AssertionError(msg=\"argextype only works on argument-position values\")\n",
      "argextype at ./compiler/optimize.jl:353\n",
      "argextype at ./compiler/optimize.jl:335 [inlined]\n",
      "argextype at ./compiler/optimize.jl:335 [inlined]\n",
      "call_sig at ./compiler/ssair/inlining.jl:950\n",
      "process_simple! at ./compiler/ssair/inlining.jl:1120\n",
      "assemble_inline_todo! at ./compiler/ssair/inlining.jl:1359\n",
      "ssa_inlining_pass! at ./compiler/ssair/inlining.jl:82\n",
      "jfptr_ssa_inlining_passNOT._19267.clone_1 at /home/robert/.julia/juliaup/julia-1.8.1+0.x64/lib/julia/sys.so (unknown line)\n",
      "_jl_invoke at /cache/build/default-amdci5-0/julialang/julia-release-1-dot-8/src/gf.c:2367 [inlined]\n",
      "ijl_apply_generic at /cache/build/default-amdci5-0/julialang/julia-release-1-dot-8/src/gf.c:2549\n",
      "run_passes at ./compiler/optimize.jl:539\n",
      "optimize at ./compiler/optimize.jl:504 [inlined]\n",
      "_typeinf at ./compiler/typeinfer.jl:257\n",
      "typeinf at ./compiler/typeinfer.jl:213\n",
      "typeinf_ext at ./compiler/typeinfer.jl:967\n",
      "typeinf_ext_toplevel at ./compiler/typeinfer.jl:1000\n",
      "typeinf_ext_toplevel at ./compiler/typeinfer.jl:996\n",
      "jfptr_typeinf_ext_toplevel_18807.clone_1 at /home/robert/.julia/juliaup/julia-1.8.1+0.x64/lib/julia/sys.so (unknown line)\n",
      "_jl_invoke at /cache/build/default-amdci5-0/julialang/julia-release-1-dot-8/src/gf.c:2367 [inlined]\n",
      "ijl_apply_generic at /cache/build/default-amdci5-0/julialang/julia-release-1-dot-8/src/gf.c:2549\n",
      "jl_apply at /cache/build/default-amdci5-0/julialang/julia-release-1-dot-8/src/julia.h:1838 [inlined]\n",
      "jl_type_infer at /cache/build/default-amdci5-0/julialang/julia-release-1-dot-8/src/gf.c:319\n",
      "jl_generate_fptr_impl at /cache/build/default-amdci5-0/julialang/julia-release-1-dot-8/src/jitlayers.cpp:319\n",
      "jl_compile_method_internal at /cache/build/default-amdci5-0/julialang/julia-release-1-dot-8/src/gf.c:2081 [inlined]\n",
      "jl_compile_method_internal at /cache/build/default-amdci5-0/julialang/julia-release-1-dot-8/src/gf.c:2025\n",
      "_jl_invoke at /cache/build/default-amdci5-0/julialang/julia-release-1-dot-8/src/gf.c:2359 [inlined]\n",
      "ijl_apply_generic at /cache/build/default-amdci5-0/julialang/julia-release-1-dot-8/src/gf.c:2549\n",
      "jl_apply at /cache/build/default-amdci5-0/julialang/julia-release-1-dot-8/src/julia.h:1838 [inlined]\n",
      "do_call at /cache/build/default-amdci5-0/julialang/julia-release-1-dot-8/src/interpreter.c:126\n",
      "eval_value at /cache/build/default-amdci5-0/julialang/julia-release-1-dot-8/src/interpreter.c:215\n",
      "eval_stmt_value at /cache/build/default-amdci5-0/julialang/julia-release-1-dot-8/src/interpreter.c:166 [inlined]\n",
      "eval_body at /cache/build/default-amdci5-0/julialang/julia-release-1-dot-8/src/interpreter.c:612\n",
      "jl_interpret_toplevel_thunk at /cache/build/default-amdci5-0/julialang/julia-release-1-dot-8/src/interpreter.c:750\n",
      "top-level scope at In[200]:1\n",
      "jl_toplevel_eval_flex at /cache/build/default-amdci5-0/julialang/julia-release-1-dot-8/src/toplevel.c:906\n",
      "jl_toplevel_eval_flex at /cache/build/default-amdci5-0/julialang/julia-release-1-dot-8/src/toplevel.c:850\n",
      "ijl_toplevel_eval_in at /cache/build/default-amdci5-0/julialang/julia-release-1-dot-8/src/toplevel.c:965\n",
      "eval at ./boot.jl:368 [inlined]\n",
      "include_string at ./loading.jl:1428\n",
      "softscope_include_string at /home/robert/.julia/packages/SoftGlobalScope/u4UzH/src/SoftGlobalScope.jl:65\n",
      "_jl_invoke at /cache/build/default-amdci5-0/julialang/julia-release-1-dot-8/src/gf.c:2367 [inlined]\n",
      "ijl_apply_generic at /cache/build/default-amdci5-0/julialang/julia-release-1-dot-8/src/gf.c:2549\n",
      "execute_request at /home/robert/.julia/packages/IJulia/AQu2H/src/execute_request.jl:67\n",
      "unknown function (ip: 0x7f4dfd019ff6)\n",
      "_jl_invoke at /cache/build/default-amdci5-0/julialang/julia-release-1-dot-8/src/gf.c:2367 [inlined]\n",
      "ijl_apply_generic at /cache/build/default-amdci5-0/julialang/julia-release-1-dot-8/src/gf.c:2549\n",
      "jl_apply at /cache/build/default-amdci5-0/julialang/julia-release-1-dot-8/src/julia.h:1838 [inlined]\n",
      "jl_f__call_latest at /cache/build/default-amdci5-0/julialang/julia-release-1-dot-8/src/builtins.c:774\n",
      "#invokelatest#2 at ./essentials.jl:729 [inlined]\n",
      "invokelatest at ./essentials.jl:726 [inlined]\n",
      "eventloop at /home/robert/.julia/packages/IJulia/AQu2H/src/eventloop.jl:8\n",
      "#15 at ./task.jl:484\n",
      "unknown function (ip: 0x7f4dfcf9b30f)\n",
      "_jl_invoke at /cache/build/default-amdci5-0/julialang/julia-release-1-dot-8/src/gf.c:2367 [inlined]\n",
      "ijl_apply_generic at /cache/build/default-amdci5-0/julialang/julia-release-1-dot-8/src/gf.c:2549\n",
      "jl_apply at /cache/build/default-amdci5-0/julialang/julia-release-1-dot-8/src/julia.h:1838 [inlined]\n",
      "start_task at /cache/build/default-amdci5-0/julialang/julia-release-1-dot-8/src/task.c:931\n",
      "Internal error: encountered unexpected error during compilation of ##378:\n",
      "ErrorException(\"unsupported or misplaced expression \".\" in function ##378\")\n",
      "ijl_errorf at /cache/build/default-amdci5-0/julialang/julia-release-1-dot-8/src/rtutils.c:77\n",
      "emit_expr at /cache/build/default-amdci5-0/julialang/julia-release-1-dot-8/src/codegen.cpp:5044\n",
      "emit_call at /cache/build/default-amdci5-0/julialang/julia-release-1-dot-8/src/codegen.cpp:3813\n",
      "emit_expr at /cache/build/default-amdci5-0/julialang/julia-release-1-dot-8/src/codegen.cpp:4741\n",
      "emit_ssaval_assign at /cache/build/default-amdci5-0/julialang/julia-release-1-dot-8/src/codegen.cpp:4315\n",
      "emit_stmtpos at /cache/build/default-amdci5-0/julialang/julia-release-1-dot-8/src/codegen.cpp:4562 [inlined]\n",
      "emit_function at /cache/build/default-amdci5-0/julialang/julia-release-1-dot-8/src/codegen.cpp:7416\n",
      "jl_emit_code at /cache/build/default-amdci5-0/julialang/julia-release-1-dot-8/src/codegen.cpp:7778\n",
      "jl_emit_codeinst at /cache/build/default-amdci5-0/julialang/julia-release-1-dot-8/src/codegen.cpp:7823\n",
      "_jl_compile_codeinst at /cache/build/default-amdci5-0/julialang/julia-release-1-dot-8/src/jitlayers.cpp:119\n",
      "jl_generate_fptr_for_unspecialized_impl at /cache/build/default-amdci5-0/julialang/julia-release-1-dot-8/src/jitlayers.cpp:380\n",
      "jl_compile_method_internal at /cache/build/default-amdci5-0/julialang/julia-release-1-dot-8/src/gf.c:2094 [inlined]\n",
      "jl_compile_method_internal at /cache/build/default-amdci5-0/julialang/julia-release-1-dot-8/src/gf.c:2025\n",
      "_jl_invoke at /cache/build/default-amdci5-0/julialang/julia-release-1-dot-8/src/gf.c:2359 [inlined]\n",
      "ijl_apply_generic at /cache/build/default-amdci5-0/julialang/julia-release-1-dot-8/src/gf.c:2549\n",
      "jl_apply at /cache/build/default-amdci5-0/julialang/julia-release-1-dot-8/src/julia.h:1838 [inlined]\n",
      "do_call at /cache/build/default-amdci5-0/julialang/julia-release-1-dot-8/src/interpreter.c:126\n",
      "eval_value at /cache/build/default-amdci5-0/julialang/julia-release-1-dot-8/src/interpreter.c:215\n",
      "eval_stmt_value at /cache/build/default-amdci5-0/julialang/julia-release-1-dot-8/src/interpreter.c:166 [inlined]\n",
      "eval_body at /cache/build/default-amdci5-0/julialang/julia-release-1-dot-8/src/interpreter.c:612\n",
      "jl_interpret_toplevel_thunk at /cache/build/default-amdci5-0/julialang/julia-release-1-dot-8/src/interpreter.c:750\n",
      "top-level scope at In[200]:1\n",
      "jl_toplevel_eval_flex at /cache/build/default-amdci5-0/julialang/julia-release-1-dot-8/src/toplevel.c:906\n",
      "jl_toplevel_eval_flex at /cache/build/default-amdci5-0/julialang/julia-release-1-dot-8/src/toplevel.c:850\n",
      "ijl_toplevel_eval_in at /cache/build/default-amdci5-0/julialang/julia-release-1-dot-8/src/toplevel.c:965\n",
      "eval at ./boot.jl:368 [inlined]\n",
      "include_string at ./loading.jl:1428\n",
      "softscope_include_string at /home/robert/.julia/packages/SoftGlobalScope/u4UzH/src/SoftGlobalScope.jl:65\n",
      "_jl_invoke at /cache/build/default-amdci5-0/julialang/julia-release-1-dot-8/src/gf.c:2367 [inlined]\n",
      "ijl_apply_generic at /cache/build/default-amdci5-0/julialang/julia-release-1-dot-8/src/gf.c:2549\n",
      "execute_request at /home/robert/.julia/packages/IJulia/AQu2H/src/execute_request.jl:67\n",
      "unknown function (ip: 0x7f4dfd019ff6)\n",
      "_jl_invoke at /cache/build/default-amdci5-0/julialang/julia-release-1-dot-8/src/gf.c:2367 [inlined]\n",
      "ijl_apply_generic at /cache/build/default-amdci5-0/julialang/julia-release-1-dot-8/src/gf.c:2549\n",
      "jl_apply at /cache/build/default-amdci5-0/julialang/julia-release-1-dot-8/src/julia.h:1838 [inlined]\n",
      "jl_f__call_latest at /cache/build/default-amdci5-0/julialang/julia-release-1-dot-8/src/builtins.c:774\n",
      "#invokelatest#2 at ./essentials.jl:729 [inlined]\n",
      "invokelatest at ./essentials.jl:726 [inlined]\n",
      "eventloop at /home/robert/.julia/packages/IJulia/AQu2H/src/eventloop.jl:8\n",
      "#15 at ./task.jl:484\n",
      "unknown function (ip: 0x7f4dfcf9b30f)\n",
      "_jl_invoke at /cache/build/default-amdci5-0/julialang/julia-release-1-dot-8/src/gf.c:2367 [inlined]\n",
      "ijl_apply_generic at /cache/build/default-amdci5-0/julialang/julia-release-1-dot-8/src/gf.c:2549\n",
      "jl_apply at /cache/build/default-amdci5-0/julialang/julia-release-1-dot-8/src/julia.h:1838 [inlined]\n",
      "start_task at /cache/build/default-amdci5-0/julialang/julia-release-1-dot-8/src/task.c:931\n"
     ]
    },
    {
     "ename": "LoadError",
     "evalue": "unsupported or misplaced expression .",
     "output_type": "error",
     "traceback": [
      "unsupported or misplaced expression .",
      "",
      "Stacktrace:",
      " [1] var\"##378\"(arg1::Nothing, arg2::Int64, arg3::Int64)",
      "   @ IRTools.Inner ~/.julia/packages/IRTools/017wp/src/eval.jl:18",
      " [2] top-level scope",
      "   @ In[200]:1",
      " [3] eval",
      "   @ ./boot.jl:368 [inlined]",
      " [4] include_string(mapexpr::typeof(REPL.softscope), mod::Module, code::String, filename::String)",
      "   @ Base ./loading.jl:1428"
     ]
    }
   ],
   "source": []
  },
  {
   "cell_type": "code",
   "execution_count": 62,
   "id": "f2d45000",
   "metadata": {},
   "outputs": [
    {
     "data": {
      "text/plain": [
       "1: (%1, %2, %3)\n",
       "  %4 = %2 * %3\n",
       "  %5 = Main.sin(%2)\n",
       "  %6 = %4 + %5\n",
       "  return %6"
      ]
     },
     "execution_count": 62,
     "metadata": {},
     "output_type": "execute_result"
    }
   ],
   "source": [
    "IRTools.@code_ir easy_test(3, 5)"
   ]
  },
  {
   "cell_type": "code",
   "execution_count": null,
   "id": "350f29a4",
   "metadata": {},
   "outputs": [],
   "source": [
    "@IRToo"
   ]
  },
  {
   "cell_type": "code",
   "execution_count": 27,
   "id": "018643fa",
   "metadata": {},
   "outputs": [
    {
     "data": {
      "text/plain": [
       "(4.010007503399555, 3.0)"
      ]
     },
     "execution_count": 27,
     "metadata": {},
     "output_type": "execute_result"
    }
   ],
   "source": [
    "Zygote.gradient(easy_test, 3, 5)"
   ]
  },
  {
   "cell_type": "code",
   "execution_count": 118,
   "id": "436d6525",
   "metadata": {},
   "outputs": [],
   "source": [
    "using IRTools: returnvalue"
   ]
  },
  {
   "cell_type": "code",
   "execution_count": 123,
   "id": "ff960e86",
   "metadata": {},
   "outputs": [
    {
     "data": {
      "text/plain": [
       "1-element Vector{IRTools.Inner.Branch}:\n",
       " return %8"
      ]
     },
     "execution_count": 123,
     "metadata": {},
     "output_type": "execute_result"
    }
   ],
   "source": [
    "crc_ir.blocks[1].branches"
   ]
  },
  {
   "cell_type": "code",
   "execution_count": 134,
   "id": "7122c6e3",
   "metadata": {},
   "outputs": [
    {
     "data": {
      "text/plain": [
       "%8"
      ]
     },
     "execution_count": 134,
     "metadata": {},
     "output_type": "execute_result"
    }
   ],
   "source": [
    "IRTools.returnvalue(IRTools.blocks(crc_ir)[1])"
   ]
  },
  {
   "cell_type": "code",
   "execution_count": 80,
   "id": "412df76d",
   "metadata": {},
   "outputs": [
    {
     "data": {
      "text/plain": [
       "IRTools.Inner.var\"###312\""
      ]
     },
     "execution_count": 80,
     "metadata": {},
     "output_type": "execute_result"
    }
   ],
   "source": [
    "typeof(crc_f)"
   ]
  },
  {
   "cell_type": "code",
   "execution_count": 33,
   "id": "b7ade953",
   "metadata": {},
   "outputs": [
    {
     "data": {
      "text/plain": [
       "##312 (generic function with 1 method)"
      ]
     },
     "execution_count": 33,
     "metadata": {},
     "output_type": "execute_result"
    }
   ],
   "source": [
    "crc_f"
   ]
  },
  {
   "cell_type": "code",
   "execution_count": 22,
   "id": "c883151c",
   "metadata": {},
   "outputs": [
    {
     "data": {
      "text/plain": [
       "4.275132549748808"
      ]
     },
     "execution_count": 22,
     "metadata": {},
     "output_type": "execute_result"
    }
   ],
   "source": [
    "crc_test(4)"
   ]
  },
  {
   "cell_type": "code",
   "execution_count": 49,
   "id": "7d84b7ac",
   "metadata": {},
   "outputs": [
    {
     "data": {
      "text/plain": [
       "5"
      ]
     },
     "execution_count": 49,
     "metadata": {},
     "output_type": "execute_result"
    }
   ],
   "source": [
    "l = length(crc_ir)"
   ]
  },
  {
   "cell_type": "code",
   "execution_count": 67,
   "id": "1657d6a8",
   "metadata": {},
   "outputs": [
    {
     "name": "stdout",
     "output_type": "stream",
     "text": [
      "ErrorException(\"No such variable %1\")\n",
      "ErrorException(\"No such variable %2\")\n",
      "IRTools.Inner.Statement(:(Main.sin(%2)), Any, 1)\n",
      "IRTools.Inner.Statement(:(3 + %3), Any, 2)\n",
      "IRTools.Inner.Statement(:(Core.apply_type(Base.Val, 2)), Any, 3)\n",
      "IRTools.Inner.Statement(:((%5)()), Any, 3)\n",
      "IRTools.Inner.Statement(:(Base.literal_pow(Main.:^, %4, %6)), Any, 3)\n",
      "ErrorException(\"No such variable %8\")\n",
      "ErrorException(\"No such variable %9\")\n",
      "ErrorException(\"No such variable %10\")\n"
     ]
    }
   ],
   "source": [
    "for i=1:(length(crc_ir)+5)\n",
    "    try\n",
    "        println(crc_ir[var(i)])\n",
    "    catch e\n",
    "        println(e)\n",
    "    end\n",
    "end"
   ]
  },
  {
   "cell_type": "code",
   "execution_count": 72,
   "id": "f6ffaaf9",
   "metadata": {},
   "outputs": [
    {
     "data": {
      "text/plain": [
       "5-element Vector{IRTools.Inner.Statement}:\n",
       " IRTools.Inner.Statement(:(Main.sin(%2)), Any, 1)\n",
       " IRTools.Inner.Statement(:(3 + %3), Any, 2)\n",
       " IRTools.Inner.Statement(:(Core.apply_type(Base.Val, 2)), Any, 3)\n",
       " IRTools.Inner.Statement(:((%5)()), Any, 3)\n",
       " IRTools.Inner.Statement(:(Base.literal_pow(Main.:^, %4, %6)), Any, 3)"
      ]
     },
     "execution_count": 72,
     "metadata": {},
     "output_type": "execute_result"
    }
   ],
   "source": [
    "crc_ir.blocks[1].stmts"
   ]
  },
  {
   "cell_type": "code",
   "execution_count": 50,
   "id": "d6e75f93",
   "metadata": {},
   "outputs": [
    {
     "data": {
      "text/plain": [
       "IRTools.Inner.Statement(:(Core.apply_type(Base.Val, 2)), Any, 3)"
      ]
     },
     "execution_count": 50,
     "metadata": {},
     "output_type": "execute_result"
    }
   ],
   "source": [
    "crc_ir[var(l)]"
   ]
  },
  {
   "cell_type": "code",
   "execution_count": 18,
   "id": "49a78692",
   "metadata": {},
   "outputs": [
    {
     "data": {
      "text/plain": [
       "IRTools.Inner.IR"
      ]
     },
     "execution_count": 18,
     "metadata": {},
     "output_type": "execute_result"
    }
   ],
   "source": [
    "typeof(@code_ir crc_test(4))"
   ]
  },
  {
   "cell_type": "code",
   "execution_count": null,
   "id": "26628df3",
   "metadata": {},
   "outputs": [],
   "source": [
    "for e in @core_ir  crc_test(4)"
   ]
  },
  {
   "cell_type": "code",
   "execution_count": 22,
   "id": "d644ce45",
   "metadata": {},
   "outputs": [
    {
     "name": "stdout",
     "output_type": "stream",
     "text": [
      "Main.sin\n",
      "%2\n",
      "Main.sin(%2)\n",
      "Main.:+\n",
      "3\n",
      "%3\n",
      "3 + %3\n",
      "Core.apply_type\n",
      "Base.Val\n",
      "2\n",
      "Core.apply_type(Base.Val, 2)\n",
      "%5\n",
      "(%5)()\n",
      "Base.literal_pow\n",
      "Main.:^\n",
      "%4\n",
      "%6\n",
      "Base.literal_pow(Main.:^, %4, %6)\n",
      "nothing\n",
      "%7\n",
      "1: (%1, %2)\n",
      "  %3 = Main.sin(%2)\n",
      "  %4 = 3 + %3\n",
      "  %5 = Core.apply_type(Base.Val, 2)\n",
      "  %6 = (%5)()\n",
      "  %7 = Base.literal_pow(Main.:^, %4, %6)\n",
      "  return %7\n"
     ]
    },
    {
     "data": {
      "text/plain": [
       "1: (%1, %2)\n",
       "  %3 = Main.sin(%2)\n",
       "  %4 = 3 + %3\n",
       "  %5 = Core.apply_type(Base.Val, 2)\n",
       "  %6 = (%5)()\n",
       "  %7 = Base.literal_pow(Main.:^, %4, %6)\n",
       "  return %7"
      ]
     },
     "execution_count": 22,
     "metadata": {},
     "output_type": "execute_result"
    }
   ],
   "source": [
    "IRTools.postwalk(t -> begin println(t); return t end, @code_ir crc_test(4))"
   ]
  },
  {
   "cell_type": "code",
   "execution_count": 43,
   "id": "ce98e38f",
   "metadata": {},
   "outputs": [
    {
     "ename": "LoadError",
     "evalue": "BoundsError: attempt to access Core.SimpleVector at index [1]",
     "output_type": "error",
     "traceback": [
      "BoundsError: attempt to access Core.SimpleVector at index [1]",
      "",
      "Stacktrace:",
      " [1] getindex(v::Core.SimpleVector, i::Int64)",
      "   @ Base ./essentials.jl:610",
      " [2] meta(T::Any; types::Any, world::Any)",
      "   @ IRTools.Inner ~/.julia/packages/IRTools/017wp/src/reflection/reflection.jl:44",
      " [3] meta(T::Any)",
      "   @ IRTools.Inner ~/.julia/packages/IRTools/017wp/src/reflection/reflection.jl:43",
      " [4] top-level scope",
      "   @ In[43]:1",
      " [5] eval",
      "   @ ./boot.jl:368 [inlined]",
      " [6] include_string(mapexpr::typeof(REPL.softscope), mod::Module, code::String, filename::String)",
      "   @ Base ./loading.jl:1428"
     ]
    }
   ],
   "source": [
    "meta(typeof(gcd))"
   ]
  },
  {
   "cell_type": "code",
   "execution_count": 26,
   "id": "5ea6dd12",
   "metadata": {},
   "outputs": [
    {
     "data": {
      "text/plain": [
       "Metadata for gcd(a::T, b::T) where T<:Union{Int128, Int16, Int32, Int64, Int8, UInt128, UInt16, UInt32, UInt64, UInt8} in Base at intfuncs.jl:50"
      ]
     },
     "execution_count": 26,
     "metadata": {},
     "output_type": "execute_result"
    }
   ],
   "source": [
    "meta(Tuple{typeof(gcd), Int, Int})"
   ]
  },
  {
   "cell_type": "code",
   "execution_count": 17,
   "id": "c7444652",
   "metadata": {},
   "outputs": [
    {
     "ename": "LoadError",
     "evalue": "type #gcd has no field parameters",
     "output_type": "error",
     "traceback": [
      "type #gcd has no field parameters",
      "",
      "Stacktrace:",
      " [1] getproperty(x::Function, f::Symbol)",
      "   @ Base ./Base.jl:38",
      " [2] meta(T::Any; types::Any, world::Any)",
      "   @ IRTools.Inner ~/.julia/packages/IRTools/017wp/src/reflection/reflection.jl:44",
      " [3] meta(T::Any)",
      "   @ IRTools.Inner ~/.julia/packages/IRTools/017wp/src/reflection/reflection.jl:43",
      " [4] top-level scope",
      "   @ In[17]:1",
      " [5] eval",
      "   @ ./boot.jl:368 [inlined]",
      " [6] include_string(mapexpr::typeof(REPL.softscope), mod::Module, code::String, filename::String)",
      "   @ Base ./loading.jl:1428"
     ]
    }
   ],
   "source": [
    "meta(gcd)"
   ]
  },
  {
   "cell_type": "code",
   "execution_count": 49,
   "id": "8d382573",
   "metadata": {},
   "outputs": [
    {
     "ename": "LoadError",
     "evalue": "type #13#14 has no field parameters",
     "output_type": "error",
     "traceback": [
      "type #13#14 has no field parameters",
      "",
      "Stacktrace:",
      " [1] getproperty(x::Function, f::Symbol)",
      "   @ Base ./Base.jl:38",
      " [2] meta(T::Any; types::Any, world::Any)",
      "   @ IRTools.Inner ~/.julia/packages/IRTools/017wp/src/reflection/reflection.jl:44",
      " [3] meta",
      "   @ ~/.julia/packages/IRTools/017wp/src/reflection/reflection.jl:43 [inlined]",
      " [4] _generate_pullback_via_decomposition(T::Function)",
      "   @ Zygote ~/.julia/packages/Zygote/PD12J/src/compiler/emit.jl:99",
      " [5] top-level scope",
      "   @ In[49]:1",
      " [6] eval",
      "   @ ./boot.jl:368 [inlined]",
      " [7] include_string(mapexpr::typeof(REPL.softscope), mod::Module, code::String, filename::String)",
      "   @ Base ./loading.jl:1428"
     ]
    }
   ],
   "source": [
    "Zygote._generate_pullback_via_decomposition(a -> sin(a))"
   ]
  },
  {
   "cell_type": "code",
   "execution_count": 50,
   "id": "309c61fd",
   "metadata": {},
   "outputs": [
    {
     "data": {
      "text/plain": [
       "(-0.9899924966004454,)"
      ]
     },
     "execution_count": 50,
     "metadata": {},
     "output_type": "execute_result"
    }
   ],
   "source": []
  },
  {
   "cell_type": "code",
   "execution_count": null,
   "id": "e49df6e8",
   "metadata": {},
   "outputs": [
    {
     "name": "stderr",
     "output_type": "stream",
     "text": [
      "Vim: Warning: Output is not to a terminal\n",
      "Vim: Warning: Input is not from a terminal\n"
     ]
    },
    {
     "name": "stdout",
     "output_type": "stream",
     "text": [
      "\u001b[?1049h\u001b[22;0;0t\u001b[>4;2m\u001b[?1h\u001b=\u001b[?2004h\u001b[1;30r\u001b[?12h\u001b[?12l\u001b[22;2t\u001b[22;1t\u001b[27m\u001b[23m\u001b[29m\u001b[m\u001b[H\u001b[2J\u001b[?25l\u001b[30;1H\"~/.julia/packages/Zygote/PD12J/src/Zygote.jl\"\u001b[?2004l\u001b[?2004h\r",
      "</Zygote/PD12J/src\u001b[7C.jl\" [readonly] 82L, 2240C\u001b[1;1Hmodule Zygote\r\n",
      "\r\n",
      "using LinearAlgebra, Statistics\r\n",
      "using LinearAlgebra: copytri!, AbstractTriangular\r\n",
      "\r\n",
      "\u001b[38;5;130mimport\u001b[m ZygoteRules: @adjoint, @adjoint!, AContext, adjoint, _pullback, pullback,\u001b[7;3Hliteral_getproperty, literal_getfield\r\n",
      "\r\n",
      "using ChainRulesCore\r\n",
      "using ChainRules: ChainRules, rrule, unthunk, canonicalize\r\n",
      "using IRTools\r\n",
      "using MacroTools, Requires\r\n",
      "using MacroTools: @forward\r\n",
      "\r\n",
      "\u001b[38;5;130mimport\u001b[m Distributed: pmap, CachingPool, workers\r\n",
      "\u001b[38;5;130mexport\u001b[m Params, withgradient, gradient, withjacobian, jacobian, hessian, diaghesss\u001b[17;1Hian, pullback, pushforward, @code_adjoint\r\n",
      "\u001b[38;5;130mexport\u001b[m rrule_via_ad\r\n",
      "\r\n",
      "const Numeric{T<:Number} \u001b[38;5;130m=\u001b[m \u001b[38;5;130mUnion\u001b[m{\u001b[38;5;130mT\u001b[m, AbstractArray{<:T}}\r\n",
      "\r\n",
      "include\u001b[35m(\u001b[m\u001b[31m\"deprecated.jl\"\u001b[m\u001b[35m)\u001b[m\r\n",
      "include\u001b[35m(\u001b[m\u001b[31m\"tools/buffer.jl\"\u001b[m\u001b[35m)\u001b[m\r\n",
      "include\u001b[35m(\u001b[m\u001b[31m\"tools/builtins.jl\"\u001b[m\u001b[35m)\u001b[m\r\n",
      "\r\n",
      "include\u001b[35m(\u001b[m\u001b[31m\"forward/Forward.jl\"\u001b[m\u001b[35m)\u001b[m\r\n",
      "using .Forward\r\n",
      "\r\n",
      "include\u001b[35m(\u001b[m\u001b[31m\"compiler/reverse.jl\"\u001b[m\u001b[35m)\u001b[m\u001b[30;63H1,1\u001b[11CTop\u001b[1;1H\u001b[?25h"
     ]
    }
   ],
   "source": [
    "edit(Zygote)"
   ]
  },
  {
   "cell_type": "code",
   "execution_count": 1,
   "id": "95d9cbfe",
   "metadata": {},
   "outputs": [
    {
     "ename": "LoadError",
     "evalue": "UndefVarError: x not defined",
     "output_type": "error",
     "traceback": [
      "UndefVarError: x not defined",
      "",
      "Stacktrace:",
      " [1] top-level scope",
      "   @ In[1]:1",
      " [2] eval",
      "   @ ./boot.jl:368 [inlined]",
      " [3] include_string(mapexpr::typeof(REPL.softscope), mod::Module, code::String, filename::String)",
      "   @ Base ./loading.jl:1428"
     ]
    }
   ],
   "source": [
    "y = x^2 + 3"
   ]
  },
  {
   "cell_type": "code",
   "execution_count": 2,
   "id": "dddf20f9",
   "metadata": {},
   "outputs": [
    {
     "data": {
      "text/plain": [
       ":(x ^ 2 + 3)"
      ]
     },
     "execution_count": 2,
     "metadata": {},
     "output_type": "execute_result"
    }
   ],
   "source": [
    "y = :(x^2 + 3)"
   ]
  },
  {
   "cell_type": "code",
   "execution_count": 3,
   "id": "1bb91fb4",
   "metadata": {},
   "outputs": [
    {
     "data": {
      "text/plain": [
       ":(x ^ 2 + 3)"
      ]
     },
     "execution_count": 3,
     "metadata": {},
     "output_type": "execute_result"
    }
   ],
   "source": [
    ":((x^2) + 3)"
   ]
  },
  {
   "cell_type": "code",
   "execution_count": 4,
   "id": "6bf1d6b9",
   "metadata": {},
   "outputs": [
    {
     "data": {
      "text/plain": [
       "3-element Vector{Any}:\n",
       "  :+\n",
       "  :(x ^ 2)\n",
       " 3"
      ]
     },
     "execution_count": 4,
     "metadata": {},
     "output_type": "execute_result"
    }
   ],
   "source": [
    "y.args"
   ]
  },
  {
   "cell_type": "code",
   "execution_count": 8,
   "id": "22ae073a",
   "metadata": {},
   "outputs": [
    {
     "data": {
      "text/plain": [
       ":call"
      ]
     },
     "execution_count": 8,
     "metadata": {},
     "output_type": "execute_result"
    }
   ],
   "source": [
    "y.head"
   ]
  },
  {
   "cell_type": "code",
   "execution_count": 24,
   "id": "8aafb9a5",
   "metadata": {},
   "outputs": [
    {
     "data": {
      "text/plain": [
       "3-element Vector{Any}:\n",
       "  :*\n",
       " 5\n",
       "  :x"
      ]
     },
     "execution_count": 24,
     "metadata": {},
     "output_type": "execute_result"
    }
   ],
   "source": [
    "(:(5x)).args"
   ]
  },
  {
   "cell_type": "code",
   "execution_count": 30,
   "id": "4b540ffd",
   "metadata": {},
   "outputs": [
    {
     "data": {
      "text/plain": [
       "4-element Vector{Int64}:\n",
       " 1\n",
       " 2\n",
       " 3\n",
       " 4"
      ]
     },
     "execution_count": 30,
     "metadata": {},
     "output_type": "execute_result"
    }
   ],
   "source": [
    "l = [1, 2, 3, 4]"
   ]
  },
  {
   "cell_type": "code",
   "execution_count": 25,
   "id": "3099c7c3",
   "metadata": {},
   "outputs": [
    {
     "data": {
      "text/plain": [
       "9"
      ]
     },
     "execution_count": 25,
     "metadata": {},
     "output_type": "execute_result"
    }
   ],
   "source": [
    "eval(Expr(:call, :+, 2, 3, 4))"
   ]
  },
  {
   "cell_type": "code",
   "execution_count": 55,
   "id": "a2e63506",
   "metadata": {},
   "outputs": [
    {
     "data": {
      "text/plain": [
       "d (generic function with 1 method)"
      ]
     },
     "execution_count": 55,
     "metadata": {},
     "output_type": "execute_result"
    }
   ],
   "source": [
    "function d(expr, wrt)\n",
    "    if (expr == wrt)\n",
    "        return 1\n",
    "    elseif (expr isa Symbol || expr isa Number)\n",
    "        return 0\n",
    "    elseif (expr.head == :call && first(expr.args) == :+)\n",
    "        return sum(map(a -> d(a, wrt), expr.args[1:end]))\n",
    "    end\n",
    "end"
   ]
  },
  {
   "cell_type": "code",
   "execution_count": 58,
   "id": "c05f0dac",
   "metadata": {},
   "outputs": [
    {
     "data": {
      "text/plain": [
       "1"
      ]
     },
     "execution_count": 58,
     "metadata": {},
     "output_type": "execute_result"
    }
   ],
   "source": [
    "d(:(x + 3), :x)"
   ]
  },
  {
   "cell_type": "code",
   "execution_count": 78,
   "id": "b4ed59bc",
   "metadata": {},
   "outputs": [
    {
     "data": {
      "text/plain": [
       ":(f(1, 2, 3))"
      ]
     },
     "execution_count": 78,
     "metadata": {},
     "output_type": "execute_result"
    }
   ],
   "source": [
    "ex = :(f(1, 2, 3))"
   ]
  },
  {
   "cell_type": "code",
   "execution_count": 80,
   "id": "73e1ce64",
   "metadata": {},
   "outputs": [
    {
     "data": {
      "text/plain": [
       "true"
      ]
     },
     "execution_count": 80,
     "metadata": {},
     "output_type": "execute_result"
    }
   ],
   "source": [
    "@capture(ex, func_(args__))"
   ]
  },
  {
   "cell_type": "code",
   "execution_count": 69,
   "id": "4ff9e9d7",
   "metadata": {},
   "outputs": [
    {
     "data": {
      "text/plain": [
       ":(struct Foo\n",
       "      \u001b[90m#= In[69]:2 =#\u001b[39m\n",
       "      x::Int64\n",
       "      \u001b[90m#= In[69]:3 =#\u001b[39m\n",
       "      y\n",
       "  end)"
      ]
     },
     "execution_count": 69,
     "metadata": {},
     "output_type": "execute_result"
    }
   ],
   "source": [
    ":(struct Foo\n",
    "    x::Int64\n",
    "    y\n",
    "    end)"
   ]
  },
  {
   "cell_type": "code",
   "execution_count": 88,
   "id": "c006f437",
   "metadata": {},
   "outputs": [
    {
     "data": {
      "text/plain": [
       ":(f(1//2, 1//1, 3//2))"
      ]
     },
     "execution_count": 88,
     "metadata": {},
     "output_type": "execute_result"
    }
   ],
   "source": [
    "postwalk(a -> a isa Integer ? a // 2 : a, ex)"
   ]
  },
  {
   "cell_type": "code",
   "execution_count": 89,
   "id": "861d9bb0",
   "metadata": {},
   "outputs": [
    {
     "data": {
      "text/plain": [
       ":(3 * x ^ 4 + 5 * y ^ 2 + 9 * z ^ 3)"
      ]
     },
     "execution_count": 89,
     "metadata": {},
     "output_type": "execute_result"
    }
   ],
   "source": [
    "polynomial = :(3x^4 + 5y^2 + 9z^3)"
   ]
  },
  {
   "cell_type": "code",
   "execution_count": 134,
   "id": "42a3dd58",
   "metadata": {},
   "outputs": [
    {
     "data": {
      "text/plain": [
       "#49 (generic function with 1 method)"
      ]
     },
     "execution_count": 134,
     "metadata": {},
     "output_type": "execute_result"
    }
   ],
   "source": [
    "c = e -> @capture(e, a_Number * v_Symbol ^ p_Number) ? :($p*$a*$v^($p-1)) : e"
   ]
  },
  {
   "cell_type": "code",
   "execution_count": 135,
   "id": "e2c8fc84",
   "metadata": {},
   "outputs": [
    {
     "data": {
      "text/plain": [
       ":(4 * 3 * x ^ (4 - 1))"
      ]
     },
     "execution_count": 135,
     "metadata": {},
     "output_type": "execute_result"
    }
   ],
   "source": [
    "c(:(3x ^ 4))"
   ]
  },
  {
   "cell_type": "code",
   "execution_count": 136,
   "id": "085cf891",
   "metadata": {},
   "outputs": [
    {
     "data": {
      "text/plain": [
       ":(4 * 3 * x ^ (4 - 1) + 2 * 5 * y ^ (2 - 1) + 3 * 9 * z ^ (3 - 1))"
      ]
     },
     "execution_count": 136,
     "metadata": {},
     "output_type": "execute_result"
    }
   ],
   "source": [
    "postwalk(c, polynomial)"
   ]
  },
  {
   "cell_type": "code",
   "execution_count": null,
   "id": "0a081835",
   "metadata": {},
   "outputs": [],
   "source": [
    "@capture(ex, )"
   ]
  },
  {
   "cell_type": "code",
   "execution_count": null,
   "id": "1a477ece",
   "metadata": {},
   "outputs": [],
   "source": [
    "macro foo(ex)\n",
    "  postwalk(ex) do x\n",
    "    @capture(x, some_pattern) || return x\n",
    "    return new_x\n",
    "  end\n",
    "end\n"
   ]
  },
  {
   "cell_type": "code",
   "execution_count": 154,
   "id": "2f129667",
   "metadata": {},
   "outputs": [
    {
     "data": {
      "text/plain": [
       "@declare_then_print (macro with 1 method)"
      ]
     },
     "execution_count": 154,
     "metadata": {},
     "output_type": "execute_result"
    }
   ],
   "source": [
    "macro declare_then_print(ex)\n",
    "    return :(\n",
    "        println(\"I am about to evaluate $ex\"),\n",
    "        ex\n",
    "        )\n",
    "end"
   ]
  },
  {
   "cell_type": "code",
   "execution_count": 151,
   "id": "47795fa7",
   "metadata": {},
   "outputs": [
    {
     "data": {
      "text/plain": [
       ":(Main.println(\"I am about to evaluate $(Main.ex)\") $ Main.ex)"
      ]
     },
     "execution_count": 151,
     "metadata": {},
     "output_type": "execute_result"
    }
   ],
   "source": [
    "@macroexpand @declare_then_print(:(3 + 5 * :x))"
   ]
  },
  {
   "cell_type": "code",
   "execution_count": 155,
   "id": "fd3eccf0",
   "metadata": {},
   "outputs": [
    {
     "name": "stdout",
     "output_type": "stream",
     "text": [
      "I am about to evaluate f(1, 2, 3)\n"
     ]
    },
    {
     "data": {
      "text/plain": [
       "(nothing, :(f(1, 2, 3)))"
      ]
     },
     "execution_count": 155,
     "metadata": {},
     "output_type": "execute_result"
    }
   ],
   "source": [
    "@declare_then_print(:(3 + 5))"
   ]
  },
  {
   "cell_type": "code",
   "execution_count": 157,
   "id": "8e5522c9",
   "metadata": {},
   "outputs": [],
   "source": [
    "## ChainRulesCore"
   ]
  },
  {
   "cell_type": "code",
   "execution_count": 158,
   "id": "2a8c2653",
   "metadata": {},
   "outputs": [
    {
     "name": "stderr",
     "output_type": "stream",
     "text": [
      "\u001b[32m\u001b[1m   Resolving\u001b[22m\u001b[39m package versions...\n",
      "\u001b[32m\u001b[1m   Installed\u001b[22m\u001b[39m ChainRulesCore ─ v1.15.5\n",
      "\u001b[32m\u001b[1m    Updating\u001b[22m\u001b[39m `~/.julia/environments/v1.8/Project.toml`\n",
      " \u001b[90m [d360d2e6] \u001b[39m\u001b[92m+ ChainRulesCore v1.15.5\u001b[39m\n",
      "\u001b[32m\u001b[1m    Updating\u001b[22m\u001b[39m `~/.julia/environments/v1.8/Manifest.toml`\n",
      " \u001b[90m [d360d2e6] \u001b[39m\u001b[93m↑ ChainRulesCore v1.15.4 ⇒ v1.15.5\u001b[39m\n",
      "\u001b[32m\u001b[1mPrecompiling\u001b[22m\u001b[39m project...\n",
      "\u001b[32m  ✓ \u001b[39mChainRulesCore\n",
      "\u001b[32m  ✓ \u001b[39m\u001b[90mChangesOfVariables\u001b[39m\n",
      "\u001b[32m  ✓ \u001b[39m\u001b[90mAbstractFFTs\u001b[39m\n",
      "\u001b[32m  ✓ \u001b[39m\u001b[90mOptimisers\u001b[39m\n",
      "\u001b[32m  ✓ \u001b[39m\u001b[90mLogExpFunctions\u001b[39m\n",
      "\u001b[32m  ✓ \u001b[39m\u001b[90mNNlib\u001b[39m\n",
      "\u001b[32m  ✓ \u001b[39m\u001b[90mStatsBase\u001b[39m\n",
      "\u001b[32m  ✓ \u001b[39m\u001b[90mMLUtils\u001b[39m\n",
      "\u001b[32m  ✓ \u001b[39m\u001b[90mSpecialFunctions\u001b[39m\n",
      "\u001b[32m  ✓ \u001b[39m\u001b[90mChainRules\u001b[39m\n",
      "\u001b[32m  ✓ \u001b[39m\u001b[90mDiffRules\u001b[39m\n",
      "\u001b[32m  ✓ \u001b[39m\u001b[90mForwardDiff\u001b[39m\n",
      "\u001b[32m  ✓ \u001b[39mZygote\n",
      "\u001b[32m  ✓ \u001b[39m\u001b[90mCUDA\u001b[39m\n",
      "\u001b[32m  ✓ \u001b[39m\u001b[90mNNlibCUDA\u001b[39m\n",
      "\u001b[32m  ✓ \u001b[39mFlux\n",
      "  16 dependencies successfully precompiled in 44 seconds. 66 already precompiled.\n"
     ]
    }
   ],
   "source": []
  },
  {
   "cell_type": "code",
   "execution_count": 42,
   "id": "3920a0e7",
   "metadata": {},
   "outputs": [
    {
     "data": {
      "text/plain": [
       "crc_test (generic function with 1 method)"
      ]
     },
     "execution_count": 42,
     "metadata": {},
     "output_type": "execute_result"
    }
   ],
   "source": [
    "function crc_test(x)\n",
    "    a = sin(x)\n",
    "    b = 3 + a\n",
    "    c = b^2\n",
    "    return c\n",
    "end"
   ]
  },
  {
   "cell_type": "code",
   "execution_count": 43,
   "id": "5d77f6bc",
   "metadata": {},
   "outputs": [
    {
     "data": {
      "text/plain": [
       "(4.1511112620345205,)"
      ]
     },
     "execution_count": 43,
     "metadata": {},
     "output_type": "execute_result"
    }
   ],
   "source": [
    "Zygote.gradient(x -> crc_test(x), 1)"
   ]
  },
  {
   "cell_type": "code",
   "execution_count": 193,
   "id": "09db9c64",
   "metadata": {},
   "outputs": [
    {
     "data": {
      "text/plain": [
       "quote\n",
       "    \u001b[90m#= /home/robert/.julia/packages/ChainRulesCore/Z4Jry/src/rule_definition_tools.jl:103 =#\u001b[39m\n",
       "    if !(sin isa ChainRulesCore.Type) && ChainRulesCore.fieldcount(ChainRulesCore.typeof(sin)) > 0\n",
       "        \u001b[90m#= /home/robert/.julia/packages/ChainRulesCore/Z4Jry/src/rule_definition_tools.jl:104 =#\u001b[39m\n",
       "        ChainRulesCore.throw(ChainRulesCore.ArgumentError(\"@scalar_rule cannot be used on closures/functors (such as $(sin))\"))\n",
       "    end\n",
       "    \u001b[90m#= /home/robert/.julia/packages/ChainRulesCore/Z4Jry/src/rule_definition_tools.jl:111 =#\u001b[39m\n",
       "    begin\n",
       "        function (ChainRulesCore.ChainRulesCore).derivatives_given_output(Ω, ::(ChainRulesCore.Core).Typeof(sin), x::Number)\n",
       "            \u001b[90m#= In[193]:1 =#\u001b[39m\n",
       "            return ((cos(x),),)\n",
       "        end\n",
       "    end\n",
       "    \u001b[90m#= /home/robert/.julia/packages/ChainRulesCore/Z4Jry/src/rule_definition_tools.jl:112 =#\u001b[39m\n",
       "    begin\n",
       "        function (ChainRulesCore.ChainRulesCore).frule((_, var\"##Δ1#328\"), ::(ChainRulesCore.Core).Typeof(sin), x::Number)\n",
       "            \u001b[90m#= In[193]:1 =#\u001b[39m\n",
       "            Ω = sin(x)\n",
       "            ((var\"#111#∂f1/∂x1\",),) = (ChainRulesCore.ChainRulesCore).derivatives_given_output(Ω, sin, x::Number)\n",
       "            return (Ω, (identity)(var\"#111#∂f1/∂x1\" * var\"##Δ1#328\"))\n",
       "        end\n",
       "    end\n",
       "    \u001b[90m#= /home/robert/.julia/packages/ChainRulesCore/Z4Jry/src/rule_definition_tools.jl:113 =#\u001b[39m\n",
       "    begin\n",
       "        function (ChainRulesCore.ChainRulesCore).rrule(::(ChainRulesCore.Core).Typeof(sin), x::Number)\n",
       "            \u001b[90m#= In[193]:1 =#\u001b[39m\n",
       "            Ω = sin(x)\n",
       "            var\"#113#proj_x\" = ChainRulesCore.ProjectTo(x)\n",
       "            ((var\"#114#∂f1/∂x1\",),) = (ChainRulesCore.ChainRulesCore).derivatives_given_output(Ω, sin, x::Number)\n",
       "            return (Ω, begin\n",
       "                        function sin_pullback(var\"##Δ1#329\")\n",
       "                            $(Expr(:meta, :inline))\n",
       "                            \u001b[90m#= In[193]:1 =#\u001b[39m\n",
       "                            return (ChainRulesCore.NoTangent(), var\"#113#proj_x\"(ChainRulesCore.conj(var\"#114#∂f1/∂x1\") * var\"##Δ1#329\"))\n",
       "                        end\n",
       "                    end)\n",
       "        end\n",
       "    end\n",
       "end"
      ]
     },
     "execution_count": 193,
     "metadata": {},
     "output_type": "execute_result"
    }
   ],
   "source": [
    "@macroexpand @scalar_rule(sin(x), cos(x))"
   ]
  },
  {
   "cell_type": "code",
   "execution_count": 15,
   "id": "65a021ba",
   "metadata": {},
   "outputs": [
    {
     "data": {
      "text/plain": [
       "derivatives_given_output2 (generic function with 1 method)"
      ]
     },
     "execution_count": 15,
     "metadata": {},
     "output_type": "execute_result"
    }
   ],
   "source": [
    "function derivatives_given_output2(Ω, ::(ChainRulesCore.Core).Typeof(sin), x::Number)\n",
    "    return ((cos(x),),)\n",
    "end"
   ]
  },
  {
   "cell_type": "code",
   "execution_count": 17,
   "id": "d0ff1b08",
   "metadata": {},
   "outputs": [
    {
     "data": {
      "text/plain": [
       "((-1.0,),)"
      ]
     },
     "execution_count": 17,
     "metadata": {},
     "output_type": "execute_result"
    }
   ],
   "source": [
    "derivatives_given_output2(sin(π), sin, π)"
   ]
  },
  {
   "cell_type": "code",
   "execution_count": null,
   "id": "29563675",
   "metadata": {},
   "outputs": [],
   "source": []
  },
  {
   "cell_type": "code",
   "execution_count": 18,
   "id": "f1a81214",
   "metadata": {},
   "outputs": [
    {
     "data": {
      "text/plain": [
       "frule2 (generic function with 1 method)"
      ]
     },
     "execution_count": 18,
     "metadata": {},
     "output_type": "execute_result"
    }
   ],
   "source": [
    "function frule2((_, Δ1), ::(ChainRulesCore.Core).Typeof(sin), x::Number)\n",
    "    Ω = sin(x)\n",
    "    ((∂f1∂x1,),) = derivatives_given_output2(Ω, sin, x::Number)\n",
    "    return (Ω, (identity)(∂f1∂x1 * Δ1))\n",
    "end"
   ]
  },
  {
   "cell_type": "code",
   "execution_count": 23,
   "id": "2e78bf31",
   "metadata": {},
   "outputs": [
    {
     "data": {
      "text/plain": [
       "(0.1411200080598672, -98.99924966004454)"
      ]
     },
     "execution_count": 23,
     "metadata": {},
     "output_type": "execute_result"
    }
   ],
   "source": [
    "frule2((0, 100), sin, 3)"
   ]
  },
  {
   "cell_type": "code",
   "execution_count": 25,
   "id": "9b274c09",
   "metadata": {},
   "outputs": [
    {
     "data": {
      "text/plain": [
       "rrule2 (generic function with 1 method)"
      ]
     },
     "execution_count": 25,
     "metadata": {},
     "output_type": "execute_result"
    }
   ],
   "source": [
    "function rrule2(::(ChainRulesCore.Core).Typeof(sin), x::Number)\n",
    "    Ω = sin(x)\n",
    "    proj_x = ChainRulesCore.ProjectTo(x)\n",
    "    ((∂f1∂x1,),) = derivatives_given_output2(Ω, sin, x::Number)\n",
    "    return (Ω, begin\n",
    "                function sin_pullback(Δ1)\n",
    "                    return (ChainRulesCore.NoTangent(), proj_x(ChainRulesCore.conj(∂f1∂x1) * Δ1))\n",
    "                end\n",
    "            end)\n",
    "end"
   ]
  },
  {
   "cell_type": "code",
   "execution_count": 32,
   "id": "e00405ce",
   "metadata": {},
   "outputs": [
    {
     "data": {
      "text/plain": [
       "(NoTangent(), -98.99924966004454)"
      ]
     },
     "execution_count": 32,
     "metadata": {},
     "output_type": "execute_result"
    }
   ],
   "source": [
    "rrule2(sin, 3)[2](100)"
   ]
  },
  {
   "cell_type": "code",
   "execution_count": 163,
   "id": "de83002a",
   "metadata": {},
   "outputs": [],
   "source": [
    "@scalar_rule(sin(x), cos(x))"
   ]
  },
  {
   "cell_type": "code",
   "execution_count": 181,
   "id": "bb82c0d9",
   "metadata": {},
   "outputs": [],
   "source": [
    "@scalar_rule(+(x, y), (1.0, 1.))"
   ]
  },
  {
   "cell_type": "code",
   "execution_count": 164,
   "id": "369ce5a2",
   "metadata": {},
   "outputs": [
    {
     "data": {
      "text/plain": [
       "(0.1411200080598672, var\"#sin_pullback#52\"{Float64, ProjectTo{Float64, NamedTuple{(), Tuple{}}}}(-0.9899924966004454, ProjectTo{Float64}()))"
      ]
     },
     "execution_count": 164,
     "metadata": {},
     "output_type": "execute_result"
    }
   ],
   "source": [
    "x = 3\n",
    "a, a_pullback = rrule(sin, x)"
   ]
  },
  {
   "cell_type": "code",
   "execution_count": 170,
   "id": "b743483d",
   "metadata": {},
   "outputs": [
    {
     "data": {
      "text/plain": [
       "(NoTangent(), -0.9899924966004454)"
      ]
     },
     "execution_count": 170,
     "metadata": {},
     "output_type": "execute_result"
    }
   ],
   "source": [
    "a_pullback(1)"
   ]
  },
  {
   "cell_type": "code",
   "execution_count": 177,
   "id": "e47e771d",
   "metadata": {},
   "outputs": [
    {
     "data": {
      "text/plain": [
       "0.1411200080598672"
      ]
     },
     "execution_count": 177,
     "metadata": {},
     "output_type": "execute_result"
    }
   ],
   "source": [
    "a"
   ]
  },
  {
   "cell_type": "code",
   "execution_count": 182,
   "id": "3b1427a9",
   "metadata": {},
   "outputs": [
    {
     "data": {
      "text/plain": [
       "(0.3411200080598672, var\"#+_pullback#55\"{Float64, Float64, ProjectTo{Float64, NamedTuple{(), Tuple{}}}, ProjectTo{Float64, NamedTuple{(), Tuple{}}}}(1.0, 1.0, ProjectTo{Float64}(), ProjectTo{Float64}()))"
      ]
     },
     "execution_count": 182,
     "metadata": {},
     "output_type": "execute_result"
    }
   ],
   "source": [
    "b, b_pullback = rrule(+, 0.2, a)"
   ]
  },
  {
   "cell_type": "code",
   "execution_count": 176,
   "id": "bb0973c9",
   "metadata": {},
   "outputs": [
    {
     "data": {
      "text/plain": [
       "0.3411200080598672"
      ]
     },
     "execution_count": 176,
     "metadata": {},
     "output_type": "execute_result"
    }
   ],
   "source": [
    "b"
   ]
  },
  {
   "cell_type": "code",
   "execution_count": 178,
   "id": "447c6277",
   "metadata": {},
   "outputs": [
    {
     "data": {
      "text/plain": [
       "(NoTangent(), 1.0, 1.0)"
      ]
     },
     "execution_count": 178,
     "metadata": {},
     "output_type": "execute_result"
    }
   ],
   "source": [
    "b_pullback(1)"
   ]
  },
  {
   "cell_type": "code",
   "execution_count": null,
   "id": "f1e132c7",
   "metadata": {},
   "outputs": [],
   "source": [
    "# Define rules (alternatively get them for free via `using ChainRules`)\n",
    "@scalar_rule(sin(x), cos(x))\n",
    "@scalar_rule(+(x, y), (1.0, 1.0))\n",
    "@scalar_rule(asin(x), inv(sqrt(1 - x^2)))\n",
    "\n",
    "#### Find dfoo/dx via rrules\n",
    "#### First the forward pass, gathering up the pullbacks\n",
    "x = 3;\n",
    "a, a_pullback = rrule(sin, x);\n",
    "b, b_pullback = rrule(+, 0.2, a);\n",
    "c, c_pullback = rrule(asin, b)\n",
    "\n",
    "#### Then the backward pass calculating gradients\n",
    "c̄ = 1;                    # ∂c/∂c\n",
    "_, b̄ = c_pullback(c̄);     # ∂c/∂b = ∂c/∂b ⋅ ∂c/∂c\n",
    "_, _, ā = b_pullback(b̄);  # ∂c/∂a = ∂c/∂b ⋅ ∂b/∂a\n",
    "_, x̄ = a_pullback(ā);     # ∂c/∂x = ∂c/∂a ⋅ ∂a/∂x\n",
    "x̄                         # ∂c/∂x = ∂foo/∂x\n",
    "# output\n",
    "-1.0531613736418153\n",
    "\n",
    "#### Find dfoo/dx via frules\n",
    "x = 3;\n",
    "ẋ = 1;              # ∂x/∂x\n",
    "nofields = ZeroTangent();  # ∂self/∂self\n",
    "\n",
    "a, ȧ = frule((nofields, ẋ), sin, x);                    # ∂a/∂x = ∂a/∂x ⋅ ∂x/∂x \n",
    "b, ḃ = frule((nofields, ZeroTangent(), ȧ), +, 0.2, a);  # ∂b/∂x = ∂b/∂a ⋅ ∂a/∂x\n",
    "c, ċ = frule((nofields, ḃ), asin, b);                   # ∂c/∂x = ∂c/∂b ⋅ ∂b/∂x\n",
    "ċ                                                       # ∂c/∂x = ∂foo/∂x\n",
    "# output\n",
    "-1.0531613736418153\n",
    "\n",
    "#### Find dfoo/dx via FiniteDifferences.jl\n",
    "using FiniteDifferences\n",
    "central_fdm(5, 1)(foo, x)\n",
    "# output\n",
    "-1.0531613736418257\n",
    "\n",
    "#### Find dfoo/dx via ForwardDiff.jl\n",
    "using ForwardDiff\n",
    "ForwardDiff.derivative(foo, x)\n",
    "# output\n",
    "-1.0531613736418153\n",
    "\n",
    "#### Find dfoo/dx via Zygote.jl\n",
    "using Zygote\n",
    "Zygote.gradient(foo, x)\n",
    "# output\n",
    "(-1.0531613736418153,)\n"
   ]
  }
 ],
 "metadata": {
  "kernelspec": {
   "display_name": "Julia 1.8.1",
   "language": "julia",
   "name": "julia-1.8"
  },
  "language_info": {
   "file_extension": ".jl",
   "mimetype": "application/julia",
   "name": "julia",
   "version": "1.8.1"
  }
 },
 "nbformat": 4,
 "nbformat_minor": 5
}
