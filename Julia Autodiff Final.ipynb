{
 "cells": [
  {
   "cell_type": "markdown",
   "id": "bac7d159",
   "metadata": {},
   "source": [
    "### What\n",
    "\n",
    "In this notebook, we build a simple prototype of source-to-source reverse-mode automatic differentiation. This is the same strategy used by `Zygote.jl`.\n",
    "\n",
    "We opt to implement **reverse mode** automatic differentiation because it efficiently computes the gradient of functions with a (very) large number of inputs and a single output. This kind of problem shows up in all kinds of optimization, most notably machine learning.\n",
    "\n",
    "We also choose to do **source-to-source** transformation. This is substantially more complex to implement than dynamic systems, which build up a computation graph and then differentiate through it on every program run. The main benefit is that our gradient computation can be compiled ahead of time and optimized down by LLVM, instead of (expensively) re-built and (poorly) optimized every time.\n",
    "\n",
    "This is also better than trace-based systems, which usually end up with a huge number of traced operations. Since there are so many operations, it's infeasible to analyze with optimization algorithms requiring `O(N^2)` time, and we're unable to optimize effectively anyway. (source: Zygote paper)"
   ]
  },
  {
   "cell_type": "markdown",
   "id": "24fbd044",
   "metadata": {},
   "source": [
    "### How"
   ]
  },
  {
   "cell_type": "markdown",
   "id": "d8ed42ca",
   "metadata": {},
   "source": []
  },
  {
   "cell_type": "markdown",
   "id": "7fa2113e",
   "metadata": {},
   "source": [
    "### Version 1"
   ]
  },
  {
   "cell_type": "markdown",
   "id": "e6795af3",
   "metadata": {},
   "source": [
    "We begin by building a program to automatically differentiate `simple_math`."
   ]
  },
  {
   "cell_type": "code",
   "execution_count": 1,
   "id": "93eeeb68",
   "metadata": {},
   "outputs": [
    {
     "data": {
      "text/plain": [
       "simple_math (generic function with 1 method)"
      ]
     },
     "execution_count": 1,
     "metadata": {},
     "output_type": "execute_result"
    }
   ],
   "source": [
    "function simple_math(x, y)\n",
    "    x * y + sin(x)\n",
    "end"
   ]
  },
  {
   "cell_type": "markdown",
   "id": "8ea2cd3d",
   "metadata": {},
   "source": [
    "Our automatic differentiator operates at the SSA-level: it deals with a simplified structure, called static single-assignment form, where variables can only be assigned once, and control flow is simplified into only simple branch/goto statements.\n",
    "\n",
    "Julia does this pass [internally](https://docs.julialang.org/en/v1/devdocs/ssair/), but doesn't expose the details, so we use the `IRTools.jl` library instead. This is the same one used by Zygote."
   ]
  },
  {
   "cell_type": "markdown",
   "id": "54ec859c",
   "metadata": {},
   "source": [
    "Converting `simple_math` to SSA form using `IRTools.jl`, we have:"
   ]
  },
  {
   "cell_type": "code",
   "execution_count": 3,
   "id": "adee0d78",
   "metadata": {},
   "outputs": [],
   "source": [
    "using IRTools"
   ]
  },
  {
   "cell_type": "code",
   "execution_count": 4,
   "id": "5ec1fbd1",
   "metadata": {},
   "outputs": [
    {
     "data": {
      "text/plain": [
       "1: (%1, %2, %3)\n",
       "  %4 = %2 * %3\n",
       "  %5 = Main.sin(%2)\n",
       "  %6 = %4 + %5\n",
       "  return %6"
      ]
     },
     "execution_count": 4,
     "metadata": {},
     "output_type": "execute_result"
    }
   ],
   "source": [
    "IRTools.@code_ir simple_math(3, 5)"
   ]
  },
  {
   "cell_type": "markdown",
   "id": "2667165b",
   "metadata": {},
   "source": [
    "For our first version, our algorithm is as follows:\n",
    "* Find the return value (`%6` here), and set its adjoint to 1.\n",
    "* Iterate through the program backwards and compute the adjoints `gN` for each `%N`."
   ]
  },
  {
   "cell_type": "markdown",
   "id": "ed3f9f76",
   "metadata": {},
   "source": [
    "### References"
   ]
  },
  {
   "cell_type": "markdown",
   "id": "5b21fa35",
   "metadata": {},
   "source": [
    "* https://arxiv.org/pdf/1810.07951.pdf\n",
    "* https://fluxml.ai/Zygote.jl/latest/internals/\n",
    "* https://rufflewind.com/2016-12-30/reverse-mode-automatic-differentiation"
   ]
  }
 ],
 "metadata": {
  "kernelspec": {
   "display_name": "Julia 1.8.1",
   "language": "julia",
   "name": "julia-1.8"
  },
  "language_info": {
   "file_extension": ".jl",
   "mimetype": "application/julia",
   "name": "julia",
   "version": "1.8.1"
  }
 },
 "nbformat": 4,
 "nbformat_minor": 5
}
