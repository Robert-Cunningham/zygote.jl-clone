{
 "cells": [
  {
   "cell_type": "code",
   "execution_count": 1,
   "id": "ab4406b1",
   "metadata": {},
   "outputs": [],
   "source": [
    "import Pkg;"
   ]
  },
  {
   "cell_type": "code",
   "execution_count": 2,
   "id": "cb8b0552",
   "metadata": {},
   "outputs": [
    {
     "name": "stderr",
     "output_type": "stream",
     "text": [
      "\u001b[32m\u001b[1m    Updating\u001b[22m\u001b[39m registry at `~/.julia/registries/General.toml`\n",
      "\u001b[32m\u001b[1m   Resolving\u001b[22m\u001b[39m package versions...\n",
      "\u001b[32m\u001b[1m  No Changes\u001b[22m\u001b[39m to `~/.julia/environments/v1.8/Project.toml`\n",
      "\u001b[32m\u001b[1m  No Changes\u001b[22m\u001b[39m to `~/.julia/environments/v1.8/Manifest.toml`\n"
     ]
    }
   ],
   "source": [
    "Pkg.add(\"ChainRules\")"
   ]
  },
  {
   "cell_type": "code",
   "execution_count": 3,
   "id": "590f28ad",
   "metadata": {},
   "outputs": [],
   "source": [
    "using ChainRules\n",
    "using IRTools"
   ]
  },
  {
   "cell_type": "code",
   "execution_count": 4,
   "id": "d3e829fa",
   "metadata": {},
   "outputs": [
    {
     "data": {
      "text/plain": [
       "mult (generic function with 1 method)"
      ]
     },
     "execution_count": 4,
     "metadata": {},
     "output_type": "execute_result"
    }
   ],
   "source": [
    "function mult(a, b)\n",
    "    a * b\n",
    "end"
   ]
  },
  {
   "cell_type": "code",
   "execution_count": 5,
   "id": "dd5fcb90",
   "metadata": {},
   "outputs": [
    {
     "data": {
      "text/plain": [
       "add (generic function with 1 method)"
      ]
     },
     "execution_count": 5,
     "metadata": {},
     "output_type": "execute_result"
    }
   ],
   "source": [
    "function add(a, b)\n",
    "    a + b\n",
    "end"
   ]
  },
  {
   "cell_type": "code",
   "execution_count": 6,
   "id": "55573d5b",
   "metadata": {},
   "outputs": [
    {
     "data": {
      "text/plain": [
       "composite (generic function with 1 method)"
      ]
     },
     "execution_count": 6,
     "metadata": {},
     "output_type": "execute_result"
    }
   ],
   "source": [
    "function composite(a, b)\n",
    "    mult(a, add(a, b))\n",
    "end"
   ]
  },
  {
   "cell_type": "code",
   "execution_count": 7,
   "id": "cd0c4206",
   "metadata": {},
   "outputs": [
    {
     "data": {
      "text/plain": [
       "IRTools.Inner.BasicBlock(IRTools.Inner.Statement[IRTools.Inner.Statement(:(Main.add(%2, %3)), Any, 1), IRTools.Inner.Statement(:(Main.mult(%2, %4)), Any, 1)], Any[%1, %2, %3], Any[Any, Any, Any], IRTools.Inner.Branch[return %5])"
      ]
     },
     "execution_count": 7,
     "metadata": {},
     "output_type": "execute_result"
    }
   ],
   "source": [
    "bs = (IRTools.@code_ir composite(3, 5)).blocks[1]"
   ]
  },
  {
   "cell_type": "code",
   "execution_count": 8,
   "id": "4a2b7a66",
   "metadata": {},
   "outputs": [
    {
     "data": {
      "text/plain": [
       ":(Main.add)"
      ]
     },
     "execution_count": 8,
     "metadata": {},
     "output_type": "execute_result"
    }
   ],
   "source": [
    "add_ref = (bs.stmts[1].expr.args[1])"
   ]
  },
  {
   "cell_type": "code",
   "execution_count": 9,
   "id": "9cf41456",
   "metadata": {},
   "outputs": [
    {
     "data": {
      "text/plain": [
       ":(Main.add)"
      ]
     },
     "execution_count": 9,
     "metadata": {},
     "output_type": "execute_result"
    }
   ],
   "source": [
    "add_ref"
   ]
  },
  {
   "cell_type": "code",
   "execution_count": 10,
   "id": "07d085de",
   "metadata": {},
   "outputs": [],
   "source": [
    "using ChainRules"
   ]
  },
  {
   "cell_type": "code",
   "execution_count": 11,
   "id": "9f2b5b59",
   "metadata": {},
   "outputs": [],
   "source": [
    "ChainRules.rrule(add_ref, :x, :y)"
   ]
  },
  {
   "cell_type": "code",
   "execution_count": 12,
   "id": "7384677c",
   "metadata": {},
   "outputs": [],
   "source": [
    "ChainRules.rrule(typeof(Main.:*), :x, :y)"
   ]
  },
  {
   "cell_type": "code",
   "execution_count": 13,
   "id": "e5d48b64",
   "metadata": {},
   "outputs": [],
   "source": [
    "ChainRules.rrule(typeof(Main.sin), :x)"
   ]
  },
  {
   "cell_type": "code",
   "execution_count": 14,
   "id": "39325a0f",
   "metadata": {},
   "outputs": [
    {
     "data": {
      "text/plain": [
       "(15, ChainRules.var\"#times_pullback2#1333\"{Int64, Int64}(3, 5))"
      ]
     },
     "execution_count": 14,
     "metadata": {},
     "output_type": "execute_result"
    }
   ],
   "source": [
    "val, pullback = ChainRules.rrule(*, 3, 5)"
   ]
  },
  {
   "cell_type": "code",
   "execution_count": 15,
   "id": "4f00aebb",
   "metadata": {},
   "outputs": [
    {
     "data": {
      "text/plain": [
       "(ChainRulesCore.NoTangent(), 30.0, 18.0, 15.0)"
      ]
     },
     "execution_count": 15,
     "metadata": {},
     "output_type": "execute_result"
    }
   ],
   "source": [
    "pb = ChainRules.rrule(*, 3, 5, 6)[2](1)"
   ]
  },
  {
   "cell_type": "code",
   "execution_count": 16,
   "id": "9f2699ae",
   "metadata": {},
   "outputs": [
    {
     "data": {
      "text/plain": [
       "(ChainRulesCore.NoTangent(), 20.0, 12.0)"
      ]
     },
     "execution_count": 16,
     "metadata": {},
     "output_type": "execute_result"
    }
   ],
   "source": [
    "pullback(4)"
   ]
  },
  {
   "cell_type": "code",
   "execution_count": 17,
   "id": "4799aeb4",
   "metadata": {},
   "outputs": [
    {
     "data": {
      "text/plain": [
       "+ (generic function with 243 methods)"
      ]
     },
     "execution_count": 17,
     "metadata": {},
     "output_type": "execute_result"
    }
   ],
   "source": [
    "+"
   ]
  },
  {
   "cell_type": "code",
   "execution_count": 18,
   "id": "97e3c240",
   "metadata": {},
   "outputs": [
    {
     "data": {
      "text/plain": [
       "add (generic function with 1 method)"
      ]
     },
     "execution_count": 18,
     "metadata": {},
     "output_type": "execute_result"
    }
   ],
   "source": [
    "eval(add_ref)"
   ]
  },
  {
   "cell_type": "code",
   "execution_count": 19,
   "id": "48069865",
   "metadata": {},
   "outputs": [],
   "source": [
    "ChainRules.rrule(eval(add_ref), 3, 5)"
   ]
  },
  {
   "cell_type": "code",
   "execution_count": 20,
   "id": "78904b47",
   "metadata": {},
   "outputs": [
    {
     "ename": "LoadError",
     "evalue": "MethodError: no method matching iterate(::Nothing)\n\u001b[0mClosest candidates are:\n\u001b[0m  iterate(\u001b[91m::Union{LinRange, StepRangeLen}\u001b[39m) at range.jl:872\n\u001b[0m  iterate(\u001b[91m::Union{LinRange, StepRangeLen}\u001b[39m, \u001b[91m::Integer\u001b[39m) at range.jl:872\n\u001b[0m  iterate(\u001b[91m::T\u001b[39m) where T<:Union{Base.KeySet{<:Any, <:Dict}, Base.ValueIterator{<:Dict}} at dict.jl:712\n\u001b[0m  ...",
     "output_type": "error",
     "traceback": [
      "MethodError: no method matching iterate(::Nothing)\n\u001b[0mClosest candidates are:\n\u001b[0m  iterate(\u001b[91m::Union{LinRange, StepRangeLen}\u001b[39m) at range.jl:872\n\u001b[0m  iterate(\u001b[91m::Union{LinRange, StepRangeLen}\u001b[39m, \u001b[91m::Integer\u001b[39m) at range.jl:872\n\u001b[0m  iterate(\u001b[91m::T\u001b[39m) where T<:Union{Base.KeySet{<:Any, <:Dict}, Base.ValueIterator{<:Dict}} at dict.jl:712\n\u001b[0m  ...",
      "",
      "Stacktrace:",
      " [1] indexed_iterate(I::Nothing, i::Int64)",
      "   @ Base ./tuple.jl:91",
      " [2] top-level scope",
      "   @ In[20]:1",
      " [3] eval",
      "   @ ./boot.jl:368 [inlined]",
      " [4] include_string(mapexpr::typeof(REPL.softscope), mod::Module, code::String, filename::String)",
      "   @ Base ./loading.jl:1428"
     ]
    }
   ],
   "source": [
    "val, pullback = ChainRules.rrule(add_ref, 3, 5)"
   ]
  },
  {
   "cell_type": "code",
   "execution_count": 21,
   "id": "213999e9",
   "metadata": {},
   "outputs": [
    {
     "data": {
      "text/plain": [
       "(ChainRulesCore.NoTangent(), 25.0, 15.0)"
      ]
     },
     "execution_count": 21,
     "metadata": {},
     "output_type": "execute_result"
    }
   ],
   "source": [
    "pullback(5)"
   ]
  },
  {
   "cell_type": "code",
   "execution_count": 22,
   "id": "b7cb8486",
   "metadata": {},
   "outputs": [
    {
     "data": {
      "text/plain": [
       "simple_math (generic function with 1 method)"
      ]
     },
     "execution_count": 22,
     "metadata": {},
     "output_type": "execute_result"
    }
   ],
   "source": [
    "function simple_math(x, y)\n",
    "    x * y + sin(x)\n",
    "end"
   ]
  },
  {
   "cell_type": "code",
   "execution_count": 23,
   "id": "a1a78434",
   "metadata": {},
   "outputs": [
    {
     "ename": "LoadError",
     "evalue": "UndefVarError: gradient_2 not defined",
     "output_type": "error",
     "traceback": [
      "UndefVarError: gradient_2 not defined",
      "",
      "Stacktrace:",
      " [1] top-level scope",
      "   @ In[23]:1",
      " [2] eval",
      "   @ ./boot.jl:368 [inlined]",
      " [3] include_string(mapexpr::typeof(REPL.softscope), mod::Module, code::String, filename::String)",
      "   @ Base ./loading.jl:1428"
     ]
    }
   ],
   "source": [
    "gradient_2(simple_math, 3, 5)"
   ]
  },
  {
   "cell_type": "code",
   "execution_count": 39,
   "id": "5ca74a51",
   "metadata": {},
   "outputs": [
    {
     "data": {
      "text/plain": [
       "gen_test (generic function with 1 method)"
      ]
     },
     "execution_count": 39,
     "metadata": {},
     "output_type": "execute_result"
    }
   ],
   "source": [
    "@generated function gen_test(x)\n",
    "    Core.println(x)\n",
    "    return :(x * x)\n",
    "end"
   ]
  },
  {
   "cell_type": "code",
   "execution_count": 40,
   "id": "dbaeeaf8",
   "metadata": {},
   "outputs": [
    {
     "name": "stdout",
     "output_type": "stream",
     "text": [
      "Int64\n"
     ]
    },
    {
     "data": {
      "text/plain": [
       "25"
      ]
     },
     "execution_count": 40,
     "metadata": {},
     "output_type": "execute_result"
    }
   ],
   "source": [
    "gen_test(5)"
   ]
  },
  {
   "cell_type": "code",
   "execution_count": 73,
   "id": "fef07347",
   "metadata": {},
   "outputs": [
    {
     "data": {
      "text/plain": [
       "derivative_rule_gen (generic function with 1 method)"
      ]
     },
     "execution_count": 73,
     "metadata": {},
     "output_type": "execute_result"
    }
   ],
   "source": [
    "@generated function derivative_rule_gen(f, args, i)\n",
    "    return :(gradient_2(f, args...)[i])\n",
    "end"
   ]
  },
  {
   "cell_type": "code",
   "execution_count": 58,
   "id": "c02acfe1",
   "metadata": {},
   "outputs": [
    {
     "name": "stdout",
     "output_type": "stream",
     "text": [
      "typeof(Base.sin)\n"
     ]
    },
    {
     "data": {
      "text/plain": [
       "sin (generic function with 14 methods)"
      ]
     },
     "execution_count": 58,
     "metadata": {},
     "output_type": "execute_result"
    }
   ],
   "source": [
    "derivative_rule_gen(sin, 0, 1)"
   ]
  },
  {
   "cell_type": "code",
   "execution_count": 60,
   "id": "c4819bbd",
   "metadata": {},
   "outputs": [
    {
     "data": {
      "text/plain": [
       "derivative_rule (generic function with 3 methods)"
      ]
     },
     "execution_count": 60,
     "metadata": {},
     "output_type": "execute_result"
    }
   ],
   "source": [
    "include(\"autodiff_v2.jl\")"
   ]
  },
  {
   "cell_type": "code",
   "execution_count": 66,
   "id": "05549b78",
   "metadata": {},
   "outputs": [
    {
     "data": {
      "text/plain": [
       "5"
      ]
     },
     "execution_count": 66,
     "metadata": {},
     "output_type": "execute_result"
    }
   ],
   "source": [
    "derivative_rule(*, [3, 5], 1)"
   ]
  },
  {
   "cell_type": "code",
   "execution_count": 82,
   "id": "81d50f37",
   "metadata": {},
   "outputs": [
    {
     "data": {
      "text/plain": [
       "5"
      ]
     },
     "execution_count": 82,
     "metadata": {},
     "output_type": "execute_result"
    }
   ],
   "source": [
    "derivative_rule(*, [3, 5], 1)"
   ]
  },
  {
   "cell_type": "code",
   "execution_count": 81,
   "id": "b687b747",
   "metadata": {},
   "outputs": [
    {
     "data": {
      "text/plain": [
       "5"
      ]
     },
     "execution_count": 81,
     "metadata": {},
     "output_type": "execute_result"
    }
   ],
   "source": [
    "derivative_rule_gen(mult, [3, 5], 1)"
   ]
  },
  {
   "cell_type": "code",
   "execution_count": null,
   "id": "9d8e1c74",
   "metadata": {},
   "outputs": [],
   "source": [
    "MethodError: no method matching derivative_rule(::typeof(mult), ::Vector{Any}, ::Int64)"
   ]
  },
  {
   "cell_type": "code",
   "execution_count": 71,
   "id": "a206557c",
   "metadata": {},
   "outputs": [
    {
     "ename": "LoadError",
     "evalue": "MethodError: no method matching derivative_rule(::typeof(mult), ::Vector{Any}, ::Int64)\n\u001b[0mClosest candidates are:\n\u001b[0m  derivative_rule(\u001b[91m::typeof(sin)\u001b[39m, ::Any, ::Any) at ~/Documents/MIT/18.S191/autodiff_v2.jl:63\n\u001b[0m  derivative_rule(\u001b[91m::typeof(+)\u001b[39m, ::Any, ::Any) at ~/Documents/MIT/18.S191/autodiff_v2.jl:67\n\u001b[0m  derivative_rule(\u001b[91m::typeof(*)\u001b[39m, ::Any, ::Any) at ~/Documents/MIT/18.S191/autodiff_v2.jl:71",
     "output_type": "error",
     "traceback": [
      "MethodError: no method matching derivative_rule(::typeof(mult), ::Vector{Any}, ::Int64)\n\u001b[0mClosest candidates are:\n\u001b[0m  derivative_rule(\u001b[91m::typeof(sin)\u001b[39m, ::Any, ::Any) at ~/Documents/MIT/18.S191/autodiff_v2.jl:63\n\u001b[0m  derivative_rule(\u001b[91m::typeof(+)\u001b[39m, ::Any, ::Any) at ~/Documents/MIT/18.S191/autodiff_v2.jl:67\n\u001b[0m  derivative_rule(\u001b[91m::typeof(*)\u001b[39m, ::Any, ::Any) at ~/Documents/MIT/18.S191/autodiff_v2.jl:71",
      "",
      "Stacktrace:",
      " [1] gradient_2(::Function, ::Int64, ::Vararg{Int64})",
      "   @ Main ~/Documents/MIT/18.S191/autodiff_v2.jl:29",
      " [2] top-level scope",
      "   @ In[71]:1",
      " [3] eval",
      "   @ ./boot.jl:368 [inlined]",
      " [4] include_string(mapexpr::typeof(REPL.softscope), mod::Module, code::String, filename::String)",
      "   @ Base ./loading.jl:1428"
     ]
    }
   ],
   "source": [
    "gradient_2(composite, 3, 1)"
   ]
  },
  {
   "cell_type": "code",
   "execution_count": 30,
   "id": "1e10707e",
   "metadata": {},
   "outputs": [
    {
     "data": {
      "text/plain": [
       "foo (generic function with 1 method)"
      ]
     },
     "execution_count": 30,
     "metadata": {},
     "output_type": "execute_result"
    }
   ],
   "source": [
    "@generated function foo(x)\n",
    "           Core.println(x)\n",
    "           return :(x * x)\n",
    "       end"
   ]
  },
  {
   "cell_type": "code",
   "execution_count": 91,
   "id": "1682cea3",
   "metadata": {},
   "outputs": [
    {
     "data": {
      "text/plain": [
       "derivative_rule (generic function with 4 methods)"
      ]
     },
     "execution_count": 91,
     "metadata": {},
     "output_type": "execute_result"
    }
   ],
   "source": [
    "include(\"autodiff_v3.jl\")"
   ]
  },
  {
   "cell_type": "code",
   "execution_count": 92,
   "id": "0992ad87",
   "metadata": {},
   "outputs": [
    {
     "data": {
      "text/plain": [
       "derivative_rule (generic function with 4 methods)"
      ]
     },
     "execution_count": 92,
     "metadata": {},
     "output_type": "execute_result"
    }
   ],
   "source": [
    "function derivative_rule(::typeof(sin), args, i)\n",
    "    return :(cos($(args[1])))\n",
    "end\n",
    "\n",
    "function derivative_rule(::typeof(+), args, i)\n",
    "    return 1\n",
    "end\n",
    "\n",
    "function derivative_rule(::typeof(*), args, i)\n",
    "    if i == 1\n",
    "        return args[2]\n",
    "    elseif i == 2\n",
    "        return args[1]\n",
    "    end\n",
    "end\n",
    "\n",
    "function derivative_rule(unknown_function, args, i)\n",
    "    Core.println(\"fell through on\", unknown_function, args)\n",
    "    return gradient_3(unknown_function, args...)[i]\n",
    "    # return derivative_rule_gen(unknown_function, args, i)\n",
    "end\n",
    "\n",
    "#@generated function derivative_rule_gen(f, args, i)\n",
    "#end"
   ]
  },
  {
   "cell_type": "code",
   "execution_count": 94,
   "id": "670a83a2",
   "metadata": {},
   "outputs": [
    {
     "name": "stdout",
     "output_type": "stream",
     "text": [
      "Calling gradient onMain.composite(3, 5)\n",
      "exExpr(:call, Main.mult, IRTools.Inner.Variable(id=2), IRTools.Inner.Variable(id=4))\n",
      "fell through onMain.multArray{Any, (2,)}[IRTools.Inner.Variable(id=2), IRTools.Inner.Variable(id=4)]\n",
      "Calling gradient onMain.mult(IRTools.Inner.Variable(id=2), IRTools.Inner.Variable(id=4))\n",
      "exExpr(:call, Main.:(*), IRTools.Inner.Variable(id=2), IRTools.Inner.Variable(id=3))\n",
      "factorIRTools.Inner.Variable(id=3)\n",
      "exExpr(:call, Main.:(*), IRTools.Inner.Variable(id=2), IRTools.Inner.Variable(id=3))\n",
      "factorIRTools.Inner.Variable(id=2)\n",
      "finished transformation\n",
      "1: (%1, %2, %3)\n",
      "  %4 = %2 * %3\n",
      "  %5 = 1\n",
      "  %6 = 0\n",
      "  %7 = derivative_rule(*, Any[%2, %3], i)\n",
      "  %8 = %5 * %7\n",
      "  %9 = %6 + %8\n",
      "  %10 = 0\n",
      "  %11 = derivative_rule(*, Any[%2, %3], i)\n",
      "  %12 = %5 * %11\n",
      "  %13 = %10 + %12\n",
      "  %14 = Core.tuple(%4, %9, %13)\n",
      "  return %14\n"
     ]
    },
    {
     "ename": "LoadError",
     "evalue": "MethodError: no method matching *(::IRTools.Inner.Variable, ::IRTools.Inner.Variable)\n\u001b[0mClosest candidates are:\n\u001b[0m  *(::Any, ::Any, \u001b[91m::Any\u001b[39m, \u001b[91m::Any...\u001b[39m) at operators.jl:591\n\u001b[0m  *(\u001b[91m::ChainRulesCore.AbstractThunk\u001b[39m, ::Any) at ~/.julia/packages/ChainRulesCore/Z4Jry/src/tangent_arithmetic.jl:125\n\u001b[0m  *(\u001b[91m::ChainRulesCore.NoTangent\u001b[39m, ::Any) at ~/.julia/packages/ChainRulesCore/Z4Jry/src/tangent_arithmetic.jl:64\n\u001b[0m  ...",
     "output_type": "error",
     "traceback": [
      "MethodError: no method matching *(::IRTools.Inner.Variable, ::IRTools.Inner.Variable)\n\u001b[0mClosest candidates are:\n\u001b[0m  *(::Any, ::Any, \u001b[91m::Any\u001b[39m, \u001b[91m::Any...\u001b[39m) at operators.jl:591\n\u001b[0m  *(\u001b[91m::ChainRulesCore.AbstractThunk\u001b[39m, ::Any) at ~/.julia/packages/ChainRulesCore/Z4Jry/src/tangent_arithmetic.jl:125\n\u001b[0m  *(\u001b[91m::ChainRulesCore.NoTangent\u001b[39m, ::Any) at ~/.julia/packages/ChainRulesCore/Z4Jry/src/tangent_arithmetic.jl:64\n\u001b[0m  ...",
      "",
      "Stacktrace:",
      "  [1] ##343",
      "    @ ./In[4]:2 [inlined]",
      "  [2] var\"##343\"(arg1::Nothing, arg2::IRTools.Inner.Variable, arg3::IRTools.Inner.Variable)",
      "    @ IRTools.Inner ~/.julia/packages/IRTools/017wp/src/eval.jl:0",
      "  [3] invokelatest(::Any, ::Any, ::Vararg{Any}; kwargs::Base.Pairs{Symbol, Union{}, Tuple{}, NamedTuple{(), Tuple{}}})",
      "    @ Base ./essentials.jl:729",
      "  [4] invokelatest(::Any, ::Any, ::Vararg{Any})",
      "    @ Base ./essentials.jl:726",
      "  [5] gradient_3(::Function, ::IRTools.Inner.Variable, ::Vararg{IRTools.Inner.Variable})",
      "    @ Main ~/Documents/MIT/18.S191/autodiff_v3.jl:59",
      "  [6] derivative_rule(unknown_function::Function, args::Vector{Any}, i::Int64)",
      "    @ Main ./In[92]:19",
      "  [7] gradient_3(::Function, ::Int64, ::Vararg{Int64})",
      "    @ Main ~/Documents/MIT/18.S191/autodiff_v3.jl:31",
      "  [8] top-level scope",
      "    @ In[94]:1",
      "  [9] eval",
      "    @ ./boot.jl:368 [inlined]",
      " [10] include_string(mapexpr::typeof(REPL.softscope), mod::Module, code::String, filename::String)",
      "    @ Base ./loading.jl:1428"
     ]
    }
   ],
   "source": [
    "gradient_3(composite, 3, 5)"
   ]
  },
  {
   "cell_type": "code",
   "execution_count": 84,
   "id": "3ceea458",
   "metadata": {},
   "outputs": [
    {
     "ename": "LoadError",
     "evalue": "MethodError: no method matching derivative_rule(::typeof(mult))\n\u001b[0mClosest candidates are:\n\u001b[0m  derivative_rule(::Any, \u001b[91m::Any\u001b[39m, \u001b[91m::Any\u001b[39m) at In[83]:17\n\u001b[0m  derivative_rule(\u001b[91m::typeof(sin)\u001b[39m, \u001b[91m::Any\u001b[39m, \u001b[91m::Any\u001b[39m) at In[83]:1\n\u001b[0m  derivative_rule(\u001b[91m::typeof(+)\u001b[39m, \u001b[91m::Any\u001b[39m, \u001b[91m::Any\u001b[39m) at In[83]:5\n\u001b[0m  ...",
     "output_type": "error",
     "traceback": [
      "MethodError: no method matching derivative_rule(::typeof(mult))\n\u001b[0mClosest candidates are:\n\u001b[0m  derivative_rule(::Any, \u001b[91m::Any\u001b[39m, \u001b[91m::Any\u001b[39m) at In[83]:17\n\u001b[0m  derivative_rule(\u001b[91m::typeof(sin)\u001b[39m, \u001b[91m::Any\u001b[39m, \u001b[91m::Any\u001b[39m) at In[83]:1\n\u001b[0m  derivative_rule(\u001b[91m::typeof(+)\u001b[39m, \u001b[91m::Any\u001b[39m, \u001b[91m::Any\u001b[39m) at In[83]:5\n\u001b[0m  ...",
      "",
      "Stacktrace:",
      " [1] top-level scope",
      "   @ In[84]:1",
      " [2] eval",
      "   @ ./boot.jl:368 [inlined]",
      " [3] include_string(mapexpr::typeof(REPL.softscope), mod::Module, code::String, filename::String)",
      "   @ Base ./loading.jl:1428"
     ]
    }
   ],
   "source": [
    "derivative_rule(mult)"
   ]
  },
  {
   "cell_type": "code",
   "execution_count": null,
   "id": "a91b4341",
   "metadata": {},
   "outputs": [],
   "source": []
  }
 ],
 "metadata": {
  "kernelspec": {
   "display_name": "Julia 1.8.1",
   "language": "julia",
   "name": "julia-1.8"
  },
  "language_info": {
   "file_extension": ".jl",
   "mimetype": "application/julia",
   "name": "julia",
   "version": "1.8.1"
  }
 },
 "nbformat": 4,
 "nbformat_minor": 5
}
