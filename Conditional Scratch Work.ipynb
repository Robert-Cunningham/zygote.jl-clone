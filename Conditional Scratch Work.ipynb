{
 "cells": [
  {
   "cell_type": "code",
   "execution_count": 1,
   "id": "1740f2d0",
   "metadata": {},
   "outputs": [],
   "source": [
    "using IRTools"
   ]
  },
  {
   "cell_type": "code",
   "execution_count": 2,
   "id": "225897af",
   "metadata": {},
   "outputs": [
    {
     "ename": "LoadError",
     "evalue": "UndefVarError: conditional not defined",
     "output_type": "error",
     "traceback": [
      "UndefVarError: conditional not defined",
      "",
      "Stacktrace:",
      " [1] top-level scope",
      "   @ In[2]:1",
      " [2] eval",
      "   @ ./boot.jl:368 [inlined]",
      " [3] include_string(mapexpr::typeof(REPL.softscope), mod::Module, code::String, filename::String)",
      "   @ Base ./loading.jl:1428"
     ]
    }
   ],
   "source": [
    "IRTools.@code_ir conditional(1, 2)"
   ]
  },
  {
   "cell_type": "code",
   "execution_count": 3,
   "id": "5694d310",
   "metadata": {},
   "outputs": [
    {
     "data": {
      "text/plain": [
       "conditional (generic function with 1 method)"
      ]
     },
     "execution_count": 3,
     "metadata": {},
     "output_type": "execute_result"
    }
   ],
   "source": [
    "function conditional(a, b)\n",
    "    c = a * b\n",
    "    if a >= b\n",
    "        d = a * a\n",
    "        return d\n",
    "    else\n",
    "        e = b * b\n",
    "        return e\n",
    "    end\n",
    "end     "
   ]
  },
  {
   "cell_type": "code",
   "execution_count": 4,
   "id": "cc83113d",
   "metadata": {
    "scrolled": true
   },
   "outputs": [
    {
     "data": {
      "text/plain": [
       "1: (%1, %2, %3)\n",
       "  %4 = %2 * %3\n",
       "  %5 = %2 >= %3\n",
       "  br 3 unless %5\n",
       "2:\n",
       "  %6 = %2 * %2\n",
       "  return %6\n",
       "3:\n",
       "  %7 = %3 * %3\n",
       "  return %7"
      ]
     },
     "execution_count": 4,
     "metadata": {},
     "output_type": "execute_result"
    }
   ],
   "source": [
    "ir = IRTools.@code_ir conditional(1, 2)"
   ]
  },
  {
   "cell_type": "code",
   "execution_count": null,
   "id": "3185ee6b",
   "metadata": {},
   "outputs": [],
   "source": []
  },
  {
   "cell_type": "code",
   "execution_count": 5,
   "id": "902a2042",
   "metadata": {},
   "outputs": [
    {
     "data": {
      "text/plain": [
       "%8"
      ]
     },
     "execution_count": 5,
     "metadata": {},
     "output_type": "execute_result"
    }
   ],
   "source": [
    "IRTools.insert!(ir, IRTools.var(4), :(push!($(GlobalRef(Main, :l)), 3)))"
   ]
  },
  {
   "cell_type": "code",
   "execution_count": 6,
   "id": "513cdcbc",
   "metadata": {},
   "outputs": [
    {
     "data": {
      "text/plain": [
       "trace_executed_blocks (generic function with 1 method)"
      ]
     },
     "execution_count": 6,
     "metadata": {},
     "output_type": "execute_result"
    }
   ],
   "source": [
    "function trace_executed_blocks(f, args...)\n",
    "    global gradient_trace\n",
    "    gradient_trace = []\n",
    "    \n",
    "    ir = IRTools.@code_ir f(args...)\n",
    "    for m in eachmatch(r\"(\\d.*):.*\\n  %(\\d*)\", string(ir)) #we're using regex here because the IRTools API somehow doesn't expose the thing we want.\n",
    "        block_index, var_index = parse(Int64, m[1]), parse(Int64, m[2])\n",
    "        IRTools.insert!(ir, IRTools.var(var_index), :(push!($(GlobalRef(Main, :gradient_trace)), $(block_index))))\n",
    "    end\n",
    "    \n",
    "    Base.invokelatest(IRTools.func(ir), nothing, args...)\n",
    "    \n",
    "    return gradient_trace\n",
    "end"
   ]
  },
  {
   "cell_type": "code",
   "execution_count": 7,
   "id": "9ebc51c1",
   "metadata": {},
   "outputs": [
    {
     "data": {
      "text/plain": [
       "2-element Vector{Any}:\n",
       " 1\n",
       " 3"
      ]
     },
     "execution_count": 7,
     "metadata": {},
     "output_type": "execute_result"
    }
   ],
   "source": [
    "trace_executed_blocks(conditional, 4, 5)"
   ]
  },
  {
   "cell_type": "code",
   "execution_count": 34,
   "id": "a2e10577",
   "metadata": {},
   "outputs": [
    {
     "data": {
      "text/plain": [
       "1: (%1, %2, %3)\n",
       "  %8 = push!(Main.l, 3)\n",
       "  %4 = %2 * %3\n",
       "  %5 = %2 >= %3\n",
       "  br 2 unless %5\n",
       "2:\n",
       "  %6 = %2 * %2\n",
       "  return %6\n",
       "3: (%1, %2, %3)\n",
       "  br 2 unless %5"
      ]
     },
     "execution_count": 34,
     "metadata": {},
     "output_type": "execute_result"
    }
   ],
   "source": [
    "ir"
   ]
  },
  {
   "cell_type": "code",
   "execution_count": 10,
   "id": "8b0617ec",
   "metadata": {},
   "outputs": [
    {
     "ename": "LoadError",
     "evalue": "UndefVarError: l not defined",
     "output_type": "error",
     "traceback": [
      "UndefVarError: l not defined",
      "",
      "Stacktrace:",
      " [1] var\"##314\"(arg1::Nothing, arg2::Int64, arg3::Int64)",
      "   @ IRTools.Inner ~/.julia/packages/IRTools/017wp/src/eval.jl:18",
      " [2] top-level scope",
      "   @ In[10]:2",
      " [3] eval",
      "   @ ./boot.jl:368 [inlined]",
      " [4] include_string(mapexpr::typeof(REPL.softscope), mod::Module, code::String, filename::String)",
      "   @ Base ./loading.jl:1428"
     ]
    }
   ],
   "source": [
    "traced_func = IRTools.func(ir)\n",
    "traced_func(nothing, 3, 5)"
   ]
  },
  {
   "cell_type": "code",
   "execution_count": 11,
   "id": "6567a008",
   "metadata": {},
   "outputs": [
    {
     "data": {
      "text/plain": [
       "2-element Vector{Any}:\n",
       " 1\n",
       " 3"
      ]
     },
     "execution_count": 11,
     "metadata": {},
     "output_type": "execute_result"
    }
   ],
   "source": [
    "gradient_trace"
   ]
  },
  {
   "cell_type": "code",
   "execution_count": 12,
   "id": "25038ddc",
   "metadata": {},
   "outputs": [
    {
     "data": {
      "text/plain": [
       "1: (%1, %2, %3, %4)\n",
       "  %5 = IRTools.Inner.push!(Main.l, 3)\n",
       "  %6 = %3 * %4\n",
       "  %7 = %3 >= %4\n",
       "  br 3 unless %7\n",
       "2:\n",
       "  %8 = %3 * %3\n",
       "  return %8\n",
       "3:\n",
       "  %9 = %4 * %4\n",
       "  return %9"
      ]
     },
     "execution_count": 12,
     "metadata": {},
     "output_type": "execute_result"
    }
   ],
   "source": [
    "IRTools.@code_ir traced_func(nothing, 3, 5)"
   ]
  },
  {
   "cell_type": "code",
   "execution_count": 13,
   "id": "4e44d12f",
   "metadata": {},
   "outputs": [
    {
     "data": {
      "text/plain": [
       "4-element Vector{IRTools.Inner.BasicBlock}:\n",
       " IRTools.Inner.BasicBlock(IRTools.Inner.Statement[IRTools.Inner.Statement(:(push!(Main.l, 3)), Any, 0), IRTools.Inner.Statement(:(%2 * %3), Any, 1), IRTools.Inner.Statement(:(%2 >= %3), Any, 2)], Any[%1, %2, %3], Any[Any, Any, Any], IRTools.Inner.Branch[br 3 unless %5])\n",
       " IRTools.Inner.BasicBlock(IRTools.Inner.Statement[IRTools.Inner.Statement(:(%2 * %2), Any, 3)], Any[], Any[], IRTools.Inner.Branch[return %6])\n",
       " IRTools.Inner.BasicBlock(IRTools.Inner.Statement[IRTools.Inner.Statement(:(%3 * %3), Any, 5)], Any[], Any[], IRTools.Inner.Branch[return %7])\n",
       " IRTools.Inner.BasicBlock(IRTools.Inner.Statement[IRTools.Inner.Statement(:(push!(Main.l, 3)), Any, 0), IRTools.Inner.Statement(:(%2 * %3), Any, 1), IRTools.Inner.Statement(:(%2 >= %3), Any, 2)], Any[%1, %2, %3], Any[Any, Any, Any], IRTools.Inner.Branch[br 3 unless %5])"
      ]
     },
     "execution_count": 13,
     "metadata": {},
     "output_type": "execute_result"
    }
   ],
   "source": [
    "push!(ir.blocks, ir.blocks[1])"
   ]
  },
  {
   "cell_type": "code",
   "execution_count": 14,
   "id": "5c9346d4",
   "metadata": {},
   "outputs": [],
   "source": [
    "IRTools.deleteblock!(ir, 3)"
   ]
  },
  {
   "cell_type": "code",
   "execution_count": 15,
   "id": "5ef26d24",
   "metadata": {},
   "outputs": [
    {
     "ename": "LoadError",
     "evalue": "syntax: incomplete: premature end of input",
     "output_type": "error",
     "traceback": [
      "syntax: incomplete: premature end of input",
      "",
      "Stacktrace:",
      " [1] top-level scope",
      "   @ In[15]:1",
      " [2] eval",
      "   @ ./boot.jl:368 [inlined]",
      " [3] include_string(mapexpr::typeof(REPL.softscope), mod::Module, code::String, filename::String)",
      "   @ Base ./loading.jl:1428"
     ]
    }
   ],
   "source": [
    "IRTools."
   ]
  },
  {
   "cell_type": "code",
   "execution_count": 16,
   "id": "be455e28",
   "metadata": {},
   "outputs": [
    {
     "ename": "LoadError",
     "evalue": "syntax: incomplete: premature end of input",
     "output_type": "error",
     "traceback": [
      "syntax: incomplete: premature end of input",
      "",
      "Stacktrace:",
      " [1] top-level scope",
      "   @ In[16]:1",
      " [2] eval",
      "   @ ./boot.jl:368 [inlined]",
      " [3] include_string(mapexpr::typeof(REPL.softscope), mod::Module, code::String, filename::String)",
      "   @ Base ./loading.jl:1428"
     ]
    }
   ],
   "source": [
    "ir.blocks[1]."
   ]
  },
  {
   "cell_type": "code",
   "execution_count": 17,
   "id": "22bab401",
   "metadata": {},
   "outputs": [
    {
     "data": {
      "text/plain": [
       "IRTools.Inner.BasicBlock(IRTools.Inner.Statement[IRTools.Inner.Statement(:(push!(Main.l, 3)), Any, 0), IRTools.Inner.Statement(:(%2 * %3), Any, 1), IRTools.Inner.Statement(:(%2 >= %3), Any, 2)], Any[%1, %2, %3], Any[Any, Any, Any], IRTools.Inner.Branch[br 2 unless %5])"
      ]
     },
     "execution_count": 17,
     "metadata": {},
     "output_type": "execute_result"
    }
   ],
   "source": [
    "bl = ir.blocks[1]"
   ]
  },
  {
   "cell_type": "code",
   "execution_count": 18,
   "id": "f74b88d1",
   "metadata": {},
   "outputs": [
    {
     "data": {
      "text/plain": [
       "3-element Vector{IRTools.Inner.Statement}:\n",
       " IRTools.Inner.Statement(:(push!(Main.l, 3)), Any, 0)\n",
       " IRTools.Inner.Statement(:(%2 * %3), Any, 1)\n",
       " IRTools.Inner.Statement(:(%2 >= %3), Any, 2)"
      ]
     },
     "execution_count": 18,
     "metadata": {},
     "output_type": "execute_result"
    }
   ],
   "source": [
    "bl.stmts"
   ]
  },
  {
   "cell_type": "code",
   "execution_count": 19,
   "id": "91f769f9",
   "metadata": {},
   "outputs": [],
   "source": [
    "#push!(bl.stmts, 1, IRTools.Inner.Statement(:(println(\"yo\"))))"
   ]
  },
  {
   "cell_type": "code",
   "execution_count": 20,
   "id": "1f4c16ef",
   "metadata": {},
   "outputs": [
    {
     "ename": "LoadError",
     "evalue": "type Block has no field stmts",
     "output_type": "error",
     "traceback": [
      "type Block has no field stmts",
      "",
      "Stacktrace:",
      " [1] getproperty(x::IRTools.Inner.Block, f::Symbol)",
      "   @ Base ./Base.jl:38",
      " [2] top-level scope",
      "   @ ./In[20]:2",
      " [3] eval",
      "   @ ./boot.jl:368 [inlined]",
      " [4] include_string(mapexpr::typeof(REPL.softscope), mod::Module, code::String, filename::String)",
      "   @ Base ./loading.jl:1428"
     ]
    }
   ],
   "source": [
    "for (i,b) in Iterators.enumerate(IRTools.blocks(ir))\n",
    "    statements = b.stmts\n",
    "    \n",
    "    push!(b.stmts, IRTools.Statement(:(println($(i)))))\n",
    "    \n",
    "    #nb = IRTools.BasicBlock(statements, b.args, b.argtypes, b.branches)\n",
    "    \n",
    "    #print(nb)\n",
    "    #IRTools.pushfirst!(b.ir, :(println(\"yo\")))\n",
    "    println(b)\n",
    "end"
   ]
  },
  {
   "cell_type": "code",
   "execution_count": 21,
   "id": "87385f00",
   "metadata": {},
   "outputs": [
    {
     "name": "stdout",
     "output_type": "stream",
     "text": [
      "Array{IRTools.Inner.Branch}((1,))\n",
      "  1: IRTools.Inner.Branch\n",
      "    condition: IRTools.Inner.Variable\n",
      "      id: Int64 5\n",
      "    block: Int64 2\n",
      "    args: Array{Any}((0,))\n"
     ]
    }
   ],
   "source": [
    "dump(ir.blocks[1].branches)"
   ]
  },
  {
   "cell_type": "code",
   "execution_count": 22,
   "id": "25f6fb3b",
   "metadata": {},
   "outputs": [
    {
     "ename": "LoadError",
     "evalue": "UndefVarError: l not defined",
     "output_type": "error",
     "traceback": [
      "UndefVarError: l not defined",
      "",
      "Stacktrace:",
      " [1] var\"##316\"(arg1::Nothing, arg2::Int64, arg3::Int64)",
      "   @ IRTools.Inner ~/.julia/packages/IRTools/017wp/src/eval.jl:18",
      " [2] invokelatest(::Any, ::Any, ::Vararg{Any}; kwargs::Base.Pairs{Symbol, Union{}, Tuple{}, NamedTuple{(), Tuple{}}})",
      "   @ Base ./essentials.jl:729",
      " [3] invokelatest(::Any, ::Any, ::Vararg{Any})",
      "   @ Base ./essentials.jl:726",
      " [4] top-level scope",
      "   @ In[22]:1",
      " [5] eval",
      "   @ ./boot.jl:368 [inlined]",
      " [6] include_string(mapexpr::typeof(REPL.softscope), mod::Module, code::String, filename::String)",
      "   @ Base ./loading.jl:1428"
     ]
    }
   ],
   "source": [
    "Base.invokelatest(IRTools.func(ir), nothing, 3, 100)"
   ]
  },
  {
   "cell_type": "code",
   "execution_count": 23,
   "id": "1576154d",
   "metadata": {},
   "outputs": [
    {
     "name": "stdout",
     "output_type": "stream",
     "text": [
      "1: (%1, %2, %3)\n",
      "  %8 = push!(Main.l, 3)\n",
      "  %4 = %2 * %3\n",
      "  %5 = %2 >= %3\n",
      "  br 2 unless %5\n",
      "2:\n",
      "  %6 = %2 * %2\n",
      "  return %6\n",
      "3: (%1, %2, %3)\n",
      "  br 2 unless %5\n"
     ]
    }
   ],
   "source": [
    "println(ir)"
   ]
  },
  {
   "cell_type": "code",
   "execution_count": 49,
   "id": "b0d9ecbe",
   "metadata": {},
   "outputs": [
    {
     "data": {
      "text/plain": [
       "trace_executed_blocks (generic function with 1 method)"
      ]
     },
     "execution_count": 49,
     "metadata": {},
     "output_type": "execute_result"
    }
   ],
   "source": [
    "include(\"autodiff_v4.jl\")"
   ]
  },
  {
   "cell_type": "code",
   "execution_count": 45,
   "id": "8a66e98d",
   "metadata": {},
   "outputs": [
    {
     "data": {
      "text/plain": [
       "conditional (generic function with 1 method)"
      ]
     },
     "execution_count": 45,
     "metadata": {},
     "output_type": "execute_result"
    }
   ],
   "source": [
    "function conditional(a, b)\n",
    "    c = a * b\n",
    "    if a >= b\n",
    "        return a * a\n",
    "    else\n",
    "        c = a * b\n",
    "        return c * sin(c)\n",
    "    end    \n",
    "end"
   ]
  },
  {
   "cell_type": "code",
   "execution_count": 55,
   "id": "90493b46",
   "metadata": {},
   "outputs": [
    {
     "data": {
      "text/plain": [
       "4-element Vector{IRTools.Inner.Variable}:\n",
       " %8\n",
       " %4\n",
       " %5\n",
       " %6"
      ]
     },
     "execution_count": 55,
     "metadata": {},
     "output_type": "execute_result"
    }
   ],
   "source": [
    "keys(ir)"
   ]
  },
  {
   "cell_type": "code",
   "execution_count": 56,
   "id": "65a5f1e5",
   "metadata": {},
   "outputs": [
    {
     "data": {
      "text/plain": [
       "1: (%1, %2, %3)\n",
       "  %8 = push!(Main.l, 3)\n",
       "  %4 = %2 * %3\n",
       "  %5 = %2 >= %3\n",
       "  br 2 unless %5\n",
       "2:\n",
       "  %6 = %2 * %2\n",
       "  return %6\n",
       "3: (%1, %2, %3)\n",
       "  br 2 unless %5"
      ]
     },
     "execution_count": 56,
     "metadata": {},
     "output_type": "execute_result"
    }
   ],
   "source": [
    "ir"
   ]
  },
  {
   "cell_type": "code",
   "execution_count": 82,
   "id": "05c51cc5",
   "metadata": {},
   "outputs": [
    {
     "data": {
      "text/plain": [
       "conditional2 (generic function with 1 method)"
      ]
     },
     "execution_count": 82,
     "metadata": {},
     "output_type": "execute_result"
    }
   ],
   "source": [
    "function conditional2(a, b)\n",
    "    c = a * b * sin(b) * sin(a)\n",
    "    \n",
    "    if a >= b * 3\n",
    "        return a * a\n",
    "    elseif a >= b\n",
    "        c = a * b\n",
    "        return c * sin(c)\n",
    "    elseif (a) > sin(b)\n",
    "        return sin(b)\n",
    "    else\n",
    "        e = sin(sin(sin(a)) * b) * a\n",
    "    end    \n",
    "end     "
   ]
  },
  {
   "cell_type": "code",
   "execution_count": 79,
   "id": "e62681c4",
   "metadata": {},
   "outputs": [],
   "source": [
    "using Zygote"
   ]
  },
  {
   "cell_type": "code",
   "execution_count": 80,
   "id": "d3228df2",
   "metadata": {},
   "outputs": [
    {
     "data": {
      "text/plain": [
       "(0.0, 0.0)"
      ]
     },
     "execution_count": 80,
     "metadata": {},
     "output_type": "execute_result"
    }
   ],
   "source": [
    "Zygote.gradient(conditional2, 0, 2)"
   ]
  },
  {
   "cell_type": "code",
   "execution_count": 83,
   "id": "462e4e69",
   "metadata": {},
   "outputs": [
    {
     "name": "stdout",
     "output_type": "stream",
     "text": [
      "Dict{Any, Any}(5 => 1, 16 => 6, 20 => 7, 12 => 4, 8 => 1, 17 => 7, 19 => 7, 6 => 1, 11 => 4, 9 => 2, 14 => 5, 7 => 1, 4 => 1, 13 => 4, 15 => 5, 21 => 7, 10 => 3, 18 => 7)Any[1, 3, 5, 7]Dict{Any, Any}(4 => 13, 6 => 16, 7 => 21, 2 => 9)\n",
      "skipped 16\n",
      "skipped 13\n",
      "skipped 12\n",
      "skipped 11\n",
      "skipped 9\n",
      "1: (%1, %2, %3)\n",
      "  %4 = Main.sin(%3)\n",
      "  %5 = Main.sin(%2)\n",
      "  %6 = %2 * %3 * %4 * %5\n",
      "  %7 = %3 * 3\n",
      "  %8 = %2 >= %7\n",
      "  br 3 unless %8\n",
      "2:\n",
      "  %9 = %2 * %2\n",
      "  br 1 (%9)\n",
      "3:\n",
      "  %10 = %2 >= %3\n",
      "  br 5 unless %10\n",
      "4:\n",
      "  %11 = %2 * %3\n",
      "  %12 = Main.sin(%11)\n",
      "  %13 = %11 * %12\n",
      "  br 1 (%13)\n",
      "5:\n",
      "  %14 = Main.sin(%3)\n",
      "  %15 = %2 > %14\n",
      "  br 7 unless %15\n",
      "6:\n",
      "  %16 = Main.sin(%3)\n",
      "  br 1 (%16)\n",
      "7:\n",
      "  %17 = Main.sin(%2)\n",
      "  %18 = Main.sin(%17)\n",
      "  %19 = %18 * %3\n",
      "  %20 = Main.sin(%19)\n",
      "  %21 = %20 * %2\n",
      "  %22 = 1\n",
      "  %23 = 0\n",
      "  %24 = %22 * %2\n",
      "  %25 = %23 + %24\n",
      "  %26 = 0\n",
      "  %27 = %22 * %20\n",
      "  %28 = %26 + %27\n",
      "  %29 = 0\n",
      "  %30 = cos(%19)\n",
      "  %31 = %25 * %30\n",
      "  %32 = %29 + %31\n",
      "  %33 = 0\n",
      "  %34 = %32 * %3\n",
      "  %35 = %33 + %34\n",
      "  %36 = 0\n",
      "  %37 = %32 * %18\n",
      "  %38 = %36 + %37\n",
      "  %39 = 0\n",
      "  %40 = cos(%17)\n",
      "  %41 = %35 * %40\n",
      "  %42 = %39 + %41\n",
      "  %43 = 0\n",
      "  %44 = cos(%2)\n",
      "  %45 = %42 * %44\n",
      "  %46 = %28 + %45\n",
      "  %47 = nothing\n",
      "  %48 = Core.tuple(%21, %46, %38)\n",
      "  return %48\n"
     ]
    },
    {
     "data": {
      "text/plain": [
       "(0.0, 0.0)"
      ]
     },
     "execution_count": 83,
     "metadata": {},
     "output_type": "execute_result"
    }
   ],
   "source": [
    "gradient_4(conditional2, 0, 2)"
   ]
  },
  {
   "cell_type": "code",
   "execution_count": 5,
   "id": "fd4faab6",
   "metadata": {},
   "outputs": [
    {
     "data": {
      "text/plain": [
       "2-element Vector{Any}:\n",
       " 1\n",
       " 3"
      ]
     },
     "execution_count": 5,
     "metadata": {},
     "output_type": "execute_result"
    }
   ],
   "source": [
    "trace_executed_blocks(conditional, 3, 5)"
   ]
  },
  {
   "cell_type": "code",
   "execution_count": 11,
   "id": "7d4a4010",
   "metadata": {},
   "outputs": [
    {
     "data": {
      "text/plain": [
       "1: (%1, %2, %3)\n",
       "  %4 = %2 * %3\n",
       "  %5 = %2 >= %3\n",
       "  br 3 unless %5\n",
       "2:\n",
       "  %6 = %2 * %2\n",
       "  return %6\n",
       "3:\n",
       "  %7 = %2 * %3\n",
       "  %8 = Main.sin(%7)\n",
       "  %9 = %7 * %8\n",
       "  return %9"
      ]
     },
     "execution_count": 11,
     "metadata": {},
     "output_type": "execute_result"
    }
   ],
   "source": [
    "ir = IRTools.@code_ir conditional(5, 3)"
   ]
  },
  {
   "cell_type": "code",
   "execution_count": 12,
   "id": "70542a92",
   "metadata": {},
   "outputs": [],
   "source": [
    "IRTools.deleteblock!(ir, 3)"
   ]
  },
  {
   "cell_type": "code",
   "execution_count": 13,
   "id": "0861a059",
   "metadata": {},
   "outputs": [
    {
     "data": {
      "text/plain": [
       "1: (%1, %2, %3)\n",
       "  %4 = %2 * %3\n",
       "  %5 = %2 >= %3\n",
       "  br 3 unless %5\n",
       "2:\n",
       "  %6 = %2 * %2\n",
       "  return %6"
      ]
     },
     "execution_count": 13,
     "metadata": {},
     "output_type": "execute_result"
    }
   ],
   "source": [
    "ir"
   ]
  },
  {
   "cell_type": "code",
   "execution_count": 26,
   "id": "2d6de75e",
   "metadata": {},
   "outputs": [
    {
     "name": "stdout",
     "output_type": "stream",
     "text": [
      "Dict{Any, Any}(5 => 1, 4 => 1, 6 => 2, 7 => 3, 9 => 3, 8 => 3)Any[1, 2]Dict{Any, Any}(2 => 6, 3 => 9)\n",
      "skipped 9\n",
      "skipped 8\n",
      "skipped 7\n",
      "1: (%1, %2, %3)\n",
      "  %4 = %2 * %3\n",
      "  %5 = %2 >= %3\n",
      "  br 3 unless %5\n",
      "2:\n",
      "  %6 = %2 * %2\n",
      "  %10 = 1\n",
      "  %11 = 0\n",
      "  %12 = %10 * %2\n",
      "  %13 = %11 + %12\n",
      "  %14 = 0\n",
      "  %15 = %10 * %2\n",
      "  %16 = %13 + %15\n",
      "  %17 = nothing\n",
      "  %18 = Core.tuple(%6, %16, %17)\n",
      "  return %18\n"
     ]
    },
    {
     "data": {
      "text/plain": [
       "1: (%1, %2, %3)\n",
       "  %4 = %2 * %3\n",
       "  %5 = %2 >= %3\n",
       "  br 3 unless %5\n",
       "2:\n",
       "  %6 = %2 * %2\n",
       "  %10 = 1\n",
       "  %11 = 0\n",
       "  %12 = %10 * %2\n",
       "  %13 = %11 + %12\n",
       "  %14 = 0\n",
       "  %15 = %10 * %2\n",
       "  %16 = %13 + %15\n",
       "  %17 = nothing\n",
       "  %18 = Core.tuple(%6, %16, %17)\n",
       "  return %18"
      ]
     },
     "execution_count": 26,
     "metadata": {},
     "output_type": "execute_result"
    }
   ],
   "source": [
    "modified_ir = gradient_4(conditional, 5, 3)"
   ]
  },
  {
   "cell_type": "code",
   "execution_count": 5,
   "id": "d020344c",
   "metadata": {},
   "outputs": [
    {
     "data": {
      "text/plain": [
       "(-53.725154263626024, -32.23509255817561)"
      ]
     },
     "execution_count": 5,
     "metadata": {},
     "output_type": "execute_result"
    }
   ],
   "source": [
    "Zygote.gradient(conditional, 3, 5)"
   ]
  },
  {
   "cell_type": "code",
   "execution_count": 6,
   "id": "debe5e0c",
   "metadata": {},
   "outputs": [
    {
     "data": {
      "text/plain": [
       "(10.0, nothing)"
      ]
     },
     "execution_count": 6,
     "metadata": {},
     "output_type": "execute_result"
    }
   ],
   "source": [
    "Zygote.gradient(conditional, 5, 3)"
   ]
  },
  {
   "cell_type": "code",
   "execution_count": 27,
   "id": "80cf879b",
   "metadata": {},
   "outputs": [
    {
     "data": {
      "text/plain": [
       "primary (generic function with 1 method)"
      ]
     },
     "execution_count": 27,
     "metadata": {},
     "output_type": "execute_result"
    }
   ],
   "source": [
    "function primary(a, b)\n",
    "    x = function(n, m)\n",
    "        n + m\n",
    "    end\n",
    "    println(x(1, 4))\n",
    "    return a*b, function(c, d)\n",
    "        c * d\n",
    "    end\n",
    "end"
   ]
  },
  {
   "cell_type": "code",
   "execution_count": 28,
   "id": "68444112",
   "metadata": {},
   "outputs": [
    {
     "data": {
      "text/plain": [
       "1: (%1, %2, %3)\n",
       "  %4 = %new(Main.:(var\"#1#3\"))\n",
       "  %5 = (%4)(1, 4)\n",
       "  %6 = Main.println(%5)\n",
       "  %7 = %2 * %3\n",
       "  %8 = %new(Main.:(var\"#2#4\"))\n",
       "  %9 = Core.tuple(%7, %8)\n",
       "  return %9"
      ]
     },
     "execution_count": 28,
     "metadata": {},
     "output_type": "execute_result"
    }
   ],
   "source": [
    "IRTools.@code_ir primary(3, 5)"
   ]
  },
  {
   "cell_type": "code",
   "execution_count": 29,
   "id": "6abc43a2",
   "metadata": {},
   "outputs": [
    {
     "name": "stdout",
     "output_type": "stream",
     "text": [
      "5\n"
     ]
    },
    {
     "data": {
      "text/plain": [
       "(15, var\"#2#4\"())"
      ]
     },
     "execution_count": 29,
     "metadata": {},
     "output_type": "execute_result"
    }
   ],
   "source": [
    "primary(3, 5)"
   ]
  }
 ],
 "metadata": {
  "kernelspec": {
   "display_name": "Julia 1.8.1",
   "language": "julia",
   "name": "julia-1.8"
  },
  "language_info": {
   "file_extension": ".jl",
   "mimetype": "application/julia",
   "name": "julia",
   "version": "1.8.1"
  }
 },
 "nbformat": 4,
 "nbformat_minor": 5
}
